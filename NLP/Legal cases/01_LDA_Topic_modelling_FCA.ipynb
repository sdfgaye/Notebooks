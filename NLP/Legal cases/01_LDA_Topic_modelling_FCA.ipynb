{
  "cells": [
    {
      "cell_type": "markdown",
      "source": [
        "# LDA Topic Modelling\n",
        "\n",
        "Latent Dirichlet Allocation (LDA) is a powerful and widely used statistical topic modelling technique. It is used to uncover the hidden topics in a collection of documents, by uncovering the latent topics that occur in the documents. LDA is a generative probabilistic model that assumes each topic is a mixture over an underlying set of words and each document is a mixture of over a set of topics. LDA is unsupervised in nature, thus it requires no labeled data and can uncover the topics in any given collection of documents. It is a powerful tool for discovering abstract topics from a large collection of documents, and has been found to be highly effective in many applications."
      ],
      "metadata": {
        "id": "RpVvTxwvfbPs"
      },
      "id": "RpVvTxwvfbPs"
    },
    {
      "cell_type": "code",
      "execution_count": null,
      "id": "e3ea6ed9",
      "metadata": {
        "colab": {
          "base_uri": "https://localhost:8080/"
        },
        "id": "e3ea6ed9",
        "outputId": "9fbb2b82-20c8-48a0-ae98-30f118c3b241"
      },
      "outputs": [
        {
          "output_type": "stream",
          "name": "stdout",
          "text": [
            "Looking in indexes: https://pypi.org/simple, https://us-python.pkg.dev/colab-wheels/public/simple/\n",
            "Requirement already satisfied: gensim in /usr/local/lib/python3.8/dist-packages (3.6.0)\n",
            "Requirement already satisfied: numpy>=1.11.3 in /usr/local/lib/python3.8/dist-packages (from gensim) (1.22.4)\n",
            "Requirement already satisfied: six>=1.5.0 in /usr/local/lib/python3.8/dist-packages (from gensim) (1.15.0)\n",
            "Requirement already satisfied: scipy>=0.18.1 in /usr/local/lib/python3.8/dist-packages (from gensim) (1.7.3)\n",
            "Requirement already satisfied: smart-open>=1.2.1 in /usr/local/lib/python3.8/dist-packages (from gensim) (6.3.0)\n"
          ]
        }
      ],
      "source": [
        "!pip install gensim"
      ]
    },
    {
      "cell_type": "code",
      "execution_count": null,
      "id": "2bf6d8d0",
      "metadata": {
        "colab": {
          "base_uri": "https://localhost:8080/"
        },
        "id": "2bf6d8d0",
        "outputId": "29d41098-7fc3-4c4a-d0e8-026f90bf0e93"
      },
      "outputs": [
        {
          "output_type": "stream",
          "name": "stderr",
          "text": [
            "[nltk_data] Downloading package punkt to /root/nltk_data...\n",
            "[nltk_data]   Unzipping tokenizers/punkt.zip.\n",
            "[nltk_data] Downloading package stopwords to /root/nltk_data...\n",
            "[nltk_data]   Unzipping corpora/stopwords.zip.\n"
          ]
        }
      ],
      "source": [
        "import os\n",
        "import json\n",
        "import string\n",
        "from pathlib import Path\n",
        "from typing import Union\n",
        "from collections import Counter\n",
        "\n",
        "import pandas as pd\n",
        "import numpy as np\n",
        "import matplotlib.pyplot as plt\n",
        "from tabulate import tabulate\n",
        "from tqdm import notebook\n",
        "from bs4 import BeautifulSoup\n",
        "import re\n",
        "from sklearn.feature_extraction.text import CountVectorizer, TfidfVectorizer\n",
        "from wordcloud import WordCloud\n",
        "\n",
        "import nltk\n",
        "nltk.download('punkt')\n",
        "nltk.download('stopwords')\n",
        "from nltk.corpus import stopwords\n",
        "from nltk.tokenize import sent_tokenize, word_tokenize\n",
        "from nltk.stem import PorterStemmer, WordNetLemmatizer"
      ]
    },
    {
      "cell_type": "code",
      "execution_count": null,
      "id": "efe4d595",
      "metadata": {
        "id": "efe4d595"
      },
      "outputs": [],
      "source": [
        "#gensim librairies\n",
        "import gensim\n",
        "from gensim import corpora\n",
        "from pprint import pprint"
      ]
    },
    {
      "cell_type": "markdown",
      "id": "514fdc06",
      "metadata": {
        "id": "514fdc06"
      },
      "source": [
        "### Data"
      ]
    },
    {
      "cell_type": "code",
      "source": [
        "#Connection with my drive folder\n",
        "from google.colab import drive\n",
        "drive.mount(\"/content/drive\")"
      ],
      "metadata": {
        "colab": {
          "base_uri": "https://localhost:8080/"
        },
        "id": "m1PXQCqQOlAP",
        "outputId": "70d4aec5-bbcc-4890-ef82-6cc694661769"
      },
      "id": "m1PXQCqQOlAP",
      "execution_count": null,
      "outputs": [
        {
          "output_type": "stream",
          "name": "stdout",
          "text": [
            "Mounted at /content/drive\n"
          ]
        }
      ]
    },
    {
      "cell_type": "code",
      "execution_count": null,
      "id": "86ce1f44",
      "metadata": {
        "colab": {
          "base_uri": "https://localhost:8080/",
          "height": 49,
          "referenced_widgets": [
            "9e38c660860e44348566db2e75ae9891",
            "6844d7c89f26429cbcacef7066e10e2b",
            "7d0890e2f52a44feac0f3781c610c265",
            "20a727d504864e5099283780899204dd",
            "a1f26ea073db4d93be977f631a23e08e",
            "16a2cc379d9647af9eb6a3ff65e908f7",
            "3c1bfa0f0c984e6d8845eb3daef3dc50",
            "4c554c46c29e498d87dd05a2dc58ee1e",
            "c36e04e1173d4d71806f4167e884ad9e",
            "443f44cbf37f467d99afba0666703dab",
            "b1478aa2fbf94d0b9c57acda0c19d520"
          ]
        },
        "id": "86ce1f44",
        "outputId": "f06bf84d-c8a9-4090-de17-8481a22f64ac"
      },
      "outputs": [
        {
          "output_type": "display_data",
          "data": {
            "text/plain": [
              "  0%|          | 0/3890 [00:00<?, ?it/s]"
            ],
            "application/vnd.jupyter.widget-view+json": {
              "version_major": 2,
              "version_minor": 0,
              "model_id": "9e38c660860e44348566db2e75ae9891"
            }
          },
          "metadata": {}
        }
      ],
      "source": [
        "directory = 'drive/MyDrive/Colab_Notebooks/fulltext'\n",
        "\n",
        "data = dict()\n",
        "\n",
        "file_list = os.listdir(directory)\n",
        "\n",
        "for filename in notebook.tqdm(file_list):\n",
        "    with open(directory + \"/\" + filename, 'r') as f:\n",
        "        raw_data = f.read()\n",
        "    \n",
        "    bs_data = BeautifulSoup(raw_data,'xml')\n",
        "    \n",
        "    texts = list()\n",
        "    \n",
        "    if bs_data.findChild('sentences') == None:\n",
        "        # If there are no sentences, extract the text from each <text> tag\n",
        "        for tag in bs_data.find_all('text'):\n",
        "            texts.append(tag)\n",
        "    else:\n",
        "        # If there are sentences, extract the text from each <sentences> tag\n",
        "        for tag in bs_data.find_all('sentences'):\n",
        "            texts.append(tag)\n",
        "  \n",
        "  data[filename] = texts"
      ]
    },
    {
      "cell_type": "code",
      "execution_count": null,
      "id": "877280bc",
      "metadata": {
        "id": "877280bc"
      },
      "outputs": [],
      "source": [
        "def clean_data(doc:str) -> str:\n",
        "    x = re.sub(r'\\n', '', doc) #we remove \\n\n",
        "    x = re.sub(r\"\\'\", '', x)\n",
        "    return x"
      ]
    },
    {
      "cell_type": "code",
      "execution_count": null,
      "id": "cb9539ba",
      "metadata": {
        "id": "cb9539ba"
      },
      "outputs": [],
      "source": [
        "documents = [clean_data(data[key][0].text) for key in data.keys()]"
      ]
    },
    {
      "cell_type": "markdown",
      "source": [
        "### LDA"
      ],
      "metadata": {
        "id": "McEdp-ntarG-"
      },
      "id": "McEdp-ntarG-"
    },
    {
      "cell_type": "code",
      "source": [
        "commons_words = [\"mr\", \"ms\"]"
      ],
      "metadata": {
        "id": "hKAY4bCESVXc"
      },
      "id": "hKAY4bCESVXc",
      "execution_count": null,
      "outputs": []
    },
    {
      "cell_type": "markdown",
      "source": [
        "After several experiments, we came to the conclusion that the optimal number of clusters was 3."
      ],
      "metadata": {
        "id": "lEtbcbaD0gtT"
      },
      "id": "lEtbcbaD0gtT"
    },
    {
      "cell_type": "code",
      "execution_count": null,
      "id": "c13be955",
      "metadata": {
        "id": "c13be955"
      },
      "outputs": [],
      "source": [
        "# Tokenize words and remove stop words\n",
        "stopwords = gensim.parsing.preprocessing.STOPWORDS\n",
        "\n",
        "texts = [[word for word in document.lower().split() if (word not in stopwords) or (word not in commons_words)] for document in documents]\n",
        "\n",
        "# Create a dictionary from the documents\n",
        "dictionary = corpora.Dictionary(texts)\n",
        "\n",
        "# Create a corpus from the documents\n",
        "corpus = [dictionary.doc2bow(text) for text in texts]\n",
        "\n",
        "# Train LDA model\n",
        "lda_model = gensim.models.ldamodel.LdaModel(corpus=corpus,\n",
        "                                            id2word=dictionary,\n",
        "                                            num_topics=3, \n",
        "                                            random_state=100,\n",
        "                                            update_every=1,\n",
        "                                            chunksize=100,\n",
        "                                            passes=10,\n",
        "                                            alpha='auto',\n",
        "                                            per_word_topics=True)"
      ]
    },
    {
      "cell_type": "code",
      "execution_count": null,
      "id": "9d277022",
      "metadata": {
        "id": "9d277022"
      },
      "outputs": [],
      "source": [
        "results = list()\n",
        "docs = list()\n",
        "for i, doc in enumerate(corpus):\n",
        "    for topic, prob in lda_model.get_document_topics(doc, minimum_probability=0.5):\n",
        "        results.append(topic+1)\n",
        "        docs.append([\" \".join(texts[i]), topic+1])"
      ]
    },
    {
      "cell_type": "code",
      "source": [
        "pd.DataFrame(results).hist()\n",
        "\n",
        "plt.title(\"Distribution of topics\")\n",
        "plt.xlabel(\"topics\")\n",
        "plt.ylabel(\"Frequency\")\n",
        "plt.show()"
      ],
      "metadata": {
        "colab": {
          "base_uri": "https://localhost:8080/",
          "height": 295
        },
        "id": "ZxvRusHWf7fD",
        "outputId": "5e4d0409-08cc-464e-cd12-eb353e8e921f"
      },
      "id": "ZxvRusHWf7fD",
      "execution_count": null,
      "outputs": [
        {
          "output_type": "display_data",
          "data": {
            "text/plain": [
              "<Figure size 432x288 with 1 Axes>"
            ],
            "image/png": "[encoded data removed]"
          },
          "metadata": {
            "needs_background": "light"
          }
        }
      ]
    },
    {
      "cell_type": "code",
      "execution_count": null,
      "id": "068d8c86",
      "metadata": {
        "colab": {
          "base_uri": "https://localhost:8080/",
          "height": 295
        },
        "id": "068d8c86",
        "outputId": "6a74a418-19e8-4345-b553-013a5d05eb02",
        "cellView": "form"
      },
      "outputs": [
        {
          "output_type": "display_data",
          "data": {
            "text/plain": [
              "<Figure size 432x288 with 1 Axes>"
            ],
            "image/png": "[encoded data removed]"
          },
          "metadata": {
            "needs_background": "light"
          }
        }
      ],
      "source": [
        "#@title Sanity check\n",
        "pd.DataFrame(results).hist()\n",
        "\n",
        "plt.title(\"Distribution of topics\")\n",
        "plt.xlabel(\"topics\")\n",
        "plt.ylabel(\"Frequency\")\n",
        "plt.show()"
      ]
    },
    {
      "cell_type": "markdown",
      "id": "d3b00347",
      "metadata": {
        "id": "d3b00347"
      },
      "source": [
        "We explored a little more clusters but 3 seems to be the optimum. Here are the paramaters we used for this result:\n",
        "- num_topics=10\n",
        "- random_state=100\n",
        "- update_every=1\n",
        "- chunksize=2000\n",
        "- passes=20\n",
        "- alpha='auto'\n",
        "- eta=''auto\n",
        "- per_word_topics=True\n",
        "\n"
      ]
    },
    {
      "cell_type": "markdown",
      "source": [
        "### Top words for each cluster"
      ],
      "metadata": {
        "id": "6niB04_6Y9SS"
      },
      "id": "6niB04_6Y9SS"
    },
    {
      "cell_type": "code",
      "execution_count": null,
      "id": "ac200d09",
      "metadata": {
        "id": "ac200d09",
        "colab": {
          "base_uri": "https://localhost:8080/",
          "height": 423
        },
        "outputId": "f0836502-0394-4f5f-a78c-11e83613eca8"
      },
      "outputs": [
        {
          "output_type": "execute_result",
          "data": {
            "text/plain": [
              "                                                      0  1\n",
              "0     1 this appeal raises two issues on both of whi...  2\n",
              "1     1 this is a matter which is listed for judgmen...  2\n",
              "2     1 on 18 april 2008 the plaintiff (\"nationwide\"...  3\n",
              "3     1 on 29 february 2008 an application for an or...  3\n",
              "4     1 this is an appeal from an order made by a fe...  2\n",
              "...                                                 ... ..\n",
              "3753  1 the applicant is the registered proprietor o...  3\n",
              "3754  1 this is an application for an extension of t...  2\n",
              "3755  1 there are two notices of motion before me to...  3\n",
              "3756  introduction 1 marilyn mee ching pelka was in ...  2\n",
              "3757  1 this is an application for leave to appeal f...  2\n",
              "\n",
              "[3758 rows x 2 columns]"
            ],
            "text/html": [
              "\n",
              "  <div id=\"df-73857c11-12f4-4f1d-b904-efce41544b10\">\n",
              "    <div class=\"colab-df-container\">\n",
              "      <div>\n",
              "<style scoped>\n",
              "    .dataframe tbody tr th:only-of-type {\n",
              "        vertical-align: middle;\n",
              "    }\n",
              "\n",
              "    .dataframe tbody tr th {\n",
              "        vertical-align: top;\n",
              "    }\n",
              "\n",
              "    .dataframe thead th {\n",
              "        text-align: right;\n",
              "    }\n",
              "</style>\n",
              "<table border=\"1\" class=\"dataframe\">\n",
              "  <thead>\n",
              "    <tr style=\"text-align: right;\">\n",
              "      <th></th>\n",
              "      <th>0</th>\n",
              "      <th>1</th>\n",
              "    </tr>\n",
              "  </thead>\n",
              "  <tbody>\n",
              "    <tr>\n",
              "      <th>0</th>\n",
              "      <td>1 this appeal raises two issues on both of whi...</td>\n",
              "      <td>2</td>\n",
              "    </tr>\n",
              "    <tr>\n",
              "      <th>1</th>\n",
              "      <td>1 this is a matter which is listed for judgmen...</td>\n",
              "      <td>2</td>\n",
              "    </tr>\n",
              "    <tr>\n",
              "      <th>2</th>\n",
              "      <td>1 on 18 april 2008 the plaintiff (\"nationwide\"...</td>\n",
              "      <td>3</td>\n",
              "    </tr>\n",
              "    <tr>\n",
              "      <th>3</th>\n",
              "      <td>1 on 29 february 2008 an application for an or...</td>\n",
              "      <td>3</td>\n",
              "    </tr>\n",
              "    <tr>\n",
              "      <th>4</th>\n",
              "      <td>1 this is an appeal from an order made by a fe...</td>\n",
              "      <td>2</td>\n",
              "    </tr>\n",
              "    <tr>\n",
              "      <th>...</th>\n",
              "      <td>...</td>\n",
              "      <td>...</td>\n",
              "    </tr>\n",
              "    <tr>\n",
              "      <th>3753</th>\n",
              "      <td>1 the applicant is the registered proprietor o...</td>\n",
              "      <td>3</td>\n",
              "    </tr>\n",
              "    <tr>\n",
              "      <th>3754</th>\n",
              "      <td>1 this is an application for an extension of t...</td>\n",
              "      <td>2</td>\n",
              "    </tr>\n",
              "    <tr>\n",
              "      <th>3755</th>\n",
              "      <td>1 there are two notices of motion before me to...</td>\n",
              "      <td>3</td>\n",
              "    </tr>\n",
              "    <tr>\n",
              "      <th>3756</th>\n",
              "      <td>introduction 1 marilyn mee ching pelka was in ...</td>\n",
              "      <td>2</td>\n",
              "    </tr>\n",
              "    <tr>\n",
              "      <th>3757</th>\n",
              "      <td>1 this is an application for leave to appeal f...</td>\n",
              "      <td>2</td>\n",
              "    </tr>\n",
              "  </tbody>\n",
              "</table>\n",
              "<p>3758 rows × 2 columns</p>\n",
              "</div>\n",
              "      <button class=\"colab-df-convert\" onclick=\"convertToInteractive('df-73857c11-12f4-4f1d-b904-efce41544b10')\"\n",
              "              title=\"Convert this dataframe to an interactive table.\"\n",
              "              style=\"display:none;\">\n",
              "        \n",
              "  <svg xmlns=\"http://www.w3.org/2000/svg\" height=\"24px\"viewBox=\"0 0 24 24\"\n",
              "       width=\"24px\">\n",
              "    <path d=\"M0 0h24v24H0V0z\" fill=\"none\"/>\n",
              "    <path d=\"M18.56 5.44l.94 2.06.94-2.06 2.06-.94-2.06-.94-.94-2.06-.94 2.06-2.06.94zm-11 1L8.5 8.5l.94-2.06 2.06-.94-2.06-.94L8.5 2.5l-.94 2.06-2.06.94zm10 10l.94 2.06.94-2.06 2.06-.94-2.06-.94-.94-2.06-.94 2.06-2.06.94z\"/><path d=\"M17.41 7.96l-1.37-1.37c-.4-.4-.92-.59-1.43-.59-.52 0-1.04.2-1.43.59L10.3 9.45l-7.72 7.72c-.78.78-.78 2.05 0 2.83L4 21.41c.39.39.9.59 1.41.59.51 0 1.02-.2 1.41-.59l7.78-7.78 2.81-2.81c.8-.78.8-2.07 0-2.86zM5.41 20L4 18.59l7.72-7.72 1.47 1.35L5.41 20z\"/>\n",
              "  </svg>\n",
              "      </button>\n",
              "      \n",
              "  <style>\n",
              "    .colab-df-container {\n",
              "      display:flex;\n",
              "      flex-wrap:wrap;\n",
              "      gap: 12px;\n",
              "    }\n",
              "\n",
              "    .colab-df-convert {\n",
              "      background-color: #E8F0FE;\n",
              "      border: none;\n",
              "      border-radius: 50%;\n",
              "      cursor: pointer;\n",
              "      display: none;\n",
              "      fill: #1967D2;\n",
              "      height: 32px;\n",
              "      padding: 0 0 0 0;\n",
              "      width: 32px;\n",
              "    }\n",
              "\n",
              "    .colab-df-convert:hover {\n",
              "      background-color: #E2EBFA;\n",
              "      box-shadow: 0px 1px 2px rgba(60, 64, 67, 0.3), 0px 1px 3px 1px rgba(60, 64, 67, 0.15);\n",
              "      fill: #174EA6;\n",
              "    }\n",
              "\n",
              "    [theme=dark] .colab-df-convert {\n",
              "      background-color: #3B4455;\n",
              "      fill: #D2E3FC;\n",
              "    }\n",
              "\n",
              "    [theme=dark] .colab-df-convert:hover {\n",
              "      background-color: #434B5C;\n",
              "      box-shadow: 0px 1px 3px 1px rgba(0, 0, 0, 0.15);\n",
              "      filter: drop-shadow(0px 1px 2px rgba(0, 0, 0, 0.3));\n",
              "      fill: #FFFFFF;\n",
              "    }\n",
              "  </style>\n",
              "\n",
              "      <script>\n",
              "        const buttonEl =\n",
              "          document.querySelector('#df-73857c11-12f4-4f1d-b904-efce41544b10 button.colab-df-convert');\n",
              "        buttonEl.style.display =\n",
              "          google.colab.kernel.accessAllowed ? 'block' : 'none';\n",
              "\n",
              "        async function convertToInteractive(key) {\n",
              "          const element = document.querySelector('#df-73857c11-12f4-4f1d-b904-efce41544b10');\n",
              "          const dataTable =\n",
              "            await google.colab.kernel.invokeFunction('convertToInteractive',\n",
              "                                                     [key], {});\n",
              "          if (!dataTable) return;\n",
              "\n",
              "          const docLinkHtml = 'Like what you see? Visit the ' +\n",
              "            '<a target=\"_blank\" href=https://colab.research.google.com/notebooks/data_table.ipynb>data table notebook</a>'\n",
              "            + ' to learn more about interactive tables.';\n",
              "          element.innerHTML = '';\n",
              "          dataTable['output_type'] = 'display_data';\n",
              "          await google.colab.output.renderOutput(dataTable, element);\n",
              "          const docLink = document.createElement('div');\n",
              "          docLink.innerHTML = docLinkHtml;\n",
              "          element.appendChild(docLink);\n",
              "        }\n",
              "      </script>\n",
              "    </div>\n",
              "  </div>\n",
              "  "
            ]
          },
          "metadata": {},
          "execution_count": 41
        }
      ],
      "source": [
        "df_doc = pd.DataFrame(docs)\n",
        "df_doc"
      ]
    },
    {
      "cell_type": "code",
      "execution_count": null,
      "id": "9a02373a",
      "metadata": {
        "id": "9a02373a"
      },
      "outputs": [],
      "source": [
        "def extract_top_words(documents):\n",
        "    # Create a TF-IDF vectorizer\n",
        "    vectorizer = TfidfVectorizer(stop_words='english')\n",
        "    # Fit and transform the documents\n",
        "    tfidf_matrix = vectorizer.fit_transform(documents)\n",
        "    # Get the feature names (i.e. words)\n",
        "    feature_names = vectorizer.get_feature_names()\n",
        "    # Get the TF-IDF scores for each word in each document\n",
        "    tfidf_scores = tfidf_matrix.toarray()\n",
        "    # Compute the mean TF-IDF score for each word across all documents\n",
        "    mean_tfidf_scores = tfidf_scores.mean(axis=0)\n",
        "    # Sort the words by their mean TF-IDF score\n",
        "    top_words_indices = mean_tfidf_scores.argsort()[::-1][:20]\n",
        "    top_words = [feature_names[i] for i in top_words_indices]\n",
        "    return top_words"
      ]
    },
    {
      "cell_type": "markdown",
      "source": [
        "TF-IDF stands for \"term frequency-inverse document frequency\". It is a numerical statistic that is commonly used in natural language processing and information retrieval to evaluate the importance of a word in a document."
      ],
      "metadata": {
        "id": "wz1tsPZvq6tg"
      },
      "id": "wz1tsPZvq6tg"
    },
    {
      "cell_type": "code",
      "source": [
        "def stem(tokens: list) -> list:\n",
        "  \"\"\"\n",
        "  Stems the tokens using Porter stemmer.\n",
        "  \"\"\"\n",
        "  stemmer = PorterStemmer()\n",
        "  return [stemmer.stem(token) for token in tokens]\n",
        "\n",
        "\n",
        "def remove_short_tokens(tokens: list) -> list:\n",
        "    \"\"\"\n",
        "    Removes tokens with length <= 2.\n",
        "    \"\"\"\n",
        "    return [token for token in tokens if len(token) > 2]"
      ],
      "metadata": {
        "id": "P-CLaAGRswkj"
      },
      "id": "P-CLaAGRswkj",
      "execution_count": null,
      "outputs": []
    },
    {
      "cell_type": "code",
      "source": [
        "def get_frequency_of_words(texts: list, filter_list: list) -> pd.DataFrame:\n",
        "    \"\"\"\n",
        "    Returns the frequency of words in a list of texts that are present in a filter list.\n",
        "\n",
        "    Args:\n",
        "    - texts (list): A list of strings to process.\n",
        "    - filter_list (list): A list of words to filter by.\n",
        "\n",
        "    Returns:\n",
        "    - A pandas DataFrame with two columns: 'words' and 'count', sorted by count in descending order.\n",
        "    \"\"\"\n",
        "\n",
        "    # Create a CountVectorizer object with the desired n-gram range and stop words\n",
        "    vectorizer = CountVectorizer(vocabulary=filter_list)\n",
        "    # Fit and transform the input texts\n",
        "    X = vectorizer.fit_transform(texts)\n",
        "\n",
        "    # Get the word names and their counts\n",
        "    words = vectorizer.get_feature_names()\n",
        "    counts = X.toarray().sum(axis=0)\n",
        "\n",
        "    res = [[count, word] for word, count in zip(words, counts) if count > 0]\n",
        "\n",
        "    res.sort(reverse=True)\n",
        "\n",
        "    df_count = pd.DataFrame(res, columns=['count', 'words'])\n",
        "    return df_count"
      ],
      "metadata": {
        "id": "7mbYG5UPmgWd"
      },
      "id": "7mbYG5UPmgWd",
      "execution_count": null,
      "outputs": []
    },
    {
      "cell_type": "code",
      "execution_count": null,
      "id": "41ec30e8",
      "metadata": {
        "colab": {
          "base_uri": "https://localhost:8080/"
        },
        "id": "41ec30e8",
        "outputId": "fb18d4b7-eefd-4c35-d94f-767f3cd1946f"
      },
      "outputs": [
        {
          "output_type": "stream",
          "name": "stdout",
          "text": [
            "------------ top words based on TF-IDF for cluster 2-------------\n",
            "Top words for cluster 2: tribunal, appellant, applicant, decision, court, application, appeal, federal, appellants, act, evidence, minister, review, magistrate, did, hearing, information, 2006, visa, mr\n",
            "------------ top words based on TF-IDF for cluster 3-------------\n",
            "Top words for cluster 3: mr, court, act, applicant, respondent, respondents, costs, order, applicants, application, evidence, claim, 2006, 2007, 2008, case, proceedings, 2009, company, orders\n",
            "------------ top words based on TF-IDF for cluster 1-------------\n",
            "Top words for cluster 1: native, area, title, scheme, determination, act, rights, interests, land, yawuru, claim, people, traditional, waters, court, aboriginal, group, application, lease, areas\n"
          ]
        }
      ],
      "source": [
        "res = dict()\n",
        "for i in df_doc[1].unique():\n",
        "  cluster_doc = df_doc[0][df_doc[1]==i].values\n",
        "  print(\"------------ top words based on TF-IDF for cluster \"+ str(i) +\"-------------\")\n",
        "  top_words = extract_top_words(cluster_doc)\n",
        "  res[i] = list(dict.fromkeys(remove_short_tokens(top_words)))\n",
        "  print(f\"Top words for cluster {i}: {', '.join(top_words)}\")"
      ]
    },
    {
      "cell_type": "code",
      "source": [
        "#@title Top words by keywords after removing common words between clusters\n",
        "print(\"-----------------------------------------------------------------------------------------------\")\n",
        "print(f\"Top words for cluster {1}: {', '.join(list(set(res[1]) - set(res[2]) - set(res[3])))}\")\n",
        "print(get_frequency_of_words(df_doc[0][df_doc[1]==i].values, list(set(res[1]) - set(res[2]) - set(res[3]))))\n",
        "print(\"-----------------------------------------------------------------------------------------------\")\n",
        "print(f\"Top words for cluster {2}: {', '.join(list(set(res[2]) - set(res[1]) - set(res[3])))}\")\n",
        "print(get_frequency_of_words(df_doc[0][df_doc[1]==2].values, list(set(res[2]) - set(res[1]) - set(res[3]))))\n",
        "print(\"-----------------------------------------------------------------------------------------------\")\n",
        "print(f\"Top words for cluster {3}: {', '.join(list(set(res[3]) - set(res[1]) - set(res[2])))}\")\n",
        "print(get_frequency_of_words(df_doc[0][df_doc[1]==3].values, list(set(res[3]) - set(res[1]) - set(res[2]))))"
      ],
      "metadata": {
        "colab": {
          "base_uri": "https://localhost:8080/"
        },
        "id": "hx5xu7e0p_Xv",
        "outputId": "a0565728-066c-492c-9d30-7ae062f6d01c"
      },
      "id": "hx5xu7e0p_Xv",
      "execution_count": null,
      "outputs": [
        {
          "output_type": "stream",
          "name": "stdout",
          "text": [
            "-----------------------------------------------------------------------------------------------\n",
            "Top words for cluster 1: lease, land, rights, determination, yawuru, waters, area, aboriginal, interests, people, title, native, group, scheme, traditional, areas\n"
          ]
        },
        {
          "output_type": "stream",
          "name": "stderr",
          "text": [
            "/usr/local/lib/python3.8/dist-packages/sklearn/utils/deprecation.py:87: FutureWarning: Function get_feature_names is deprecated; get_feature_names is deprecated in 1.0 and will be removed in 1.2. Please use get_feature_names_out instead.\n",
            "  warnings.warn(msg, category=FutureWarning)\n"
          ]
        },
        {
          "output_type": "stream",
          "name": "stdout",
          "text": [
            "    count          words\n",
            "0    4164         scheme\n",
            "1    1316          title\n",
            "2    1301           area\n",
            "3    1288         native\n",
            "4    1057  determination\n",
            "5     953         rights\n",
            "6     830         yawuru\n",
            "7     818      interests\n",
            "8     777           land\n",
            "9     677          group\n",
            "10    547    traditional\n",
            "11    543         people\n",
            "12    499          lease\n",
            "13    376         waters\n",
            "14    299          areas\n",
            "15    284     aboriginal\n",
            "-----------------------------------------------------------------------------------------------\n",
            "Top words for cluster 2: appellants, review, hearing, did, appeal, decision, appellant, magistrate, tribunal, federal, visa, information, minister\n"
          ]
        },
        {
          "output_type": "stream",
          "name": "stderr",
          "text": [
            "/usr/local/lib/python3.8/dist-packages/sklearn/utils/deprecation.py:87: FutureWarning: Function get_feature_names is deprecated; get_feature_names is deprecated in 1.0 and will be removed in 1.2. Please use get_feature_names_out instead.\n",
            "  warnings.warn(msg, category=FutureWarning)\n"
          ]
        },
        {
          "output_type": "stream",
          "name": "stdout",
          "text": [
            "    count        words\n",
            "0   50903     tribunal\n",
            "1   26669    appellant\n",
            "2   26386     decision\n",
            "3   14616       appeal\n",
            "4   12865          did\n",
            "5   12705      federal\n",
            "6   12346     minister\n",
            "7   11539       review\n",
            "8   10944   appellants\n",
            "9   10903      hearing\n",
            "10   9683         visa\n",
            "11   9043  information\n",
            "12   7313   magistrate\n",
            "-----------------------------------------------------------------------------------------------\n",
            "Top words for cluster 3: order, 2009, company, orders, 2008, costs, respondent, applicants, proceedings, 2007, case, respondents\n",
            "    count        words\n",
            "0   29400   respondent\n",
            "1   29387         case\n",
            "2   28518        order\n",
            "3   23582  respondents\n",
            "4   23565   applicants\n",
            "5   21725        costs\n",
            "6   19489      company\n",
            "7   18543  proceedings\n",
            "8   18059         2007\n",
            "9   14688       orders\n",
            "10  13872         2008\n",
            "11   8932         2009\n"
          ]
        },
        {
          "output_type": "stream",
          "name": "stderr",
          "text": [
            "/usr/local/lib/python3.8/dist-packages/sklearn/utils/deprecation.py:87: FutureWarning: Function get_feature_names is deprecated; get_feature_names is deprecated in 1.0 and will be removed in 1.2. Please use get_feature_names_out instead.\n",
            "  warnings.warn(msg, category=FutureWarning)\n"
          ]
        }
      ]
    },
    {
      "cell_type": "markdown",
      "source": [
        "The data presented pertains to cases handled by the Australian Federal Court, which is the highest court in the Australian federal judiciary system. As in many federal countries, Australia has courts at various levels, such as local, state, and federal civil courts. The Federal Court is therefore the final court of appeal for parties dissatisfied with decisions made by lower courts.\n",
        "\n",
        "The first cluster of data groups together decisions made by lower courts. The terms used, such as \"rights,\" \"yawuru,\" \"native\", \"area\" might refer to civil cases.\n",
        "\n",
        "The second cluster of data groups together appeal decisions. The terms used, such as \"appeal,\" \"tribunal,\" \"decision,\" and \"federal,\" indicate that these are parties dissatisfied with decisions made by lower courts and who have appealed to the Federal Court.\n",
        "\n",
        "Finally, the third cluster of data groups together decisions made by the Federal Court. The terms used, such as \"order\" and \"cost,\" indicate that these are final decisions and associated costs, as presented on the official website of the Australian Federal Court."
      ],
      "metadata": {
        "id": "ZfBZJidOdxEq"
      },
      "id": "ZfBZJidOdxEq"
    },
    {
      "cell_type": "markdown",
      "source": [
        "**If we had more time**:\n",
        "\n",
        "It would be interesting to integrate the result of NER (named entity recognition) to perform LDA (directed hierarchical classification model). For example, replacing all MISC entities with the word MISC would reduce noise and group the data under one term. While this is not something that can be tested quickly, it is worth discussing."
      ],
      "metadata": {
        "id": "hRwBjvZ6ZCXx"
      },
      "id": "hRwBjvZ6ZCXx"
    }
  ],
  "metadata": {
    "kernelspec": {
      "display_name": "Python 3 (ipykernel)",
      "language": "python",
      "name": "python3"
    },
    "language_info": {
      "codemirror_mode": {
        "name": "ipython",
        "version": 3
      },
      "file_extension": ".py",
      "mimetype": "text/x-python",
      "name": "python",
      "nbconvert_exporter": "python",
      "pygments_lexer": "ipython3",
      "version": "3.9.13"
    },
    "colab": {
      "provenance": []
    },
    "widgets": {
      "application/vnd.jupyter.widget-state+json": {
        "9e38c660860e44348566db2e75ae9891": {
          "model_module": "@jupyter-widgets/controls",
          "model_name": "HBoxModel",
          "model_module_version": "1.5.0",
          "state": {
            "_dom_classes": [],
            "_model_module": "@jupyter-widgets/controls",
            "_model_module_version": "1.5.0",
            "_model_name": "HBoxModel",
            "_view_count": null,
            "_view_module": "@jupyter-widgets/controls",
            "_view_module_version": "1.5.0",
            "_view_name": "HBoxView",
            "box_style": "",
            "children": [
              "IPY_MODEL_6844d7c89f26429cbcacef7066e10e2b",
              "IPY_MODEL_7d0890e2f52a44feac0f3781c610c265",
              "IPY_MODEL_20a727d504864e5099283780899204dd"
            ],
            "layout": "IPY_MODEL_a1f26ea073db4d93be977f631a23e08e"
          }
        },
        "6844d7c89f26429cbcacef7066e10e2b": {
          "model_module": "@jupyter-widgets/controls",
          "model_name": "HTMLModel",
          "model_module_version": "1.5.0",
          "state": {
            "_dom_classes": [],
            "_model_module": "@jupyter-widgets/controls",
            "_model_module_version": "1.5.0",
            "_model_name": "HTMLModel",
            "_view_count": null,
            "_view_module": "@jupyter-widgets/controls",
            "_view_module_version": "1.5.0",
            "_view_name": "HTMLView",
            "description": "",
            "description_tooltip": null,
            "layout": "IPY_MODEL_16a2cc379d9647af9eb6a3ff65e908f7",
            "placeholder": "​",
            "style": "IPY_MODEL_3c1bfa0f0c984e6d8845eb3daef3dc50",
            "value": "100%"
          }
        },
        "7d0890e2f52a44feac0f3781c610c265": {
          "model_module": "@jupyter-widgets/controls",
          "model_name": "FloatProgressModel",
          "model_module_version": "1.5.0",
          "state": {
            "_dom_classes": [],
            "_model_module": "@jupyter-widgets/controls",
            "_model_module_version": "1.5.0",
            "_model_name": "FloatProgressModel",
            "_view_count": null,
            "_view_module": "@jupyter-widgets/controls",
            "_view_module_version": "1.5.0",
            "_view_name": "ProgressView",
            "bar_style": "success",
            "description": "",
            "description_tooltip": null,
            "layout": "IPY_MODEL_4c554c46c29e498d87dd05a2dc58ee1e",
            "max": 3890,
            "min": 0,
            "orientation": "horizontal",
            "style": "IPY_MODEL_c36e04e1173d4d71806f4167e884ad9e",
            "value": 3890
          }
        },
        "20a727d504864e5099283780899204dd": {
          "model_module": "@jupyter-widgets/controls",
          "model_name": "HTMLModel",
          "model_module_version": "1.5.0",
          "state": {
            "_dom_classes": [],
            "_model_module": "@jupyter-widgets/controls",
            "_model_module_version": "1.5.0",
            "_model_name": "HTMLModel",
            "_view_count": null,
            "_view_module": "@jupyter-widgets/controls",
            "_view_module_version": "1.5.0",
            "_view_name": "HTMLView",
            "description": "",
            "description_tooltip": null,
            "layout": "IPY_MODEL_443f44cbf37f467d99afba0666703dab",
            "placeholder": "​",
            "style": "IPY_MODEL_b1478aa2fbf94d0b9c57acda0c19d520",
            "value": " 3890/3890 [02:23&lt;00:00, 87.07it/s]"
          }
        },
        "a1f26ea073db4d93be977f631a23e08e": {
          "model_module": "@jupyter-widgets/base",
          "model_name": "LayoutModel",
          "model_module_version": "1.2.0",
          "state": {
            "_model_module": "@jupyter-widgets/base",
            "_model_module_version": "1.2.0",
            "_model_name": "LayoutModel",
            "_view_count": null,
            "_view_module": "@jupyter-widgets/base",
            "_view_module_version": "1.2.0",
            "_view_name": "LayoutView",
            "align_content": null,
            "align_items": null,
            "align_self": null,
            "border": null,
            "bottom": null,
            "display": null,
            "flex": null,
            "flex_flow": null,
            "grid_area": null,
            "grid_auto_columns": null,
            "grid_auto_flow": null,
            "grid_auto_rows": null,
            "grid_column": null,
            "grid_gap": null,
            "grid_row": null,
            "grid_template_areas": null,
            "grid_template_columns": null,
            "grid_template_rows": null,
            "height": null,
            "justify_content": null,
            "justify_items": null,
            "left": null,
            "margin": null,
            "max_height": null,
            "max_width": null,
            "min_height": null,
            "min_width": null,
            "object_fit": null,
            "object_position": null,
            "order": null,
            "overflow": null,
            "overflow_x": null,
            "overflow_y": null,
            "padding": null,
            "right": null,
            "top": null,
            "visibility": null,
            "width": null
          }
        },
        "16a2cc379d9647af9eb6a3ff65e908f7": {
          "model_module": "@jupyter-widgets/base",
          "model_name": "LayoutModel",
          "model_module_version": "1.2.0",
          "state": {
            "_model_module": "@jupyter-widgets/base",
            "_model_module_version": "1.2.0",
            "_model_name": "LayoutModel",
            "_view_count": null,
            "_view_module": "@jupyter-widgets/base",
            "_view_module_version": "1.2.0",
            "_view_name": "LayoutView",
            "align_content": null,
            "align_items": null,
            "align_self": null,
            "border": null,
            "bottom": null,
            "display": null,
            "flex": null,
            "flex_flow": null,
            "grid_area": null,
            "grid_auto_columns": null,
            "grid_auto_flow": null,
            "grid_auto_rows": null,
            "grid_column": null,
            "grid_gap": null,
            "grid_row": null,
            "grid_template_areas": null,
            "grid_template_columns": null,
            "grid_template_rows": null,
            "height": null,
            "justify_content": null,
            "justify_items": null,
            "left": null,
            "margin": null,
            "max_height": null,
            "max_width": null,
            "min_height": null,
            "min_width": null,
            "object_fit": null,
            "object_position": null,
            "order": null,
            "overflow": null,
            "overflow_x": null,
            "overflow_y": null,
            "padding": null,
            "right": null,
            "top": null,
            "visibility": null,
            "width": null
          }
        },
        "3c1bfa0f0c984e6d8845eb3daef3dc50": {
          "model_module": "@jupyter-widgets/controls",
          "model_name": "DescriptionStyleModel",
          "model_module_version": "1.5.0",
          "state": {
            "_model_module": "@jupyter-widgets/controls",
            "_model_module_version": "1.5.0",
            "_model_name": "DescriptionStyleModel",
            "_view_count": null,
            "_view_module": "@jupyter-widgets/base",
            "_view_module_version": "1.2.0",
            "_view_name": "StyleView",
            "description_width": ""
          }
        },
        "4c554c46c29e498d87dd05a2dc58ee1e": {
          "model_module": "@jupyter-widgets/base",
          "model_name": "LayoutModel",
          "model_module_version": "1.2.0",
          "state": {
            "_model_module": "@jupyter-widgets/base",
            "_model_module_version": "1.2.0",
            "_model_name": "LayoutModel",
            "_view_count": null,
            "_view_module": "@jupyter-widgets/base",
            "_view_module_version": "1.2.0",
            "_view_name": "LayoutView",
            "align_content": null,
            "align_items": null,
            "align_self": null,
            "border": null,
            "bottom": null,
            "display": null,
            "flex": null,
            "flex_flow": null,
            "grid_area": null,
            "grid_auto_columns": null,
            "grid_auto_flow": null,
            "grid_auto_rows": null,
            "grid_column": null,
            "grid_gap": null,
            "grid_row": null,
            "grid_template_areas": null,
            "grid_template_columns": null,
            "grid_template_rows": null,
            "height": null,
            "justify_content": null,
            "justify_items": null,
            "left": null,
            "margin": null,
            "max_height": null,
            "max_width": null,
            "min_height": null,
            "min_width": null,
            "object_fit": null,
            "object_position": null,
            "order": null,
            "overflow": null,
            "overflow_x": null,
            "overflow_y": null,
            "padding": null,
            "right": null,
            "top": null,
            "visibility": null,
            "width": null
          }
        },
        "c36e04e1173d4d71806f4167e884ad9e": {
          "model_module": "@jupyter-widgets/controls",
          "model_name": "ProgressStyleModel",
          "model_module_version": "1.5.0",
          "state": {
            "_model_module": "@jupyter-widgets/controls",
            "_model_module_version": "1.5.0",
            "_model_name": "ProgressStyleModel",
            "_view_count": null,
            "_view_module": "@jupyter-widgets/base",
            "_view_module_version": "1.2.0",
            "_view_name": "StyleView",
            "bar_color": null,
            "description_width": ""
          }
        },
        "443f44cbf37f467d99afba0666703dab": {
          "model_module": "@jupyter-widgets/base",
          "model_name": "LayoutModel",
          "model_module_version": "1.2.0",
          "state": {
            "_model_module": "@jupyter-widgets/base",
            "_model_module_version": "1.2.0",
            "_model_name": "LayoutModel",
            "_view_count": null,
            "_view_module": "@jupyter-widgets/base",
            "_view_module_version": "1.2.0",
            "_view_name": "LayoutView",
            "align_content": null,
            "align_items": null,
            "align_self": null,
            "border": null,
            "bottom": null,
            "display": null,
            "flex": null,
            "flex_flow": null,
            "grid_area": null,
            "grid_auto_columns": null,
            "grid_auto_flow": null,
            "grid_auto_rows": null,
            "grid_column": null,
            "grid_gap": null,
            "grid_row": null,
            "grid_template_areas": null,
            "grid_template_columns": null,
            "grid_template_rows": null,
            "height": null,
            "justify_content": null,
            "justify_items": null,
            "left": null,
            "margin": null,
            "max_height": null,
            "max_width": null,
            "min_height": null,
            "min_width": null,
            "object_fit": null,
            "object_position": null,
            "order": null,
            "overflow": null,
            "overflow_x": null,
            "overflow_y": null,
            "padding": null,
            "right": null,
            "top": null,
            "visibility": null,
            "width": null
          }
        },
        "b1478aa2fbf94d0b9c57acda0c19d520": {
          "model_module": "@jupyter-widgets/controls",
          "model_name": "DescriptionStyleModel",
          "model_module_version": "1.5.0",
          "state": {
            "_model_module": "@jupyter-widgets/controls",
            "_model_module_version": "1.5.0",
            "_model_name": "DescriptionStyleModel",
            "_view_count": null,
            "_view_module": "@jupyter-widgets/base",
            "_view_module_version": "1.2.0",
            "_view_name": "StyleView",
            "description_width": ""
          }
        }
      }
    }
  },
  "nbformat": 4,
  "nbformat_minor": 5
}