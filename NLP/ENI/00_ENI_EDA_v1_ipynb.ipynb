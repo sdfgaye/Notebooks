{
 "cells": [
  {
   "cell_type": "markdown",
   "metadata": {
    "id": "3Jp-Hq7GJKuu"
   },
   "source": [
    "# Introduction\n",
    "\n",
    "The objective of this notebook is the explore the dataset laws.csv"
   ]
  },
  {
   "cell_type": "markdown",
   "metadata": {
    "id": "xnU2EPWZIWEn"
   },
   "source": [
    "## Librairies"
   ]
  },
  {
   "cell_type": "code",
   "execution_count": null,
   "metadata": {
    "colab": {
     "base_uri": "https://localhost:8080/"
    },
    "id": "_pnrWAcLCFPk",
    "outputId": "18d116cb-6309-4b0f-f61a-4fe0af4f89a2"
   },
   "outputs": [
    {
     "name": "stdout",
     "output_type": "stream",
     "text": [
      "Looking in indexes: https://pypi.org/simple, https://us-python.pkg.dev/colab-wheels/public/simple/\n",
      "Collecting pandarallel\n",
      "  Downloading pandarallel-1.6.4.tar.gz (12 kB)\n",
      "  Preparing metadata (setup.py) ... \u001b[?25l\u001b[?25hdone\n",
      "Collecting dill>=0.3.1\n",
      "  Downloading dill-0.3.6-py3-none-any.whl (110 kB)\n",
      "\u001b[2K     \u001b[90m━━━━━━━━━━━━━━━━━━━━━━━━━━━━━━━━━━━━━━━\u001b[0m \u001b[32m110.5/110.5 kB\u001b[0m \u001b[31m3.5 MB/s\u001b[0m eta \u001b[36m0:00:00\u001b[0m\n",
      "\u001b[?25hRequirement already satisfied: pandas>=1 in /usr/local/lib/python3.9/dist-packages (from pandarallel) (1.5.3)\n",
      "Requirement already satisfied: psutil in /usr/local/lib/python3.9/dist-packages (from pandarallel) (5.9.5)\n",
      "Requirement already satisfied: python-dateutil>=2.8.1 in /usr/local/lib/python3.9/dist-packages (from pandas>=1->pandarallel) (2.8.2)\n",
      "Requirement already satisfied: pytz>=2020.1 in /usr/local/lib/python3.9/dist-packages (from pandas>=1->pandarallel) (2022.7.1)\n",
      "Requirement already satisfied: numpy>=1.20.3 in /usr/local/lib/python3.9/dist-packages (from pandas>=1->pandarallel) (1.24.3)\n",
      "Requirement already satisfied: six>=1.5 in /usr/local/lib/python3.9/dist-packages (from python-dateutil>=2.8.1->pandas>=1->pandarallel) (1.16.0)\n",
      "Building wheels for collected packages: pandarallel\n",
      "  Building wheel for pandarallel (setup.py) ... \u001b[?25l\u001b[?25hdone\n",
      "  Created wheel for pandarallel: filename=pandarallel-1.6.4-py3-none-any.whl size=16677 sha256=f5f7c6bcd10b9b217abe7deccf484197b9f3330b1e5b991df586218e08f7e5d1\n",
      "  Stored in directory: /root/.cache/pip/wheels/41/01/29/deaa71fe596f8d857e57c4fb388db8861e23e6ed0b03204dcb\n",
      "Successfully built pandarallel\n",
      "Installing collected packages: dill, pandarallel\n",
      "Successfully installed dill-0.3.6 pandarallel-1.6.4\n"
     ]
    }
   ],
   "source": [
    "!pip install pandarallel"
   ]
  },
  {
   "cell_type": "code",
   "execution_count": null,
   "metadata": {
    "colab": {
     "base_uri": "https://localhost:8080/"
    },
    "id": "_0L1xqBxIZpY",
    "outputId": "79c8ae65-cce8-4d81-afd5-65846450e517"
   },
   "outputs": [
    {
     "name": "stdout",
     "output_type": "stream",
     "text": [
      "Looking in indexes: https://pypi.org/simple, https://us-python.pkg.dev/colab-wheels/public/simple/\n",
      "Requirement already satisfied: polars in /usr/local/lib/python3.9/dist-packages (0.17.3)\n",
      "Requirement already satisfied: typing_extensions>=4.0.1 in /usr/local/lib/python3.9/dist-packages (from polars) (4.5.0)\n",
      "CPU times: user 27.2 ms, sys: 15.3 ms, total: 42.5 ms\n",
      "Wall time: 4.12 s\n"
     ]
    }
   ],
   "source": [
    "%%time\n",
    "pip install polars"
   ]
  },
  {
   "cell_type": "code",
   "execution_count": null,
   "metadata": {
    "id": "CMv24IOgIWEp"
   },
   "outputs": [],
   "source": [
    "import pandas as pd\n",
    "import polars as pl\n",
    "import re\n",
    "import html as html_parser\n",
    "import matplotlib.pyplot as plt\n",
    "from pandarallel import pandarallel\n",
    "from lxml import html\n",
    "from tqdm import tqdm, notebook\n",
    "import string\n",
    "import nltk\n",
    "import seaborn as sns\n",
    "\n",
    "from nltk.corpus import stopwords\n",
    "from nltk.tokenize import sent_tokenize, word_tokenize\n",
    "from nltk.stem import PorterStemmer, WordNetLemmatizer\n",
    "\n",
    "from sklearn.feature_extraction.text import CountVectorizer, TfidfVectorizer"
   ]
  },
  {
   "cell_type": "code",
   "execution_count": null,
   "metadata": {
    "colab": {
     "base_uri": "https://localhost:8080/"
    },
    "id": "CdDyo6kQJigc",
    "outputId": "3a6a9305-b97d-40cc-e8aa-907291932ef5"
   },
   "outputs": [
    {
     "name": "stderr",
     "output_type": "stream",
     "text": [
      "[nltk_data] Downloading package punkt to /root/nltk_data...\n",
      "[nltk_data]   Unzipping tokenizers/punkt.zip.\n",
      "[nltk_data] Downloading package stopwords to /root/nltk_data...\n",
      "[nltk_data]   Unzipping corpora/stopwords.zip.\n"
     ]
    },
    {
     "data": {
      "text/plain": [
       "True"
      ]
     },
     "execution_count": 5,
     "metadata": {},
     "output_type": "execute_result"
    }
   ],
   "source": [
    "nltk.download('punkt')\n",
    "nltk.download('stopwords')"
   ]
  },
  {
   "cell_type": "code",
   "execution_count": null,
   "metadata": {
    "colab": {
     "base_uri": "https://localhost:8080/"
    },
    "id": "6ujFzg-tJhfW",
    "outputId": "084f8234-ba67-4254-b9b2-09bde8cde58b"
   },
   "outputs": [
    {
     "name": "stdout",
     "output_type": "stream",
     "text": [
      "Mounted at /content/drive\n"
     ]
    }
   ],
   "source": [
    "from google.colab import drive\n",
    "drive.mount(\"/content/drive\")"
   ]
  },
  {
   "cell_type": "markdown",
   "metadata": {
    "id": "E5KKMchCIWEq"
   },
   "source": [
    "## Importing Data"
   ]
  },
  {
   "cell_type": "code",
   "execution_count": null,
   "metadata": {
    "id": "2MIXG1PObBlk"
   },
   "outputs": [],
   "source": [
    "# from numba import cuda\n",
    "\n",
    "\n",
    "# cc_cores_per_SM_dict = {\n",
    "#     (2,0) : 32,\n",
    "#     (2,1) : 48,\n",
    "#     (3,0) : 192,\n",
    "#     (3,5) : 192,\n",
    "#     (3,7) : 192,\n",
    "#     (5,0) : 128,\n",
    "#     (5,2) : 128,\n",
    "#     (6,0) : 64,\n",
    "#     (6,1) : 128,\n",
    "#     (7,0) : 64,\n",
    "#     (7,5) : 64,\n",
    "#     (8,0) : 64,\n",
    "#     (8,6) : 128,\n",
    "#     (8,9) : 128,\n",
    "#     (9,0) : 128\n",
    "#     }\n",
    "# # the above dictionary should result in a value of \"None\" if a cc match \n",
    "# # is not found.  The dictionary needs to be extended as new devices become\n",
    "# # available, and currently does not account for all Jetson devices\n",
    "# device = cuda.get_current_device()\n",
    "# my_sms = getattr(device, 'MULTIPROCESSOR_COUNT')\n",
    "# my_cc = device.compute_capability\n",
    "# cores_per_sm = cc_cores_per_SM_dict.get(my_cc)\n",
    "# total_cores = cores_per_sm*my_sms\n",
    "# print(\"GPU compute capability: \" , my_cc)\n",
    "# print(\"GPU total number of SMs: \" , my_sms)\n",
    "# print(\"total cores: \" , total_cores)"
   ]
  },
  {
   "cell_type": "code",
   "execution_count": null,
   "metadata": {
    "colab": {
     "base_uri": "https://localhost:8080/"
    },
    "id": "nLqEpqfQNuIM",
    "outputId": "97045bb3-f759-464e-8f2c-2cfbf5bb6d5b"
   },
   "outputs": [
    {
     "name": "stdout",
     "output_type": "stream",
     "text": [
      "INFO: Pandarallel will run on 20 workers.\n",
      "INFO: Pandarallel will use Memory file system to transfer data between the main process and workers.\n"
     ]
    }
   ],
   "source": [
    "pandarallel.initialize(progress_bar=True)"
   ]
  },
  {
   "cell_type": "markdown",
   "metadata": {
    "id": "DeNlZCMkMSWy"
   },
   "source": [
    "With TPU we have 20 workers"
   ]
  },
  {
   "cell_type": "code",
   "execution_count": null,
   "metadata": {
    "id": "StOaJDslIWEr"
   },
   "outputs": [],
   "source": [
    "# Set the directory where the corpus files are located\n",
    "directory = 'drive/MyDrive/ENI/'\n",
    "\n",
    "df_law = pd.read_csv(f'{directory}laws.csv', memory_map = True)\n"
   ]
  },
  {
   "cell_type": "code",
   "execution_count": null,
   "metadata": {
    "colab": {
     "base_uri": "https://localhost:8080/",
     "height": 344
    },
    "id": "4HITcmssyrF3",
    "outputId": "63418e59-9d86-47e7-89d5-e9db5dfb02ee"
   },
   "outputs": [
    {
     "data": {
      "text/html": [
       "\n",
       "  <div id=\"df-ea893986-83e3-4664-ae06-84a3a9780a25\">\n",
       "    <div class=\"colab-df-container\">\n",
       "      <div>\n",
       "<style scoped>\n",
       "    .dataframe tbody tr th:only-of-type {\n",
       "        vertical-align: middle;\n",
       "    }\n",
       "\n",
       "    .dataframe tbody tr th {\n",
       "        vertical-align: top;\n",
       "    }\n",
       "\n",
       "    .dataframe thead th {\n",
       "        text-align: right;\n",
       "    }\n",
       "</style>\n",
       "<table border=\"1\" class=\"dataframe\">\n",
       "  <thead>\n",
       "    <tr style=\"text-align: right;\">\n",
       "      <th></th>\n",
       "      <th>Abstract</th>\n",
       "      <th>Checksum</th>\n",
       "      <th>Datum</th>\n",
       "      <th>HTML.Checksum</th>\n",
       "      <th>HTML.Datei</th>\n",
       "      <th>HTML.URL</th>\n",
       "      <th>Kopfzeile</th>\n",
       "      <th>Meta</th>\n",
       "      <th>Num</th>\n",
       "      <th>Raw</th>\n",
       "      <th>...</th>\n",
       "      <th>ScrapyJob</th>\n",
       "      <th>Signatur</th>\n",
       "      <th>Site</th>\n",
       "      <th>Spider</th>\n",
       "      <th>Sprache</th>\n",
       "      <th>Type</th>\n",
       "      <th>Uri</th>\n",
       "      <th>Zeit UTC</th>\n",
       "      <th>__v</th>\n",
       "      <th>_id</th>\n",
       "    </tr>\n",
       "  </thead>\n",
       "  <tbody>\n",
       "    <tr>\n",
       "      <th>0</th>\n",
       "      <td>[{\"Sprachen\":[\"de\",\"fr\",\"it\"],\"Text\":\"QUALITÉ ...</td>\n",
       "      <td>41b915ce5651fbc4cdeb5326dc2570db</td>\n",
       "      <td>2020-06-19</td>\n",
       "      <td>17ede7694e3e8551bbc70254e5cafaf1</td>\n",
       "      <td>GE_Gerichte/GE_CAPJ_001_CAPJ-01-2020_2020-06-1...</td>\n",
       "      <td>http://justice.ge.ch/apps/decis/fr/capj/show/2...</td>\n",
       "      <td>[{\"Sprachen\":[\"de\"],\"Text\":\"Genf Court d'appel...</td>\n",
       "      <td>[{\"Sprachen\":[\"de\"],\"Text\":\"Genf Court d'appel...</td>\n",
       "      <td>[\"CAPJ/01/2020\"]</td>\n",
       "      <td>&lt;!DOCTYPE html&gt;&lt;html lang=\"fr\"&gt;&lt;head&gt;&lt;meta cha...</td>\n",
       "      <td>...</td>\n",
       "      <td>446973/35/762</td>\n",
       "      <td>GE_CAPJ_001</td>\n",
       "      <td>entscheidsuche.ch</td>\n",
       "      <td>GE_Gerichte</td>\n",
       "      <td>fr</td>\n",
       "      <td>case law</td>\n",
       "      <td>https://entscheidsuche.ch/docs/GE_Gerichte/GE_...</td>\n",
       "      <td>23.05.2022 01:09:59</td>\n",
       "      <td>0</td>\n",
       "      <td>63218f363ca37d0db12644a8</td>\n",
       "    </tr>\n",
       "    <tr>\n",
       "      <th>1</th>\n",
       "      <td>[{\"Sprachen\":[\"de\",\"fr\",\"it\"],\"Text\":\"Bouwmees...</td>\n",
       "      <td>8a69602465bf223e7014c2389f3a1117</td>\n",
       "      <td>1988-03-04</td>\n",
       "      <td>4d62b887a72ce7bcf3781eef23656deb</td>\n",
       "      <td>VD_Omni/VD_SR_001_09ae0257b929e3edb48e_1988-03...</td>\n",
       "      <td>http://www.jurisprudence.vd.ch/scripts/nph-omn...</td>\n",
       "      <td>[{\"Sprachen\":[\"de\"],\"Text\":\"Waadtland Conseil ...</td>\n",
       "      <td>[{\"Sprachen\":[\"de\"],\"Text\":\"Waadtland Conseil ...</td>\n",
       "      <td>[\"\"]</td>\n",
       "      <td>&lt;!DOCTYPE html&gt;&lt;html lang=\"de\"&gt;&lt;head&gt;&lt;meta cha...</td>\n",
       "      <td>...</td>\n",
       "      <td>446973/40/263</td>\n",
       "      <td>VD_SR_001</td>\n",
       "      <td>entscheidsuche.ch</td>\n",
       "      <td>VD_Omni</td>\n",
       "      <td>de</td>\n",
       "      <td>case law</td>\n",
       "      <td>https://entscheidsuche.ch/docs/VD_Omni/VD_SR_0...</td>\n",
       "      <td>11.07.2021 02:43:23</td>\n",
       "      <td>0</td>\n",
       "      <td>63218f363ca37d0db12644aa</td>\n",
       "    </tr>\n",
       "  </tbody>\n",
       "</table>\n",
       "<p>2 rows × 21 columns</p>\n",
       "</div>\n",
       "      <button class=\"colab-df-convert\" onclick=\"convertToInteractive('df-ea893986-83e3-4664-ae06-84a3a9780a25')\"\n",
       "              title=\"Convert this dataframe to an interactive table.\"\n",
       "              style=\"display:none;\">\n",
       "        \n",
       "  <svg xmlns=\"http://www.w3.org/2000/svg\" height=\"24px\"viewBox=\"0 0 24 24\"\n",
       "       width=\"24px\">\n",
       "    <path d=\"M0 0h24v24H0V0z\" fill=\"none\"/>\n",
       "    <path d=\"M18.56 5.44l.94 2.06.94-2.06 2.06-.94-2.06-.94-.94-2.06-.94 2.06-2.06.94zm-11 1L8.5 8.5l.94-2.06 2.06-.94-2.06-.94L8.5 2.5l-.94 2.06-2.06.94zm10 10l.94 2.06.94-2.06 2.06-.94-2.06-.94-.94-2.06-.94 2.06-2.06.94z\"/><path d=\"M17.41 7.96l-1.37-1.37c-.4-.4-.92-.59-1.43-.59-.52 0-1.04.2-1.43.59L10.3 9.45l-7.72 7.72c-.78.78-.78 2.05 0 2.83L4 21.41c.39.39.9.59 1.41.59.51 0 1.02-.2 1.41-.59l7.78-7.78 2.81-2.81c.8-.78.8-2.07 0-2.86zM5.41 20L4 18.59l7.72-7.72 1.47 1.35L5.41 20z\"/>\n",
       "  </svg>\n",
       "      </button>\n",
       "      \n",
       "  <style>\n",
       "    .colab-df-container {\n",
       "      display:flex;\n",
       "      flex-wrap:wrap;\n",
       "      gap: 12px;\n",
       "    }\n",
       "\n",
       "    .colab-df-convert {\n",
       "      background-color: #E8F0FE;\n",
       "      border: none;\n",
       "      border-radius: 50%;\n",
       "      cursor: pointer;\n",
       "      display: none;\n",
       "      fill: #1967D2;\n",
       "      height: 32px;\n",
       "      padding: 0 0 0 0;\n",
       "      width: 32px;\n",
       "    }\n",
       "\n",
       "    .colab-df-convert:hover {\n",
       "      background-color: #E2EBFA;\n",
       "      box-shadow: 0px 1px 2px rgba(60, 64, 67, 0.3), 0px 1px 3px 1px rgba(60, 64, 67, 0.15);\n",
       "      fill: #174EA6;\n",
       "    }\n",
       "\n",
       "    [theme=dark] .colab-df-convert {\n",
       "      background-color: #3B4455;\n",
       "      fill: #D2E3FC;\n",
       "    }\n",
       "\n",
       "    [theme=dark] .colab-df-convert:hover {\n",
       "      background-color: #434B5C;\n",
       "      box-shadow: 0px 1px 3px 1px rgba(0, 0, 0, 0.15);\n",
       "      filter: drop-shadow(0px 1px 2px rgba(0, 0, 0, 0.3));\n",
       "      fill: #FFFFFF;\n",
       "    }\n",
       "  </style>\n",
       "\n",
       "      <script>\n",
       "        const buttonEl =\n",
       "          document.querySelector('#df-ea893986-83e3-4664-ae06-84a3a9780a25 button.colab-df-convert');\n",
       "        buttonEl.style.display =\n",
       "          google.colab.kernel.accessAllowed ? 'block' : 'none';\n",
       "\n",
       "        async function convertToInteractive(key) {\n",
       "          const element = document.querySelector('#df-ea893986-83e3-4664-ae06-84a3a9780a25');\n",
       "          const dataTable =\n",
       "            await google.colab.kernel.invokeFunction('convertToInteractive',\n",
       "                                                     [key], {});\n",
       "          if (!dataTable) return;\n",
       "\n",
       "          const docLinkHtml = 'Like what you see? Visit the ' +\n",
       "            '<a target=\"_blank\" href=https://colab.research.google.com/notebooks/data_table.ipynb>data table notebook</a>'\n",
       "            + ' to learn more about interactive tables.';\n",
       "          element.innerHTML = '';\n",
       "          dataTable['output_type'] = 'display_data';\n",
       "          await google.colab.output.renderOutput(dataTable, element);\n",
       "          const docLink = document.createElement('div');\n",
       "          docLink.innerHTML = docLinkHtml;\n",
       "          element.appendChild(docLink);\n",
       "        }\n",
       "      </script>\n",
       "    </div>\n",
       "  </div>\n",
       "  "
      ],
      "text/plain": [
       "                                            Abstract  \\\n",
       "0  [{\"Sprachen\":[\"de\",\"fr\",\"it\"],\"Text\":\"QUALITÉ ...   \n",
       "1  [{\"Sprachen\":[\"de\",\"fr\",\"it\"],\"Text\":\"Bouwmees...   \n",
       "\n",
       "                           Checksum       Datum  \\\n",
       "0  41b915ce5651fbc4cdeb5326dc2570db  2020-06-19   \n",
       "1  8a69602465bf223e7014c2389f3a1117  1988-03-04   \n",
       "\n",
       "                      HTML.Checksum  \\\n",
       "0  17ede7694e3e8551bbc70254e5cafaf1   \n",
       "1  4d62b887a72ce7bcf3781eef23656deb   \n",
       "\n",
       "                                          HTML.Datei  \\\n",
       "0  GE_Gerichte/GE_CAPJ_001_CAPJ-01-2020_2020-06-1...   \n",
       "1  VD_Omni/VD_SR_001_09ae0257b929e3edb48e_1988-03...   \n",
       "\n",
       "                                            HTML.URL  \\\n",
       "0  http://justice.ge.ch/apps/decis/fr/capj/show/2...   \n",
       "1  http://www.jurisprudence.vd.ch/scripts/nph-omn...   \n",
       "\n",
       "                                           Kopfzeile  \\\n",
       "0  [{\"Sprachen\":[\"de\"],\"Text\":\"Genf Court d'appel...   \n",
       "1  [{\"Sprachen\":[\"de\"],\"Text\":\"Waadtland Conseil ...   \n",
       "\n",
       "                                                Meta               Num  \\\n",
       "0  [{\"Sprachen\":[\"de\"],\"Text\":\"Genf Court d'appel...  [\"CAPJ/01/2020\"]   \n",
       "1  [{\"Sprachen\":[\"de\"],\"Text\":\"Waadtland Conseil ...              [\"\"]   \n",
       "\n",
       "                                                 Raw  ...      ScrapyJob  \\\n",
       "0  <!DOCTYPE html><html lang=\"fr\"><head><meta cha...  ...  446973/35/762   \n",
       "1  <!DOCTYPE html><html lang=\"de\"><head><meta cha...  ...  446973/40/263   \n",
       "\n",
       "      Signatur               Site       Spider Sprache      Type  \\\n",
       "0  GE_CAPJ_001  entscheidsuche.ch  GE_Gerichte      fr  case law   \n",
       "1    VD_SR_001  entscheidsuche.ch      VD_Omni      de  case law   \n",
       "\n",
       "                                                 Uri             Zeit UTC __v  \\\n",
       "0  https://entscheidsuche.ch/docs/GE_Gerichte/GE_...  23.05.2022 01:09:59   0   \n",
       "1  https://entscheidsuche.ch/docs/VD_Omni/VD_SR_0...  11.07.2021 02:43:23   0   \n",
       "\n",
       "                        _id  \n",
       "0  63218f363ca37d0db12644a8  \n",
       "1  63218f363ca37d0db12644aa  \n",
       "\n",
       "[2 rows x 21 columns]"
      ]
     },
     "execution_count": 6,
     "metadata": {},
     "output_type": "execute_result"
    }
   ],
   "source": [
    "df_law.head(2)"
   ]
  },
  {
   "cell_type": "code",
   "execution_count": null,
   "metadata": {
    "colab": {
     "base_uri": "https://localhost:8080/"
    },
    "id": "mvVukO2pIWEr",
    "outputId": "4805e243-9fc6-4878-fa1e-370627c12705"
   },
   "outputs": [
    {
     "name": "stdout",
     "output_type": "stream",
     "text": [
      "<class 'pandas.core.frame.DataFrame'>\n",
      "RangeIndex: 92177 entries, 0 to 92176\n",
      "Data columns (total 21 columns):\n",
      " #   Column         Non-Null Count  Dtype \n",
      "---  ------         --------------  ----- \n",
      " 0   Abstract       92177 non-null  object\n",
      " 1   Checksum       92177 non-null  object\n",
      " 2   Datum          92177 non-null  object\n",
      " 3   HTML.Checksum  92177 non-null  object\n",
      " 4   HTML.Datei     92177 non-null  object\n",
      " 5   HTML.URL       92177 non-null  object\n",
      " 6   Kopfzeile      92177 non-null  object\n",
      " 7   Meta           92177 non-null  object\n",
      " 8   Num            92177 non-null  object\n",
      " 9   Raw            92177 non-null  object\n",
      " 10  RawType        92177 non-null  object\n",
      " 11  ScrapyJob      92177 non-null  object\n",
      " 12  Signatur       92177 non-null  object\n",
      " 13  Site           92177 non-null  object\n",
      " 14  Spider         92177 non-null  object\n",
      " 15  Sprache        92177 non-null  object\n",
      " 16  Type           92177 non-null  object\n",
      " 17  Uri            92177 non-null  object\n",
      " 18  Zeit UTC       92177 non-null  object\n",
      " 19  __v            92177 non-null  int64 \n",
      " 20  _id            92177 non-null  object\n",
      "dtypes: int64(1), object(20)\n",
      "memory usage: 14.8+ MB\n"
     ]
    }
   ],
   "source": [
    "df_law.info()"
   ]
  },
  {
   "cell_type": "code",
   "execution_count": null,
   "metadata": {
    "colab": {
     "base_uri": "https://localhost:8080/"
    },
    "id": "LDjqVumIlEBV",
    "outputId": "c921a5bd-1640-41e3-edcd-bf468da19be5"
   },
   "outputs": [
    {
     "data": {
      "text/plain": [
       "Index(['Abstract', 'Checksum', 'Datum', 'HTML.Checksum', 'HTML.Datei',\n",
       "       'HTML.URL', 'Kopfzeile', 'Meta', 'Num', 'Raw', 'RawType', 'ScrapyJob',\n",
       "       'Signatur', 'Site', 'Spider', 'Sprache', 'Type', 'Uri', 'Zeit UTC',\n",
       "       '__v', '_id', 'text'],\n",
       "      dtype='object')"
      ]
     },
     "execution_count": 13,
     "metadata": {},
     "output_type": "execute_result"
    }
   ],
   "source": [
    "df_law.columns"
   ]
  },
  {
   "cell_type": "code",
   "execution_count": null,
   "metadata": {
    "colab": {
     "base_uri": "https://localhost:8080/",
     "height": 36
    },
    "id": "16-EZz8Rj4o2",
    "outputId": "f83408cc-4a65-4180-b9dc-db1091ebfe49"
   },
   "outputs": [
    {
     "data": {
      "application/vnd.google.colaboratory.intrinsic+json": {
       "type": "string"
      },
      "text/plain": [
       "'[{\"Sprachen\":[\"de\",\"fr\",\"it\"],\"Text\":\"QUALITÉ POUR RECOURIR;DÉNONCIATEUR | LPA.60\"}]'"
      ]
     },
     "execution_count": 10,
     "metadata": {},
     "output_type": "execute_result"
    }
   ],
   "source": [
    "df_law['Abstract'][0]"
   ]
  },
  {
   "cell_type": "markdown",
   "metadata": {
    "id": "ltoxLvybkHoR"
   },
   "source": [
    "What is it ? The Title ? A legend ?"
   ]
  },
  {
   "cell_type": "code",
   "execution_count": null,
   "metadata": {
    "colab": {
     "base_uri": "https://localhost:8080/",
     "height": 36
    },
    "id": "5OnlkZcxkSRt",
    "outputId": "79b83758-d5db-4ce2-dbf6-0596d7c90716"
   },
   "outputs": [
    {
     "data": {
      "application/vnd.google.colaboratory.intrinsic+json": {
       "type": "string"
      },
      "text/plain": [
       "'41b915ce5651fbc4cdeb5326dc2570db'"
      ]
     },
     "execution_count": 11,
     "metadata": {},
     "output_type": "execute_result"
    }
   ],
   "source": [
    "df_law['Checksum'][0]"
   ]
  },
  {
   "cell_type": "markdown",
   "metadata": {
    "id": "9NO5_sv-kjcH"
   },
   "source": [
    "That's the ID of the document ?"
   ]
  },
  {
   "cell_type": "code",
   "execution_count": null,
   "metadata": {
    "colab": {
     "base_uri": "https://localhost:8080/",
     "height": 36
    },
    "id": "Upb381trkseo",
    "outputId": "635ef1c6-7a54-45b8-9fc6-808ad91e26db"
   },
   "outputs": [
    {
     "data": {
      "application/vnd.google.colaboratory.intrinsic+json": {
       "type": "string"
      },
      "text/plain": [
       "'2020-06-19'"
      ]
     },
     "execution_count": 12,
     "metadata": {},
     "output_type": "execute_result"
    }
   ],
   "source": [
    "df_law['Datum'][0]"
   ]
  },
  {
   "cell_type": "markdown",
   "metadata": {
    "id": "sK2MaPdPk0q2"
   },
   "source": [
    "What does that date refer to ?"
   ]
  },
  {
   "cell_type": "code",
   "execution_count": null,
   "metadata": {
    "colab": {
     "base_uri": "https://localhost:8080/",
     "height": 36
    },
    "id": "gYIinHiOk_XO",
    "outputId": "4afe00b6-72d5-443b-fcfe-f07af774c500"
   },
   "outputs": [
    {
     "data": {
      "application/vnd.google.colaboratory.intrinsic+json": {
       "type": "string"
      },
      "text/plain": [
       "'17ede7694e3e8551bbc70254e5cafaf1'"
      ]
     },
     "execution_count": 14,
     "metadata": {},
     "output_type": "execute_result"
    }
   ],
   "source": [
    "df_law['HTML.Checksum'][0]"
   ]
  },
  {
   "cell_type": "markdown",
   "metadata": {
    "id": "vAPdLuiklM6H"
   },
   "source": [
    "What is it ? an ID ?"
   ]
  },
  {
   "cell_type": "code",
   "execution_count": null,
   "metadata": {
    "colab": {
     "base_uri": "https://localhost:8080/",
     "height": 36
    },
    "id": "xNvEW_YSlaSM",
    "outputId": "c8ffe026-2b1d-4630-9f69-7f70ce8918b9"
   },
   "outputs": [
    {
     "data": {
      "application/vnd.google.colaboratory.intrinsic+json": {
       "type": "string"
      },
      "text/plain": [
       "'GE_Gerichte/GE_CAPJ_001_CAPJ-01-2020_2020-06-19.html'"
      ]
     },
     "execution_count": 15,
     "metadata": {},
     "output_type": "execute_result"
    }
   ],
   "source": [
    "df_law['HTML.Datei'][0]"
   ]
  },
  {
   "cell_type": "code",
   "execution_count": null,
   "metadata": {
    "colab": {
     "base_uri": "https://localhost:8080/",
     "height": 72
    },
    "id": "Lw8ZIQmnll-S",
    "outputId": "2effe6ff-662e-4118-d816-0cbe845a7d61"
   },
   "outputs": [
    {
     "data": {
      "application/vnd.google.colaboratory.intrinsic+json": {
       "type": "string"
      },
      "text/plain": [
       "'[{\"Sprachen\":[\"de\"],\"Text\":\"Genf Court d\\'appel du pouvoir judiciaire 19.06.2020 CAPJ/01/2020\"},{\"Sprachen\":[\"fr\"],\"Text\":\"Genève Court d\\'appel du pouvoir judiciaire 19.06.2020 CAPJ/01/2020\"},{\"Sprachen\":[\"it\"],\"Text\":\"Ginevra Court d\\'appel du pouvoir judiciaire 19.06.2020 CAPJ/01/2020\"}]'"
      ]
     },
     "execution_count": 16,
     "metadata": {},
     "output_type": "execute_result"
    }
   ],
   "source": [
    "df_law['Kopfzeile'][0]"
   ]
  },
  {
   "cell_type": "markdown",
   "metadata": {
    "id": "G041Ggg7l4FI"
   },
   "source": [
    "What does 'Kopfzeile' mean here ?"
   ]
  },
  {
   "cell_type": "code",
   "execution_count": null,
   "metadata": {
    "colab": {
     "base_uri": "https://localhost:8080/",
     "height": 54
    },
    "id": "InJu19eYmC7L",
    "outputId": "0de1ab60-615d-4891-cae7-47aba4b06da8"
   },
   "outputs": [
    {
     "data": {
      "application/vnd.google.colaboratory.intrinsic+json": {
       "type": "string"
      },
      "text/plain": [
       "'[{\"Sprachen\":[\"de\"],\"Text\":\"Genf Court d\\'appel du pouvoir judiciaire \"},{\"Sprachen\":[\"fr\"],\"Text\":\"Genève Court d\\'appel du pouvoir judiciaire \"},{\"Sprachen\":[\"it\"],\"Text\":\"Ginevra Court d\\'appel du pouvoir judiciaire \"}]'"
      ]
     },
     "execution_count": 17,
     "metadata": {},
     "output_type": "execute_result"
    }
   ],
   "source": [
    "df_law['Meta'][0]"
   ]
  },
  {
   "cell_type": "markdown",
   "metadata": {
    "id": "6J1mSwE-mRyF"
   },
   "source": [
    "The Meta column seems similar to the column Kopfzeile"
   ]
  },
  {
   "cell_type": "code",
   "execution_count": null,
   "metadata": {
    "colab": {
     "base_uri": "https://localhost:8080/",
     "height": 36
    },
    "id": "FXjg4qX9mafg",
    "outputId": "266a680d-a146-483b-b730-688ee13ba599"
   },
   "outputs": [
    {
     "data": {
      "application/vnd.google.colaboratory.intrinsic+json": {
       "type": "string"
      },
      "text/plain": [
       "'[\"CAPJ/01/2020\"]'"
      ]
     },
     "execution_count": 18,
     "metadata": {},
     "output_type": "execute_result"
    }
   ],
   "source": [
    "df_law['Num'][0]"
   ]
  },
  {
   "cell_type": "markdown",
   "metadata": {
    "id": "Tuo1eKznmjce"
   },
   "source": [
    "Another ID ?"
   ]
  },
  {
   "cell_type": "code",
   "execution_count": null,
   "metadata": {
    "colab": {
     "base_uri": "https://localhost:8080/",
     "height": 182
    },
    "id": "u_cV0Lb8mn9z",
    "outputId": "ee0710d7-a8a9-42a0-943c-b6f4bc38bb47"
   },
   "outputs": [
    {
     "data": {
      "application/vnd.google.colaboratory.intrinsic+json": {
       "type": "string"
      },
      "text/plain": [
       "'<!DOCTYPE html><html lang=\"fr\"><head><meta charset=\"utf-8\"/></head><!DOCTYPE html><html lang=\"fr\"><head><meta charset=\"utf-8\"/></head><body><div class=\"list-block col-lg-12 mb-5\">\\n  <div class=\"decis-block__flag\">\\n      CAPJ/01/2020\\n\\n  </div>\\n  <div class=\"list-block__content row pb-3\">\\n    <h3 class=\"list-block__title col-lg-8\">\\n        <a href=\"/apps/decis/fr/capj/show/2920474\">\\n            ACAPJ/2/2020\\n\\n        </a>          \\n      (1)\\n      du 19.06.2020\\n      \\n      ,   Irrecevable\\n\\n    </h3>\\n    \\n    <div class=\"col-lg-12\">\\n      \\n  \\n    <div>\\n      <b>Descripteurs</b> :\\n      QUALITÉ POUR RECOURIR;DÉNONCIATEUR\\n    </div>\\n\\n      \\n  \\n    <div>\\n      <b>Normes</b> :\\n      LPA.60\\n    </div>\\n\\n      \\n  \\n\\n      \\n  \\n\\n      \\n  \\n\\n      \\n  \\n\\n  \\n      \\n    </div>\\n\\n    <div class=\"col-lg-12 mt-4\">\\n      <div style=\"float:right\">\\n          <a href=\"/apps/decis/fr/capj/file//2020/0000/CAPJ_000001_2020_ACAPJ_2_2020.pdf\">\\n          <img src=\"data:image/png;base64,iVBORw0KGgoAAAANSUhEUgAAACAAAAAgCAMAAABEpIrGAAABBVBMVEUAAAA9iKE9iKE9iKE9iKE9iKE9iKE9iKE9iKE9iKE9iKE9iKE9iKE9iKE9iKE9iKE9iKE9iKE9iKE9iKE9iKE9iKE9iKE9iKE9iKE9iKE9iKE9iKE9iKE9iKE9iKE9iKE9iKE9iKE9iKE9iKE9iKE9iKE9iKE9iKE9iKE9iKE9iKE9iKE9iKE9iKE9iKE9iKE9iKE9iKE9iKE9iKE9iKE9iKE9iKE9iKE9iKE9iKE9iKE9iKE9iKE9iKE9iKE9iKE9iKE9iKE9iKE9iKE9iKE9iKE9iKE9iKE9iKE9iKE9iKE9iKE9iKE9iKE9iKE9iKE9iKE9iKE9iKE9iKE9iKE9iKE9iKGaDsL5AAAAVnRSTlMAAQIDBAYICgsOExQVFxobHB0eIyotLjAyMzc5PD0/QEVJS01UVlddXmdwcXV5foWGjJSYmp2eoKOlqrCytLW3ubq8wMPKzM7T1eDi5Obp6+3x8/f5/ROqjl4AAAD9SURBVDjLfdNpUwIxDAbgtLsVPJBDRRGUywN1QRRELgXlFJQVkfz/nyLdkaFDS95vmTydzjQpAFzgetwcAyU/qKfJFYAoVL+oYyN84RQQ/hG2OAVgIdoWBaR4tyggRYdTQIobHdhevSdkYjjVQMQ9B5isnkOsg3QhCXAyIUD/1PCCCojiEQ22MUQDhgEahPCWBk5ttkUBa7Z7XaVA9hVYvcg2AvZ1AMC7g/hZOhEwgUzTOnSGn5U+ug+VKx3Y38Pn1I5cgv38xziqgeBjWd1U7Yq7xq8PCFBw3jJAgHCv+AQUOJ6XOAlAbxtnYQamv/kf2wOXG/v3yyEKc7zzfy61YB0tdylvAAAAAElFTkSuQmCC\" alt=\"Pdf\" border=\"no\">                  \\n          </a>\\n      </div>\\n        <span style=\"float:right\"><a class=\"efd\" href=\"#EF\">En fait</a><br><a class=\"efd\" href=\"#ED\">En droit</a><br><a class=\"efd\" href=\"#PCM\">Par ces motifs</a></span> <div> <div align=\"center\"> <table border=\"0\" cellpadding=\"0\" cellspacing=\"0\" width=\"626\"> <tr> <td valign=\"top\" width=\"1\"> <p align=\"center\">\\xa0</p>\\n<p align=\"center\">\\xa0</p>\\n</td> <td valign=\"top\" width=\"624\"> <p align=\"center\">republique et canton de geneve</p>\\n<p align=\"center\">POUVOIR JUDICIAIRE</p>\\n<p align=\"center\">Cour d’appel du Pouvoir judiciaire</p>\\n<p align=\"center\">\\xa0</p>\\n<p align=\"center\"><b>\\xa0</b></p>\\n</td> <td valign=\"top\" width=\"1\"> <p align=\"center\">\\xa0</p>\\n<p align=\"center\">\\xa0</p>\\n<p align=\"center\">\\xa0</p>\\n</td> </tr> </table> </div> <p align=\"center\">\\xa0</p>\\n<p align=\"center\">\\xa0</p>\\n<p align=\"center\">\\xa0</p>\\n<p align=\"center\"><b>Arrêt du 19 juin 2020</b></p>\\n<p align=\"center\"><b>\\xa0</b></p>\\n<p align=\"center\"><b>CAPJ 1_2020 <a href=\"https://justice.ge.ch/apps/decis/fr/decis/search?query=ACAPJ/2/2020\">ACAPJ/2/2020</a></b></p>\\n<p align=\"center\">\\xa0</p>\\n<p align=\"left\">\\xa0</p>\\n<p align=\"left\">\\xa0</p>\\n<p align=\"left\">\\xa0</p>\\n<p align=\"left\"><b>Madame A______,</b> recourante </p>\\n<p align=\"left\"><b>\\xa0</b></p>\\n<p align=\"center\">contre</p>\\n<p align=\"left\"><b>\\xa0</b></p>\\n<p align=\"left\"><b>LE CONSEIL SUPERIEUR DE LA MAGISTRATURE, </b>intimé</p>\\n<p align=\"left\">\\xa0</p>\\n<p align=\"left\">\\xa0</p>\\n<p>\\xa0</p>\\n<p>\\xa0</p>\\n<p>\\xa0</p>\\n<p>\\xa0</p>\\n<a name=\"EF\"></a><div class=\"efd\">EN FAIT</div>\\n<p>\\xa0</p>\\n<p><b>1</b>. Le 9 avril 2019, A______ a adressé au Conseil supérieur de la magistrature (ci-après\\xa0:\\xa0CSM) une dénonciation concernant le Juge B______, en sa qualité de Président du Tribunal de première instance, en charge notamment des mesures provisionnelles, dans le cadre de la procédure C/16238/2016 l’opposant au père de sa fille C______, née le 16 septembre 2011, au sujet de la garde, du droit de visite et des contributions d’entretien.</p>\\n<p>\\xa0</p>\\n<p>Dans sa dénonciation, assortie de nombreux documents, A______ reprochait à ce magistrat d’importants «\\xa0manquements\\xa0» dans la gestion de la procédure précitée, notamment par des mesures super-provisionnelles et provisionnelles.</p>\\n<p>\\xa0</p>\\n<p><b>2. </b>Par décision du 17 octobre 2019, la Présidente du CSM a classé cette dénonciation, considérant qu’il n’était pas une autorité de révision, ni de recours, contre les décisions des juridictions cantonales et que l’examen du dossier ne révélait aucun manquement disciplinaire de la part du magistrat visé par la dénonciation. </p>\\n<p>\\xa0</p>\\n<p><b>3.</b> Par courrier du 4 novembre 2019, A______ a persisté dans sa dénonciation et a contesté ce classement.</p>\\n<p><b>4.</b> Par décision du 13 janvier 2020, communiquée à A______ par lettre recommandée du 31 janvier suivant, le CSM, statuant par son conseil, a classé la procédure «\\xa0A/1129/2019 DIVERS\\xa0» en reprenant les motifs retenus par sa Présidente.</p>\\n<p>\\xa0</p>\\n<p><b>5.</b> Par acte déposé au greffe de la Cour d’appel du pouvoir judiciaire en date du 3 mars 2020, auquel étaient annexés différents documents, A______ a recouru contre cette décision, dont elle a sollicité l’annulation, concluant à ce qu’il soit ordonné au CSM de reprendre l’instruction, avec la nomination d’un avocat à son profit, et d’exécuter une série d’actes d’instruction, énumérés dans le détail, dont une confrontation entre elle-même et le Juge B______. Préalablement, elle a requis à être dispensée de toute avance de frais, à être mise au bénéfice de l’assistance juridique et à ce que Me D______ ou Me E______ soit désigné en qualité d’avocat d’office. </p>\\n<p>\\xa0</p>\\n<p>A______, après un résumé de son vécu personnel dans la situation familiale et durant la procédure de première instance, soutient que, «\\xa0<i>par son comportement, le Juge B______ a commis plusieurs manquements disciplinaires dans cette procédure. Il semble que personne ne corrige l’arbitraire à Genève, ni ne protège une mère et son enfant face à des violations répétées de leurs droits constitutionnels et humains. Je demande dès lors au pouvoir judiciaire de rétablir l’ordre et de faire respecter la justice et les lois</i>\\xa0».</p>\\n<p>\\xa0</p>\\n<p><b>6.</b> A réception du recours, la Cour de céans a traité celui-ci par application de l’art. 72 de la loi sur la procédure administrative du 12 septembre 1985 (LPA – RS/GE <a href=\"http://ge.ch/justice/donnees/perl/JmpLex/E%205%2010\">E 5 10</a>).</p>\\n<p>\\xa0</p>\\n<p><b>7</b>. Par décision du 27 avril 2020, notifiée le 27 mai 2020, la Vice-présidence du Tribunal civil, en charge du service de l’assistance juridique, a rejeté, sans frais, la requête d’assistance juridique formée par A______ en relation avec la procédure de recours devant la Cour de céans, considérant, sur la base de la jurisprudence en la matière, que le recours était dépourvu de chances de succès, de sorte qu’une personne raisonnable et de condition aisée renoncerait à s’y engager en raison des frais qu’elle s’exposerait à devoir supporter.</p>\\n<p align=\"center\"><b>\\xa0</b></p>\\n<p align=\"center\"><b>\\xa0</b></p>\\n<p align=\"center\"><b>\\xa0</b></p>\\n<p><b>\\xa0</b></p>\\n<p><b>\\xa0</b></p>\\n<p><b>\\xa0</b></p>\\n<a name=\"ED\"></a><div class=\"efd\">EN DROIT</div>\\n<p><b>\\xa0</b></p>\\n<p><b>1.</b> Le recours a été interjeté dans le délai et les formes prescrites par la loi, auprès de la Cour de céans, compétente pour statuer sur les recours dirigés contre les décisions du CSM (art. 62 al. 1 let. a, art. 64 al. 1 et art. 65 al. 1 et 2 LPA\\xa0; art. 138 let. a de la loi sur l’organisation judiciaire du 26 septembre 2010 (LOJ – RS/GE <a href=\"http://ge.ch/justice/donnees/perl/JmpLex/E%202%2005\">E 2 05</a>)). </p>\\n<p>\\xa0</p>\\n<p><b>2. </b>La loi de procédure administrative (ci-après LPA) est applicable aux procédures relevant de la compétence de la Cour de céans (art.\\xa0139 al. 1 LOJ). </p>\\n<p>\\xa0</p>\\n<p><b>3. </b>Le recours devant la Cour de céans peut être formé pour violation du droit y compris l’excès et l’abus du pouvoir d’appréciation (art. 61 al. 1 let. a LPA) ainsi que pour constatation inexacte ou incomplète des faits pertinents (art. 61 al. 1 let. b LPA). </p>\\n<p>Les juridictions administratives n’ont toutefois pas compétence pour apprécier l’opportunité de la décision attaquée, sauf exception prévue par la loi (art. 61 al. 2 LPA).</p>\\n<p>\\xa0</p>\\n<p>La juridiction administrative chargée de statuer sur un recours est liée par les conclusions des parties (art. 69 al. 1 LPA).</p>\\n<p>\\xa0</p>\\n<p><b>4.</b> La Cour de céans peut, sans instruction préalable, par une décision sommairement motivée, écarter un recours manifestement irrecevable ou rejeter un recours mal fondé (art.\\xa072 LPA). </p>\\n<p>\\xa0</p>\\n<p>Tel est le cas, en l’espèce, pour les motifs qui suivent.</p>\\n<p><b>5.</b> </p>\\n<p><b>\\xa0</b></p>\\n<p><b>5.1.</b> A teneur de l’art. 60 al. 1 LPA, ont qualité pour recourir, notamment, «\\xa0les parties à la procédure qui a abouti à la décision attaquée\\xa0» (let. a) et «\\xa0toute personne qui est touchée directement par «\\xa0une décision et a un intérêt personnel digne de protection à ce que l’acte soit annulé ou modifié\\xa0» (let. b). </p>\\n<p>\\xa0</p>\\n<p>Les lettres a et b de cette disposition doivent se lire en parallèle. Ainsi, le particulier qui ne peut faire valoir un intérêt digne de protection ne saurait être admis comme partie recourante, même s’il était partie à la procédure de première instance (<a href=\"https://justice.ge.ch/apps/decis/fr/decis/search?query=ATA/57/2018\">ATA/57/2018</a> du 23\\xa0janvier 2018, consid. 3a et les références citées).</p>\\n<p>\\xa0</p>\\n<p>Les deux conditions de l’art. 60 al. 1 let. b LPA sont conformes au droit fédéral, selon lequel la qualité pour recourir devant les autorités cantonales ne peut pas s\\'apprécier de manière plus restrictive que la qualité pour recourir devant le Tribunal fédéral, les cantons demeurant toutefois libres de concevoir cette qualité de manière plus large (ATF <a href=\"https://justice.ge.ch/apps/decis/fr/decis/search?query=135%20II%20145\">135 II 145</a>, consid. 5 et les arrêts cités).</p>\\n<p>\\xa0</p>\\n<p>En effet, l’art. 60 al. 1 let. b LPA n’est pas plus restrictif ni plus large que l’art. 89 al. 1 let. c de la loi sur le Tribunal fédéral (LTF), à teneur duquel a qualité pour former un recours en matière de droit public quiconque a pris part à la procédure devant l\\'autorité précédente ou a été privé de la possibilité de le faire (let. a), est particulièrement atteint par la décision attaquée (let. b) et a un intérêt digne de protection à son annulation ou à sa modification (let.\\xa0c) (arrêts CAPJ 13_ 2016 du 2 février 2017\\xa0consid. 3\\xa0; 11_2016 du 12 octobre 2016 consid. 3).</p>\\n<p>\\xa0</p>\\n<p>A cet égard, le Tribunal fédéral a précisé que constitue un intérêt digne de protection, au sens de l\\'art. 89 al. 1 let. c LTF, tout intérêt pratique ou juridique à demander la modification ou l\\'annulation de la décision attaquée\\xa0; il consiste donc dans l\\'utilité pratique que l\\'admission du recours apporterait au recourant, en lui évitant de subir un préjudice de nature économique, idéale, matérielle ou autre que la décision attaquée lui occasionnerait. Cet intérêt doit être direct et concret\\xa0; en particulier, le recourant doit se trouver, avec la décision entreprise, dans un rapport suffisamment étroit, spécial et digne d\\'être pris en considération. Il doit être touché dans une mesure et avec une intensité plus grande que l\\'ensemble des administrés (ATF <a href=\"https://justice.ge.ch/apps/decis/fr/decis/search?query=137%20II%2040\">137 II 40</a>,\\xa0consid. 2.3\\xa0;\\xa0<a href=\"https://justice.ge.ch/apps/decis/fr/decis/search?query=135%20II%20145\">135 II 145</a>,\\xa0consid. 6.1\\xa0;\\xa0<a href=\"https://justice.ge.ch/apps/decis/fr/decis/search?query=131%20II%20649\">131 II 649</a>,\\xa0consid. 3.1 et les arrêts cités).</p>\\n<p>\\xa0</p>\\n<p>La dénonciation est une procédure non contentieuse par laquelle n\\'importe quel administré peut attirer l\\'attention d\\'une autorité hiérarchiquement supérieure sur une situation de fait ou de droit qui justifierait à son avis une intervention de l\\'Etat dans l\\'intérêt public. La dénonciation est possible dans toute matière où l\\'autorité pourrait intervenir d\\'office. En principe, l\\'administré n\\'a aucun droit à ce que sa dénonciation soit suivie d\\'effets, car l\\'autorité saisie peut, après un examen sommaire, décider de la classer sans suite\\xa0; le dénonciateur n\\'a même pas de droit à ce que l\\'autorité prenne une décision au sujet de sa dénonciation (ATF <a href=\"https://justice.ge.ch/apps/decis/fr/decis/search?query=133%20II%20468\">133 II 468</a>, consid. 2 et les références citées).</p>\\n<p>\\xa0</p>\\n<p>Même si le tiers dénonciateur est désigné comme plaignant à l\\'art. 19 al. 4 LOJ – terme qui a été réintroduit sans explication aux cours des débats sur le PL 11873-A (MGC [en ligne], Séance du jeudi 24 novembre 2016 à 20h30 – 1<sup>ère</sup> législature – 3<sup>ème</sup> année – 10<sup>ème</sup> session – 54<sup>ème</sup> séance, disponible sur http://ge.ch/grandconseil/memorial/seances/010310/54/6/), lequel tendait, entre autres, à modifier la terminologie de «\\xa0plainte\\xa0» et «\\xa0plaignant\\xa0» pour utiliser celle plus adéquate de «\\xa0dénonciation\\xa0» et «\\xa0dénonciateur\\xa0» (PL 11873, p.\\xa07) –, il s’agit d’une situation analogue à celle d’une dénonciation, qui tend à obtenir le prononcé d’une sanction à l’encontre d’un magistrat. La dénonciation n’ouvre pas une procédure administrative, proprement dite, mais constitue une simple démarche visant à ce que l’autorité fasse usage de ses pouvoirs (T. Tanquerel, Les tiers dans les procédures disciplinaires, <i>in</i> Les tiers dans la procédure administrative, Genève, 2004, p. 106\\xa0; P. Moor et E. Poltier, Droit administratif, Volume II, 3<sup>ème</sup> édition, p. 616, 617). Il s’ensuit que, même si la loi octroie certains droits à un dénonciateur-plaignant, tel que le droit à l’information ou à une audition (Tanquerel, op. cit., p. 115 à 118\\xa0; cf. art. 19 al. 4 et 5 LOJ), celui-ci n’a pas la qualité de partie, car il n’est pas touché dans un intérêt digne de protection direct et concret, ni n’a le droit de recourir (Tanquerel, op. cit., p. 108-109\\xa0; Moor et Poltier, op.cit., p. 617\\xa0; Tanquerel, Manuel de droit administratif, 2018, p. 496, ch. 1442\\xa0; cf. à cet égard également la jurisprudence cantonale <a href=\"https://justice.ge.ch/apps/decis/fr/decis/search?query=ATA/12/2007\">ATA/12/2007</a> du 16 janvier 2007 et fédérale ATF <a href=\"https://justice.ge.ch/apps/decis/fr/decis/search?query=133%20II%20468\">133 II 468</a>, consid. 2, ATF <a href=\"https://justice.ge.ch/apps/decis/fr/decis/search?query=135%20II%20145\">135 II 145</a> consid. 6.1 et 6.2\\xa0; arrêt du Tribunal fédéral <a href=\"https://justice.ge.ch/apps/decis/fr/decis/search?query=1C_365/2018\">1C_365/2018</a> du 20 septembre 2018, consid. 2).</p>\\n<p>\\xa0</p>\\n<p>Dans une procédure de cette nature, la seule qualité de plaignant ou de dénonciateur ne donne ainsi pas le droit de recourir contre la décision prise\\xa0par l’autorité disciplinaire, en l’occurrence le CSM\\xa0: pour être en droit d’agir, il faut que le plaignant ou le dénonciateur réunisse les deux conditions cumulatives prévues à l’art. 60 al. 1 let. b LPA précité, à savoir, être touché directement par la décision querellée et avoir un intérêt personnel digne de protection à ce que cette décision soit annulée ou modifiée.</p>\\n<p>\\xa0</p>\\n<p>Sur la base de ces principes, le Tribunal fédéral a confirmé une décision de la Commission du barreau genevoise qui avait dénié la qualité pour recourir au plaignant dans le cadre d\\'une procédure disciplinaire dirigée contre un avocat, considérant que le plaignant n\\'avait pas un intérêt propre et digne de protection à demander une sanction disciplinaire à l\\'encontre de cet avocat pour une éventuelle violation de ses obligations professionnelles. Le Tribunal fédéral a ainsi considéré que la procédure de surveillance disciplinaire des avocats avait pour but d\\'assurer l\\'exercice correct de la profession par les avocats et de préserver la confiance du public à leur égard, et non pas de défendre les intérêts privés des particuliers (ATF <a href=\"https://justice.ge.ch/apps/decis/fr/decis/search?query=135%20II%20145\">135 II 145</a>, consid. 6.1\\xa0;\\xa0<a href=\"https://justice.ge.ch/apps/decis/fr/decis/search?query=132%20II%20250\">132 II 250</a>, consid. 4.4\\xa0;\\xa0<a href=\"https://justice.ge.ch/apps/decis/fr/decis/search?query=108%20Ia%20230\">108 Ia 230</a>, consid. 2b). </p>\\n<p>\\xa0</p>\\n<p>Cette jurisprudence a été également appliquée, dans le cadre d\\'une procédure disciplinaire dirigée contre un notaire vaudois (ATF <a href=\"https://justice.ge.ch/apps/decis/fr/decis/search?query=133%20II%20468\">133 II 468</a>,\\xa0consid. 2) ainsi que contre des magistrats du Pouvoir judiciaire vaudois (cf. arrêt du Tribunal fédéral <a href=\"https://justice.ge.ch/apps/decis/fr/decis/search?query=1D_2/2016\">1D_2/2016</a> du 7 juin 2016, consid.\\xa02, avec références aux arrêts du Tribunal fédéral <a href=\"https://justice.ge.ch/apps/decis/fr/decis/search?query=1C_408/2011\">1C_408/2011</a> du 7 octobre 2011, consid. 1, et <a href=\"https://justice.ge.ch/apps/decis/fr/decis/search?query=1B_273/2008\">1B_273/2008</a> du 16 octobre 2008, consid. 3.1) et genevois (arrêt du Tribunal fédéral <a href=\"https://justice.ge.ch/apps/decis/fr/decis/search?query=1C_365/2018\">1C_365/2018</a> du 20 septembre 2018, consid. 2 in fine). Dans la décision du 7 juin 2016, le Tribunal fédéral a rappelé que «\\xa0<i>[s]elon la jurisprudence, ni le dénonciateur ni les tiers intéressés n’ont qualité pour recourir auprès du Tribunal fédéral contre le refus de l’autorité cantonale de surveillance de donner suite à une dénonciation visant l’ordre judiciaire en général ou l’un de ses membres faute de pouvoir se prévaloir d’un intérêt digne de protection à son annulation au sens de l’art. 89 al. 1 let. c LTF ou d’un intérêt juridique au sens de l’art. 115 let. b LTF. La surveillance des magistrats vise en effet à assurer un exercice correct de leur charge et à préserver la confiance des justiciables et non à défendre les intérêts privés des particuliers\\xa0</i>».</p>\\n<p>\\xa0</p>\\n<p><b>5.2.</b> Au vu de l’ensemble des principes sus-énoncés la recourante n’est pas – et ne peut pas être – partie à la procédure concernant le magistrat qu’elle a dénoncé, faute d’avoir, un intérêt direct et concret digne de protection à l’annulation ou à la modification de la décision entreprise au sens de la jurisprudence précitée.</p>\\n<p>\\xa0</p>\\n<p>Il s’ensuit que la recourante, simple dénonciatrice, n’est pas habilitée à recourir contre la décision du CSM, de sorte que son recours doit être déclaré irrecevable.</p>\\n<p>\\xa0</p>\\n<p><b>6.</b> La Cour de céans relève, à toutes fins utiles, que le contrôle des griefs que la recourante semble adresser au magistrat mis en cause sont de la compétence des autorités de recours, car ceux-ci concernent l’application de la loi et de la jurisprudence. </p>\\n<p>\\xa0</p>\\n<p><b>7</b><b>.</b> Le recours, manifestement en tous points irrecevable, sera déclaré comme tel, sans autre acte d’instruction (art. 72 LPA).</p>\\n<p>\\xa0</p>\\n<p><b>8.</b> Au vu des circonstances du cas d’espèce, il sera renoncé à mettre des frais ou émolument à charge de la recourante (art. 87 al. 1 LPA).</p>\\n<p>\\xa0</p>\\n<p align=\"center\">\\xa0</p>\\n<p>\\xa0</p>\\n<p align=\"center\">\\xa0</p>\\n<p align=\"center\">***</p>\\n<br clear=\"all\"> <p align=\"center\"><b>\\xa0</b></p>\\n<a name=\"PCM\"></a><div class=\"efd\">PAR CES MOTIFS</div>\\n<p align=\"center\"><b>\\xa0</b></p>\\n<p align=\"center\"><b>\\xa0</b></p>\\n<p align=\"center\"><b>LA COUR D’APPEL DU POUVOIR JUDICIAIRE</b></p>\\n<p>\\xa0</p>\\n<p>\\xa0</p>\\n<p>- Déclare irrecevable le recours déposé le 3 mars 2020 par A______ contre la décision du Conseil supérieur de la magistrature du 13 janvier 2020.</p>\\n<p>\\xa0</p>\\n<p>- Renonce à mettre des frais et émolument à la charge de la recourante.</p>\\n<p>\\xa0</p>\\n<p>- Dit que, conformément aux articles 82 et suivants de la loi fédérale sur le Tribunal fédéral du 17 juin 2005 (LTF\\xa0– <a href=\"http://ge.ch/justice/donnees/perl/JmpLex/RS%20173.110\">RS 173.110</a>) le présent arrêt peut être porté dans les 30 jours qui suivent sa notification par devant le Tribunal fédéral par la voie du recours en matière de droit public. Le délai est suspendu pendant les périodes prévues à l’article 46 LTF. Le mémoire de recours doit indiquer les conclusions, motifs et moyens de preuves et porter la signature du recourant ou de son mandataire. Il doit être adressé au Tribunal fédéral, 1000 Lausanne 14, par voie postale ou par voie électronique aux conditions de l’article 42 LTF. Le présent arrêt et les pièces en possession du recours invoquées comme moyens de preuves doivent être joints à l’envoi.</p>\\n<p>\\xa0</p>\\n<p>- Communique le présent arrêt à A______ et au Conseil supérieur de la magistrature.</p>\\n<p>\\xa0</p>\\n<p>\\xa0</p>\\n<p>\\xa0</p>\\n<p>Siégeant\\xa0: M.\\xa0Matteo PEDRAZZINI, Président, Mme Renate PFISTER-LIECHTI, Vice-Présidente, Mme\\xa0Marie-Laure PAPAUX VAN DELDEN, Juge titulaire.</p>\\n<p>\\xa0</p>\\n<p>\\xa0</p>\\n<p>\\xa0</p>\\n<p>\\xa0</p>\\n<p>\\xa0</p>\\n<p align=\"center\"><b>AU NOM DE LA COUR D’APPEL DU POUVOIR JUDICIAIRE</b></p>\\n<p>\\xa0</p>\\n<p>\\xa0</p>\\n<p align=\"center\"> Sonia NAINA Matteo PEDRAZZINI</p>\\n<p align=\"center\">Greffière Président</p>\\n<p align=\"center\">\\xa0</p>\\n<p>\\xa0</p>\\n<p>\\xa0</p>\\n<p>\\xa0</p>\\n<p>Copie conforme du présent arrêt a été communiquée à A______ et au Conseil supérieur de la magistrature, par pli recommandé.</p>\\n \\n    </div>  \\n  </div>\\n</div>\\n\\n            </div></body></html></html>'"
      ]
     },
     "execution_count": 19,
     "metadata": {},
     "output_type": "execute_result"
    }
   ],
   "source": [
    "df_law['Raw'][0]"
   ]
  },
  {
   "cell_type": "markdown",
   "metadata": {
    "id": "DmQ6fQfJm_u6"
   },
   "source": [
    "I guess that is the HTLM documents we will explore I suppose"
   ]
  },
  {
   "cell_type": "code",
   "execution_count": null,
   "metadata": {
    "colab": {
     "base_uri": "https://localhost:8080/",
     "height": 36
    },
    "id": "bXCSSjBRnhXh",
    "outputId": "1fe5554b-c3a4-42b5-947f-be050732c7ed"
   },
   "outputs": [
    {
     "data": {
      "application/vnd.google.colaboratory.intrinsic+json": {
       "type": "string"
      },
      "text/plain": [
       "'html'"
      ]
     },
     "execution_count": 20,
     "metadata": {},
     "output_type": "execute_result"
    }
   ],
   "source": [
    "df_law['RawType'][0]"
   ]
  },
  {
   "cell_type": "markdown",
   "metadata": {
    "id": "UcNHYVsdnuSI"
   },
   "source": [
    "OK....Columns to remove"
   ]
  },
  {
   "cell_type": "code",
   "execution_count": null,
   "metadata": {
    "colab": {
     "base_uri": "https://localhost:8080/"
    },
    "id": "p29d1_2bn9Ct",
    "outputId": "0352689e-2777-4615-b5f2-12bc24d13fd8"
   },
   "outputs": [
    {
     "data": {
      "text/plain": [
       "array(['html'], dtype=object)"
      ]
     },
     "execution_count": 22,
     "metadata": {},
     "output_type": "execute_result"
    }
   ],
   "source": [
    "df_law['RawType'].unique()"
   ]
  },
  {
   "cell_type": "markdown",
   "metadata": {
    "id": "NynzLbOeoD0D"
   },
   "source": [
    "We only have 'HTLM' in that column"
   ]
  },
  {
   "cell_type": "code",
   "execution_count": null,
   "metadata": {
    "colab": {
     "base_uri": "https://localhost:8080/",
     "height": 36
    },
    "id": "uD-MY3xGoOwD",
    "outputId": "797bac6a-fd58-4a28-d8e6-50543a59ed57"
   },
   "outputs": [
    {
     "data": {
      "application/vnd.google.colaboratory.intrinsic+json": {
       "type": "string"
      },
      "text/plain": [
       "'446973/35/762'"
      ]
     },
     "execution_count": 23,
     "metadata": {},
     "output_type": "execute_result"
    }
   ],
   "source": [
    "df_law['ScrapyJob'][0]"
   ]
  },
  {
   "cell_type": "markdown",
   "metadata": {
    "id": "5J55UD0coWCo"
   },
   "source": [
    "What is that ?"
   ]
  },
  {
   "cell_type": "code",
   "execution_count": null,
   "metadata": {
    "colab": {
     "base_uri": "https://localhost:8080/",
     "height": 36
    },
    "id": "bgVlDTg3oZG0",
    "outputId": "5ac59d11-3214-4476-f1d4-fa72363fff8f"
   },
   "outputs": [
    {
     "data": {
      "application/vnd.google.colaboratory.intrinsic+json": {
       "type": "string"
      },
      "text/plain": [
       "'GE_CAPJ_001'"
      ]
     },
     "execution_count": 24,
     "metadata": {},
     "output_type": "execute_result"
    }
   ],
   "source": [
    "df_law['Signatur'][0]"
   ]
  },
  {
   "cell_type": "markdown",
   "metadata": {
    "id": "5gl-Y60AoltZ"
   },
   "source": [
    "Is it useful ?"
   ]
  },
  {
   "cell_type": "code",
   "execution_count": null,
   "metadata": {
    "colab": {
     "base_uri": "https://localhost:8080/",
     "height": 36
    },
    "id": "OMlsPlqboieT",
    "outputId": "18e1f0b3-3505-436d-de4b-6e9198b7250a"
   },
   "outputs": [
    {
     "data": {
      "application/vnd.google.colaboratory.intrinsic+json": {
       "type": "string"
      },
      "text/plain": [
       "'entscheidsuche.ch'"
      ]
     },
     "execution_count": 25,
     "metadata": {},
     "output_type": "execute_result"
    }
   ],
   "source": [
    "df_law['Site'][0]"
   ]
  },
  {
   "cell_type": "code",
   "execution_count": null,
   "metadata": {
    "colab": {
     "base_uri": "https://localhost:8080/",
     "height": 36
    },
    "id": "7yHq2aMEo-i7",
    "outputId": "25a4ea63-a830-47fa-82c9-4a998bc92e9f"
   },
   "outputs": [
    {
     "data": {
      "application/vnd.google.colaboratory.intrinsic+json": {
       "type": "string"
      },
      "text/plain": [
       "'GE_Gerichte'"
      ]
     },
     "execution_count": 26,
     "metadata": {},
     "output_type": "execute_result"
    }
   ],
   "source": [
    "df_law['Spider'][0]"
   ]
  },
  {
   "cell_type": "markdown",
   "metadata": {
    "id": "Vlj1ZOoypGWM"
   },
   "source": [
    "Is it useful ?"
   ]
  },
  {
   "cell_type": "code",
   "execution_count": null,
   "metadata": {
    "colab": {
     "base_uri": "https://localhost:8080/",
     "height": 36
    },
    "id": "SNTIctnepVnR",
    "outputId": "5e52b930-8223-4d9e-fafb-94dc65efa995"
   },
   "outputs": [
    {
     "data": {
      "application/vnd.google.colaboratory.intrinsic+json": {
       "type": "string"
      },
      "text/plain": [
       "'fr'"
      ]
     },
     "execution_count": 27,
     "metadata": {},
     "output_type": "execute_result"
    }
   ],
   "source": [
    "df_law['Sprache'][0]"
   ]
  },
  {
   "cell_type": "markdown",
   "metadata": {
    "id": "hzLceCprpKaF"
   },
   "source": [
    "That is the language of the document, I guess"
   ]
  },
  {
   "cell_type": "code",
   "execution_count": null,
   "metadata": {
    "colab": {
     "base_uri": "https://localhost:8080/"
    },
    "id": "z8FRBm_Kpd95",
    "outputId": "e3b4a621-245b-402b-ed57-6600b28c1a69"
   },
   "outputs": [
    {
     "data": {
      "text/plain": [
       "array(['fr', 'de', 'it'], dtype=object)"
      ]
     },
     "execution_count": 28,
     "metadata": {},
     "output_type": "execute_result"
    }
   ],
   "source": [
    "df_law['Sprache'].unique()"
   ]
  },
  {
   "cell_type": "markdown",
   "metadata": {
    "id": "UB0uVfxNpjEJ"
   },
   "source": [
    "We have 3 languages in our documents, French, Italians and DE"
   ]
  },
  {
   "cell_type": "code",
   "execution_count": null,
   "metadata": {
    "colab": {
     "base_uri": "https://localhost:8080/"
    },
    "id": "OAAxJAurpiDB",
    "outputId": "ca474ce7-cd5e-421b-a849-0cb7fc2623f6"
   },
   "outputs": [
    {
     "data": {
      "text/plain": [
       "fr    91447\n",
       "de      571\n",
       "it      159\n",
       "Name: Sprache, dtype: int64"
      ]
     },
     "execution_count": 31,
     "metadata": {},
     "output_type": "execute_result"
    }
   ],
   "source": [
    "df_law['Sprache'].value_counts()"
   ]
  },
  {
   "cell_type": "markdown",
   "metadata": {
    "id": "wg88-LDvqI8a"
   },
   "source": [
    "Most of the documents are in French. 91K where (IT + DE) => 700"
   ]
  },
  {
   "cell_type": "code",
   "execution_count": null,
   "metadata": {
    "colab": {
     "base_uri": "https://localhost:8080/",
     "height": 36
    },
    "id": "VB88aCcvrYRg",
    "outputId": "c3a35d53-8db4-4925-df43-dc1598e229ab"
   },
   "outputs": [
    {
     "data": {
      "application/vnd.google.colaboratory.intrinsic+json": {
       "type": "string"
      },
      "text/plain": [
       "'case law'"
      ]
     },
     "execution_count": 32,
     "metadata": {},
     "output_type": "execute_result"
    }
   ],
   "source": [
    "df_law['Type'][0]"
   ]
  },
  {
   "cell_type": "code",
   "execution_count": null,
   "metadata": {
    "colab": {
     "base_uri": "https://localhost:8080/"
    },
    "id": "4k5Gnludrgtd",
    "outputId": "757740bb-588c-4a9b-8209-8df7406e4117"
   },
   "outputs": [
    {
     "data": {
      "text/plain": [
       "array(['case law'], dtype=object)"
      ]
     },
     "execution_count": 33,
     "metadata": {},
     "output_type": "execute_result"
    }
   ],
   "source": [
    "df_law['Type'].unique()"
   ]
  },
  {
   "cell_type": "markdown",
   "metadata": {
    "id": "_CRzUOpZrmcx"
   },
   "source": [
    "The documents are only about law cases"
   ]
  },
  {
   "cell_type": "code",
   "execution_count": null,
   "metadata": {
    "colab": {
     "base_uri": "https://localhost:8080/",
     "height": 36
    },
    "id": "B6SfZ9GTr4eI",
    "outputId": "0a11c8b2-c7d7-444f-a01a-4c7cefee87de"
   },
   "outputs": [
    {
     "data": {
      "application/vnd.google.colaboratory.intrinsic+json": {
       "type": "string"
      },
      "text/plain": [
       "'https://entscheidsuche.ch/docs/GE_Gerichte/GE_CAPJ_001_CAPJ-01-2020_2020-06-19.html'"
      ]
     },
     "execution_count": 34,
     "metadata": {},
     "output_type": "execute_result"
    }
   ],
   "source": [
    "df_law['Uri'][0]"
   ]
  },
  {
   "cell_type": "code",
   "execution_count": null,
   "metadata": {
    "colab": {
     "base_uri": "https://localhost:8080/",
     "height": 36
    },
    "id": "byJZu7VzsIuJ",
    "outputId": "b1619073-ec38-48c0-f9b8-6d9a1733b224"
   },
   "outputs": [
    {
     "data": {
      "application/vnd.google.colaboratory.intrinsic+json": {
       "type": "string"
      },
      "text/plain": [
       "'23.05.2022 01:09:59'"
      ]
     },
     "execution_count": 35,
     "metadata": {},
     "output_type": "execute_result"
    }
   ],
   "source": [
    "df_law['Zeit UTC'][0]"
   ]
  },
  {
   "cell_type": "markdown",
   "metadata": {
    "id": "INzN820_sRl8"
   },
   "source": [
    "What does it refer to ?"
   ]
  },
  {
   "cell_type": "code",
   "execution_count": null,
   "metadata": {
    "colab": {
     "base_uri": "https://localhost:8080/"
    },
    "id": "nJBGYQhcsWoA",
    "outputId": "7f7a5f3d-9bc1-48c5-b03f-ebf3faac2586"
   },
   "outputs": [
    {
     "data": {
      "text/plain": [
       "0"
      ]
     },
     "execution_count": 36,
     "metadata": {},
     "output_type": "execute_result"
    }
   ],
   "source": [
    "df_law['__v'][0]"
   ]
  },
  {
   "cell_type": "code",
   "execution_count": null,
   "metadata": {
    "colab": {
     "base_uri": "https://localhost:8080/"
    },
    "id": "XGg1pOXWshrd",
    "outputId": "92044579-24cb-46ff-bc27-a8b390507b79"
   },
   "outputs": [
    {
     "data": {
      "text/plain": [
       "array([0])"
      ]
     },
     "execution_count": 37,
     "metadata": {},
     "output_type": "execute_result"
    }
   ],
   "source": [
    "df_law['__v'].unique()"
   ]
  },
  {
   "cell_type": "code",
   "execution_count": null,
   "metadata": {
    "colab": {
     "base_uri": "https://localhost:8080/"
    },
    "id": "jorS-rKRsoDY",
    "outputId": "b38912fb-9fa1-485c-8fdd-9e5e093c9d6a"
   },
   "outputs": [
    {
     "data": {
      "text/plain": [
       "0"
      ]
     },
     "execution_count": 38,
     "metadata": {},
     "output_type": "execute_result"
    }
   ],
   "source": [
    "df_law['__v'].sum()"
   ]
  },
  {
   "cell_type": "markdown",
   "metadata": {
    "id": "QkWjqCodssVY"
   },
   "source": [
    "What is the point of this column ?"
   ]
  },
  {
   "cell_type": "code",
   "execution_count": null,
   "metadata": {
    "colab": {
     "base_uri": "https://localhost:8080/",
     "height": 36
    },
    "id": "2OkX5kDctARO",
    "outputId": "fda9d0bb-7bb6-4adf-d9e5-3b4fd701647f"
   },
   "outputs": [
    {
     "data": {
      "application/vnd.google.colaboratory.intrinsic+json": {
       "type": "string"
      },
      "text/plain": [
       "'63218f363ca37d0db12644a8'"
      ]
     },
     "execution_count": 39,
     "metadata": {},
     "output_type": "execute_result"
    }
   ],
   "source": [
    "df_law['_id'][0]"
   ]
  },
  {
   "cell_type": "markdown",
   "metadata": {
    "id": "3FpY3pTRtNV5"
   },
   "source": [
    "Seems like I have many columns with IDs..."
   ]
  },
  {
   "cell_type": "markdown",
   "metadata": {
    "id": "FHz-K5iVtgJ2"
   },
   "source": [
    "I need to process the HTML document so it could be readable, the function below (get_text) do the job"
   ]
  },
  {
   "cell_type": "code",
   "execution_count": null,
   "metadata": {
    "id": "VAFhCfomIWEr"
   },
   "outputs": [],
   "source": [
    "def get_text(html_string: str) -> str:\n",
    "    \"\"\" Extract the text from an HTML string. \"\"\"\"\"\n",
    " \n",
    "    parsed_html = html.fromstring(html_string)\n",
    "    p_tags = parsed_html.xpath('//p') # Find all the <p> tags\n",
    "    text = ' '.join([p_tag.text_content() for p_tag in p_tags])\n",
    "\n",
    "    text = html_parser.unescape(text) # Unescape HTML entities\n",
    "    text = re.sub('\\s+', ' ', text) # Remove extra whitespace\n",
    "\n",
    "    return text\n"
   ]
  },
  {
   "cell_type": "code",
   "execution_count": null,
   "metadata": {
    "id": "ZV81Ambl006u"
   },
   "outputs": [],
   "source": [
    "# @title Trying with Polars\n",
    "# df_law = df_law.with_columns(pl.col('Raw').apply(lambda x: get_text(x)).alias('text'))"
   ]
  },
  {
   "cell_type": "code",
   "execution_count": null,
   "metadata": {
    "id": "K4GD6EaNMmMf"
   },
   "outputs": [],
   "source": [
    "# data_law = df_law.collect()"
   ]
  },
  {
   "cell_type": "markdown",
   "metadata": {
    "id": "uUBOhGPVTguK"
   },
   "source": [
    "Using polars takes too much memory...17.2 go"
   ]
  },
  {
   "cell_type": "code",
   "execution_count": null,
   "metadata": {
    "colab": {
     "base_uri": "https://localhost:8080/",
     "height": 657,
     "referenced_widgets": [
      "c1b47d4c8d37455f9d82eaad0fbf6407",
      "21d23f80ebfe404ead9c1ee99df4de9d",
      "8749aee83d7e40ae9e21ff5fc4bffe7c",
      "b352f483e4f44e88ae55396ba8e12cc3",
      "514f07ca386a41b5b58f3c7ad5dfd3b2",
      "4e176d2bd7444a29a0d22f3ff6791f6b",
      "6bbbecffa3d44a448579c96fbec429ad",
      "44dd419b3e394133b0938e155cb0bf45",
      "189081acd2694a95948c86f66af10989",
      "453e9b7235ea4841bb2b4e38527c98b9",
      "42bfb9d5d1fd4b4e8921d56163e2d5c2",
      "dc2c9b6bbcb34fe895034c0a439f5e59",
      "94fa93a9ef4548fe8e08e72e534787a1",
      "1dcf91de326d46cab6e5f16bd9ca321a",
      "5339c1b712cf4127b0c5496a1367b3a4",
      "6ecd07e4f749492d915d0aaacb9558cf",
      "b043c20486c746ca99da56073a8cba95",
      "9aee1f3324694f0ea7796cb7fa40d977",
      "c3000ce028804094a582042cf78278f8",
      "22e6c63fb2f044dd84df5c4667cbd19b",
      "c2e0c6faf2f740ec82de1742bb5a1e2e",
      "ddeb0a9001c34fdd937b6fe9b8bcf51a",
      "cb4d0343f9be4f4ab94453f1b9357fdc",
      "908fc38c557e49039d45275c8ada32b8",
      "907c908c55114337837895371bc38bca",
      "b618cc6bc537406c9daab81a92869d64",
      "5bf9eaaf66a848b09f7b617c22cca955",
      "744ac680a73b45be80c4d69008a21be2",
      "1b4b202d9d7c4e6c8a1c2971eeb8587c",
      "4c1c8a30a9b54b75a9dfce5d60fabe01",
      "d2d60fcb9e9348248f615fd0cc0a2e9a",
      "bfb6e16e5a284858abfa38c0fbfd4179",
      "afd3abcaa44947149cd5f3b3e23095de",
      "c8165e44f17a4e579276987a201f6167",
      "ab5786a65a3c4a98828837b0ccf7c8f2",
      "ca2235879b224f7683013a793767bffa",
      "cf072af75e0045fb8630f22432a73478",
      "2b613130eb184519a85a630edaa0d3bf",
      "8045fe4d66604c3ab062de6f4cc8de95",
      "f3947e5a5ad84ceb87cb75e3c537cbdc",
      "9cabf4a34df34928a3a4d89b221b9430",
      "7c54bdae22e847bbbe980784d684b614",
      "2ce2036fa8804f10955584378071d843",
      "0c0132a95fa64bec94421a23ff466bba",
      "b2e98d3ae89d48e1a3010c23e1bdd181",
      "a7c437527a894a5ba9a57fd2a77593f4",
      "c238a8d2c95747ebac532473a434f682",
      "951aa8920433474885f06430cd6233f2",
      "a4ca1f5d3da343cda76e8ff1a2b863db",
      "a7588db00a8d42218feda66ef6c41936",
      "9cb8efc19af14b98b2cdbe7801347d94",
      "4ff756686f7d47b1b8be8e648ec3a352",
      "3ad6188f0681404f9acf738635737801",
      "78bf3fd29a3e4d0290aaa5c4e80b912a",
      "ab58d6b45d7f49c582e94fd945259fc7",
      "a7151488cfa04f78a136f5cf8fbc8c7a",
      "b82df30484884617af6f5f39da7eea34",
      "6f2c906eb5d64fa6b1e2b911a4d0cd53",
      "d2ccadeb2c8c4f1ea2fc6f3bd3f7c1f0",
      "aef600d320054d28b9241f89d1858c5f",
      "da99e3c6f13642e7bbf488a2bb095ddc",
      "74f7ae22fcd141e195683d3ea1140230",
      "435b38ad4eb74811b9b9ae7e794e849e",
      "7980d30a4016474e8cb2e4e1f751db5d",
      "3d923fd44cf74f5e84c33a3604f68a02",
      "7e7ec337cb6741dd9b65dc75a58c0d72",
      "53400d407a464b6eab7430930cf40d0c",
      "de21f13f915c4ac585038ce1cb015dd7",
      "a192aafa41bc46fcadff624f1a518025",
      "7e730325ae424e278262dc44e1ba5a32",
      "79760910658243eca48f42e6701c90d5",
      "20f83546765c47eb83cefaa96fd9a32a",
      "391e10a8a250417580260ecf8e334b9d",
      "a46c8b3e23c74d199af8a9c14e5f347b",
      "fd07b0b8743f43e58117a730694c7edc",
      "b2a14b6a17a94a0b9810ad2624f48512",
      "ee074dda55944fe596fc4f537dbe2889",
      "aef9080215854e32b081efff204a33e6",
      "50c6087bf555424cb22b4a5bb18659a6",
      "5a75faabd7474e4c85f002b43af755c4",
      "4a8e484da4ad422fa05afc53a07c9716",
      "6f2d84a53f3440da8a05586e60fae153",
      "6e2911a21f8a4a88b07705128381bb72",
      "9f76be1937f14c7e93aa3e2bc4178355",
      "f2d4c68ff4b64cdeb852eb4a890a53d9",
      "f66ebbf207ca45b8a7605afa87cb923c",
      "95ea21a7eac84882a58530c672f4b9b1",
      "f15e605283bd4805ae6de155f07cbec3",
      "16e01eac2fc94fa7afef8e55ebdcae63",
      "a0dfbe8650764549937f229eb8d953ed",
      "f8c53f8b9cc741458c8f841d07aaf625",
      "cc8e45e64cd746ada9b7a8641603b0b7",
      "8ce8bb31eee14eeab6da555f4bcd5ee0",
      "db5a0fce0d6e4d23ba7fcf775efc1c97",
      "77ddfc764cd14f598007305fd556060d",
      "bd62a70aecde450797ce78f8cf3bdd22",
      "f4e8f41d39f04edb92f2ec7c185a795b",
      "38351e0952b842c9a95984fdeb294727",
      "6715c2e2b6f54f05af20cc99e2bf560f",
      "4a921fe5c5f94a54ac48a14be24bdbcc",
      "a93fa60547024b549ba8390119260653",
      "f1f13119ac04454fbecd9c98719a3688",
      "5d1ed6508c9742e7b24b329a59a6b772",
      "1b2fa078e7444fc794d5f1cb8657d3fd",
      "288f9879bf3a4850bba8fab93ee39c21",
      "12cea1385b5045f2a38873f8fb8af733",
      "ae06e6b4f2964b2daab5acfbb5237021",
      "43d0e29789d34642a626f315f1a369cc",
      "2165f9784dd344c59adf4632f1a06b36",
      "d3f8badcc4864133885e56c5356a03e9",
      "30094e6c151543f5b38eaf354c6cf519",
      "2149aa05cd994b41810dad5216e47ac7",
      "e059241f431c4295af77eafb221982ea",
      "5c6a117f13c543d18ddfeee5501cdf4d",
      "a2ed85840fd44828931d5cb385daeb36",
      "2cf02c9430eb496e8757b2b7b3cdc7fc",
      "3745e51c2c3e4d1e8aa9c3477eab9fd2",
      "5e5cb6e21c04413aa6ce0c0c6ca56711",
      "0290499a15da49f28b2f2b0f6433804a",
      "bead4b4c39904e87b2bf4ac46969e445",
      "38ae1f26cec348138b254865c9a7f89a",
      "e708bd7d86f84bf68e7eddb04dcc49dd",
      "aea52e7bda2248adae4e144d9c3704a8",
      "ba759d88422742619d89002c248d82c4",
      "f25af6eb4f7e4522a3e5e91a1e4408d9",
      "cecabf3ba09c45eebea5e2e623af9127",
      "11f981c1da784f6a9fa50c19c8d3d9fe",
      "91da75a84a904086903669bb75bb769e",
      "c6d339a3779e46f799011c46afe556ce",
      "dcb570986d854ad6b24d5b742923cb12",
      "b8ff48a8ec064663869ab02f2af7e53a",
      "182cffa63b7d4e008942674700ea8c46",
      "f8162753143846549aa13afc76446caf",
      "6ad78e51deb0493bbcccd69d524672c5",
      "a12e685317bf4152a555934d76bdbbed",
      "1b8a2b7da80240d891fe53c1ec317d96",
      "4e148ff4cf8a4ffa96b26a69afdcdd07",
      "39faeacf816b414cbadd24f1471df479",
      "007ecd4f1eb44455a89155c9d7765d72",
      "f728d31be12141169d592e223a836342",
      "d376d7e42da5419b9b7f521fdfd7f644",
      "4d24762275de45dabb232fde4c68015a",
      "256635e337e74b549ba6d7ab1ce4d99c",
      "62729a6625ec48cfafd9b2939ae7d9f2",
      "ba755f2f58434c87b44bb5c76b99bdc9",
      "8e34c22d342c4092a60cb9d293980391",
      "1e8ac4b015f24cb38b6047950738fe7c",
      "b30608ff17b14405ba62268f6c482c90",
      "064a10cfbe2c4aa3b57c390d28bc449b",
      "d408845b84e5427ea1ea45394f954d01",
      "4831041584ad48c087eec98f887631f2",
      "c08a5123f67d49cca97f7a8396a627b0",
      "1d1c85e4a7f140538728f5330a761a77",
      "4371afeb05d0409597af170dbc24f0ba",
      "dcf0a8c41fe24cf1b5de65b822bcdda8",
      "f610ca4339024baeb2074e36e9444558",
      "bdae833a1b4e4b30bcae2293d347de00",
      "b33950d35afe45518867ec7d784ed367",
      "e7d87581bf0c49e0ab424e4d4fe57329",
      "d5348b89a17e4c268bf8b6c595a7e93a",
      "b305f14fe7b74a4bbfc9bd6d8d5f9617",
      "210a9385e5e149b7b8ad4e6cbd12f4fa"
     ]
    },
    "id": "v797-AnR1Q5C",
    "outputId": "7da2d486-2f08-4093-d3f4-479a2edf6945"
   },
   "outputs": [
    {
     "data": {
      "application/vnd.jupyter.widget-view+json": {
       "model_id": "c1b47d4c8d37455f9d82eaad0fbf6407",
       "version_major": 2,
       "version_minor": 0
      },
      "text/plain": [
       "VBox(children=(HBox(children=(IntProgress(value=0, description='0.00%', max=4609), Label(value='0 / 4609'))), …"
      ]
     },
     "metadata": {},
     "output_type": "display_data"
    }
   ],
   "source": [
    "# @title Using Pandas\n",
    "df_law['text'] = df_law['Raw'].parallel_apply(lambda x: get_text(x))"
   ]
  },
  {
   "cell_type": "markdown",
   "metadata": {
    "id": "QlX5zmIAjaaw"
   },
   "source": [
    "Using Pandas takes 9.9 go..."
   ]
  },
  {
   "cell_type": "markdown",
   "metadata": {
    "id": "lsbBy6eDRVIA"
   },
   "source": [
    "Using Pandaparallel speed up computation by 7"
   ]
  },
  {
   "cell_type": "code",
   "execution_count": null,
   "metadata": {
    "colab": {
     "base_uri": "https://localhost:8080/",
     "height": 182
    },
    "id": "BL3QEvYcuMwq",
    "outputId": "d6d7a82a-3b36-4e94-ca47-991e3951a526"
   },
   "outputs": [
    {
     "data": {
      "application/vnd.google.colaboratory.intrinsic+json": {
       "type": "string"
      },
      "text/plain": [
       "\" republique et canton de geneve POUVOIR JUDICIAIRE Cour d’appel du Pouvoir judiciaire Arrêt du 19 juin 2020 CAPJ 1_2020 ACAPJ/2/2020 Madame A______, recourante contre LE CONSEIL SUPERIEUR DE LA MAGISTRATURE, intimé 1. Le 9 avril 2019, A______ a adressé au Conseil supérieur de la magistrature (ci-après : CSM) une dénonciation concernant le Juge B______, en sa qualité de Président du Tribunal de première instance, en charge notamment des mesures provisionnelles, dans le cadre de la procédure C/16238/2016 l’opposant au père de sa fille C______, née le 16 septembre 2011, au sujet de la garde, du droit de visite et des contributions d’entretien. Dans sa dénonciation, assortie de nombreux documents, A______ reprochait à ce magistrat d’importants « manquements » dans la gestion de la procédure précitée, notamment par des mesures super-provisionnelles et provisionnelles. 2. Par décision du 17 octobre 2019, la Présidente du CSM a classé cette dénonciation, considérant qu’il n’était pas une autorité de révision, ni de recours, contre les décisions des juridictions cantonales et que l’examen du dossier ne révélait aucun manquement disciplinaire de la part du magistrat visé par la dénonciation. 3. Par courrier du 4 novembre 2019, A______ a persisté dans sa dénonciation et a contesté ce classement. 4. Par décision du 13 janvier 2020, communiquée à A______ par lettre recommandée du 31 janvier suivant, le CSM, statuant par son conseil, a classé la procédure « A/1129/2019 DIVERS » en reprenant les motifs retenus par sa Présidente. 5. Par acte déposé au greffe de la Cour d’appel du pouvoir judiciaire en date du 3 mars 2020, auquel étaient annexés différents documents, A______ a recouru contre cette décision, dont elle a sollicité l’annulation, concluant à ce qu’il soit ordonné au CSM de reprendre l’instruction, avec la nomination d’un avocat à son profit, et d’exécuter une série d’actes d’instruction, énumérés dans le détail, dont une confrontation entre elle-même et le Juge B______. Préalablement, elle a requis à être dispensée de toute avance de frais, à être mise au bénéfice de l’assistance juridique et à ce que Me D______ ou Me E______ soit désigné en qualité d’avocat d’office. A______, après un résumé de son vécu personnel dans la situation familiale et durant la procédure de première instance, soutient que, « par son comportement, le Juge B______ a commis plusieurs manquements disciplinaires dans cette procédure. Il semble que personne ne corrige l’arbitraire à Genève, ni ne protège une mère et son enfant face à des violations répétées de leurs droits constitutionnels et humains. Je demande dès lors au pouvoir judiciaire de rétablir l’ordre et de faire respecter la justice et les lois ». 6. A réception du recours, la Cour de céans a traité celui-ci par application de l’art. 72 de la loi sur la procédure administrative du 12 septembre 1985 (LPA – RS/GE E 5 10). 7. Par décision du 27 avril 2020, notifiée le 27 mai 2020, la Vice-présidence du Tribunal civil, en charge du service de l’assistance juridique, a rejeté, sans frais, la requête d’assistance juridique formée par A______ en relation avec la procédure de recours devant la Cour de céans, considérant, sur la base de la jurisprudence en la matière, que le recours était dépourvu de chances de succès, de sorte qu’une personne raisonnable et de condition aisée renoncerait à s’y engager en raison des frais qu’elle s’exposerait à devoir supporter. 1. Le recours a été interjeté dans le délai et les formes prescrites par la loi, auprès de la Cour de céans, compétente pour statuer sur les recours dirigés contre les décisions du CSM (art. 62 al. 1 let. a, art. 64 al. 1 et art. 65 al. 1 et 2 LPA ; art. 138 let. a de la loi sur l’organisation judiciaire du 26 septembre 2010 (LOJ – RS/GE E 2 05)). 2. La loi de procédure administrative (ci-après LPA) est applicable aux procédures relevant de la compétence de la Cour de céans (art. 139 al. 1 LOJ). 3. Le recours devant la Cour de céans peut être formé pour violation du droit y compris l’excès et l’abus du pouvoir d’appréciation (art. 61 al. 1 let. a LPA) ainsi que pour constatation inexacte ou incomplète des faits pertinents (art. 61 al. 1 let. b LPA). Les juridictions administratives n’ont toutefois pas compétence pour apprécier l’opportunité de la décision attaquée, sauf exception prévue par la loi (art. 61 al. 2 LPA). La juridiction administrative chargée de statuer sur un recours est liée par les conclusions des parties (art. 69 al. 1 LPA). 4. La Cour de céans peut, sans instruction préalable, par une décision sommairement motivée, écarter un recours manifestement irrecevable ou rejeter un recours mal fondé (art. 72 LPA). Tel est le cas, en l’espèce, pour les motifs qui suivent. 5. 5.1. A teneur de l’art. 60 al. 1 LPA, ont qualité pour recourir, notamment, « les parties à la procédure qui a abouti à la décision attaquée » (let. a) et « toute personne qui est touchée directement par « une décision et a un intérêt personnel digne de protection à ce que l’acte soit annulé ou modifié » (let. b). Les lettres a et b de cette disposition doivent se lire en parallèle. Ainsi, le particulier qui ne peut faire valoir un intérêt digne de protection ne saurait être admis comme partie recourante, même s’il était partie à la procédure de première instance (ATA/57/2018 du 23 janvier 2018, consid. 3a et les références citées). Les deux conditions de l’art. 60 al. 1 let. b LPA sont conformes au droit fédéral, selon lequel la qualité pour recourir devant les autorités cantonales ne peut pas s'apprécier de manière plus restrictive que la qualité pour recourir devant le Tribunal fédéral, les cantons demeurant toutefois libres de concevoir cette qualité de manière plus large (ATF 135 II 145, consid. 5 et les arrêts cités). En effet, l’art. 60 al. 1 let. b LPA n’est pas plus restrictif ni plus large que l’art. 89 al. 1 let. c de la loi sur le Tribunal fédéral (LTF), à teneur duquel a qualité pour former un recours en matière de droit public quiconque a pris part à la procédure devant l'autorité précédente ou a été privé de la possibilité de le faire (let. a), est particulièrement atteint par la décision attaquée (let. b) et a un intérêt digne de protection à son annulation ou à sa modification (let. c) (arrêts CAPJ 13_ 2016 du 2 février 2017 consid. 3 ; 11_2016 du 12 octobre 2016 consid. 3). A cet égard, le Tribunal fédéral a précisé que constitue un intérêt digne de protection, au sens de l'art. 89 al. 1 let. c LTF, tout intérêt pratique ou juridique à demander la modification ou l'annulation de la décision attaquée ; il consiste donc dans l'utilité pratique que l'admission du recours apporterait au recourant, en lui évitant de subir un préjudice de nature économique, idéale, matérielle ou autre que la décision attaquée lui occasionnerait. Cet intérêt doit être direct et concret ; en particulier, le recourant doit se trouver, avec la décision entreprise, dans un rapport suffisamment étroit, spécial et digne d'être pris en considération. Il doit être touché dans une mesure et avec une intensité plus grande que l'ensemble des administrés (ATF 137 II 40, consid. 2.3 ; 135 II 145, consid. 6.1 ; 131 II 649, consid. 3.1 et les arrêts cités). La dénonciation est une procédure non contentieuse par laquelle n'importe quel administré peut attirer l'attention d'une autorité hiérarchiquement supérieure sur une situation de fait ou de droit qui justifierait à son avis une intervention de l'Etat dans l'intérêt public. La dénonciation est possible dans toute matière où l'autorité pourrait intervenir d'office. En principe, l'administré n'a aucun droit à ce que sa dénonciation soit suivie d'effets, car l'autorité saisie peut, après un examen sommaire, décider de la classer sans suite ; le dénonciateur n'a même pas de droit à ce que l'autorité prenne une décision au sujet de sa dénonciation (ATF 133 II 468, consid. 2 et les références citées). Même si le tiers dénonciateur est désigné comme plaignant à l'art. 19 al. 4 LOJ – terme qui a été réintroduit sans explication aux cours des débats sur le PL 11873-A (MGC [en ligne], Séance du jeudi 24 novembre 2016 à 20h30 – 1ère législature – 3ème année – 10ème session – 54ème séance, disponible sur http://ge.ch/grandconseil/memorial/seances/010310/54/6/), lequel tendait, entre autres, à modifier la terminologie de « plainte » et « plaignant » pour utiliser celle plus adéquate de « dénonciation » et « dénonciateur » (PL 11873, p. 7) –, il s’agit d’une situation analogue à celle d’une dénonciation, qui tend à obtenir le prononcé d’une sanction à l’encontre d’un magistrat. La dénonciation n’ouvre pas une procédure administrative, proprement dite, mais constitue une simple démarche visant à ce que l’autorité fasse usage de ses pouvoirs (T. Tanquerel, Les tiers dans les procédures disciplinaires, in Les tiers dans la procédure administrative, Genève, 2004, p. 106 ; P. Moor et E. Poltier, Droit administratif, Volume II, 3ème édition, p. 616, 617). Il s’ensuit que, même si la loi octroie certains droits à un dénonciateur-plaignant, tel que le droit à l’information ou à une audition (Tanquerel, op. cit., p. 115 à 118 ; cf. art. 19 al. 4 et 5 LOJ), celui-ci n’a pas la qualité de partie, car il n’est pas touché dans un intérêt digne de protection direct et concret, ni n’a le droit de recourir (Tanquerel, op. cit., p. 108-109 ; Moor et Poltier, op.cit., p. 617 ; Tanquerel, Manuel de droit administratif, 2018, p. 496, ch. 1442 ; cf. à cet égard également la jurisprudence cantonale ATA/12/2007 du 16 janvier 2007 et fédérale ATF 133 II 468, consid. 2, ATF 135 II 145 consid. 6.1 et 6.2 ; arrêt du Tribunal fédéral 1C_365/2018 du 20 septembre 2018, consid. 2). Dans une procédure de cette nature, la seule qualité de plaignant ou de dénonciateur ne donne ainsi pas le droit de recourir contre la décision prise par l’autorité disciplinaire, en l’occurrence le CSM : pour être en droit d’agir, il faut que le plaignant ou le dénonciateur réunisse les deux conditions cumulatives prévues à l’art. 60 al. 1 let. b LPA précité, à savoir, être touché directement par la décision querellée et avoir un intérêt personnel digne de protection à ce que cette décision soit annulée ou modifiée. Sur la base de ces principes, le Tribunal fédéral a confirmé une décision de la Commission du barreau genevoise qui avait dénié la qualité pour recourir au plaignant dans le cadre d'une procédure disciplinaire dirigée contre un avocat, considérant que le plaignant n'avait pas un intérêt propre et digne de protection à demander une sanction disciplinaire à l'encontre de cet avocat pour une éventuelle violation de ses obligations professionnelles. Le Tribunal fédéral a ainsi considéré que la procédure de surveillance disciplinaire des avocats avait pour but d'assurer l'exercice correct de la profession par les avocats et de préserver la confiance du public à leur égard, et non pas de défendre les intérêts privés des particuliers (ATF 135 II 145, consid. 6.1 ; 132 II 250, consid. 4.4 ; 108 Ia 230, consid. 2b). Cette jurisprudence a été également appliquée, dans le cadre d'une procédure disciplinaire dirigée contre un notaire vaudois (ATF 133 II 468, consid. 2) ainsi que contre des magistrats du Pouvoir judiciaire vaudois (cf. arrêt du Tribunal fédéral 1D_2/2016 du 7 juin 2016, consid. 2, avec références aux arrêts du Tribunal fédéral 1C_408/2011 du 7 octobre 2011, consid. 1, et 1B_273/2008 du 16 octobre 2008, consid. 3.1) et genevois (arrêt du Tribunal fédéral 1C_365/2018 du 20 septembre 2018, consid. 2 in fine). Dans la décision du 7 juin 2016, le Tribunal fédéral a rappelé que « [s]elon la jurisprudence, ni le dénonciateur ni les tiers intéressés n’ont qualité pour recourir auprès du Tribunal fédéral contre le refus de l’autorité cantonale de surveillance de donner suite à une dénonciation visant l’ordre judiciaire en général ou l’un de ses membres faute de pouvoir se prévaloir d’un intérêt digne de protection à son annulation au sens de l’art. 89 al. 1 let. c LTF ou d’un intérêt juridique au sens de l’art. 115 let. b LTF. La surveillance des magistrats vise en effet à assurer un exercice correct de leur charge et à préserver la confiance des justiciables et non à défendre les intérêts privés des particuliers ». 5.2. Au vu de l’ensemble des principes sus-énoncés la recourante n’est pas – et ne peut pas être – partie à la procédure concernant le magistrat qu’elle a dénoncé, faute d’avoir, un intérêt direct et concret digne de protection à l’annulation ou à la modification de la décision entreprise au sens de la jurisprudence précitée. Il s’ensuit que la recourante, simple dénonciatrice, n’est pas habilitée à recourir contre la décision du CSM, de sorte que son recours doit être déclaré irrecevable. 6. La Cour de céans relève, à toutes fins utiles, que le contrôle des griefs que la recourante semble adresser au magistrat mis en cause sont de la compétence des autorités de recours, car ceux-ci concernent l’application de la loi et de la jurisprudence. 7. Le recours, manifestement en tous points irrecevable, sera déclaré comme tel, sans autre acte d’instruction (art. 72 LPA). 8. Au vu des circonstances du cas d’espèce, il sera renoncé à mettre des frais ou émolument à charge de la recourante (art. 87 al. 1 LPA). *** LA COUR D’APPEL DU POUVOIR JUDICIAIRE - Déclare irrecevable le recours déposé le 3 mars 2020 par A______ contre la décision du Conseil supérieur de la magistrature du 13 janvier 2020. - Renonce à mettre des frais et émolument à la charge de la recourante. - Dit que, conformément aux articles 82 et suivants de la loi fédérale sur le Tribunal fédéral du 17 juin 2005 (LTF – RS 173.110) le présent arrêt peut être porté dans les 30 jours qui suivent sa notification par devant le Tribunal fédéral par la voie du recours en matière de droit public. Le délai est suspendu pendant les périodes prévues à l’article 46 LTF. Le mémoire de recours doit indiquer les conclusions, motifs et moyens de preuves et porter la signature du recourant ou de son mandataire. Il doit être adressé au Tribunal fédéral, 1000 Lausanne 14, par voie postale ou par voie électronique aux conditions de l’article 42 LTF. Le présent arrêt et les pièces en possession du recours invoquées comme moyens de preuves doivent être joints à l’envoi. - Communique le présent arrêt à A______ et au Conseil supérieur de la magistrature. Siégeant : M. Matteo PEDRAZZINI, Président, Mme Renate PFISTER-LIECHTI, Vice-Présidente, Mme Marie-Laure PAPAUX VAN DELDEN, Juge titulaire. AU NOM DE LA COUR D’APPEL DU POUVOIR JUDICIAIRE Sonia NAINA Matteo PEDRAZZINI Greffière Président Copie conforme du présent arrêt a été communiquée à A______ et au Conseil supérieur de la magistrature, par pli recommandé.\""
      ]
     },
     "execution_count": 26,
     "metadata": {},
     "output_type": "execute_result"
    }
   ],
   "source": [
    "df_law['text'][0]"
   ]
  },
  {
   "cell_type": "code",
   "execution_count": null,
   "metadata": {
    "colab": {
     "base_uri": "https://localhost:8080/",
     "height": 182
    },
    "id": "jxRtQ9CQuRV1",
    "outputId": "6b6e4550-88af-4650-eb81-285c2a3a413d"
   },
   "outputs": [
    {
     "data": {
      "application/vnd.google.colaboratory.intrinsic+json": {
       "type": "string"
      },
      "text/plain": [
       "'<!DOCTYPE html><html lang=\"fr\"><head><meta charset=\"utf-8\"/></head><!DOCTYPE html><html lang=\"fr\"><head><meta charset=\"utf-8\"/></head><body><div class=\"list-block col-lg-12 mb-5\">\\n  <div class=\"decis-block__flag\">\\n      CAPJ/01/2020\\n\\n  </div>\\n  <div class=\"list-block__content row pb-3\">\\n    <h3 class=\"list-block__title col-lg-8\">\\n        <a href=\"/apps/decis/fr/capj/show/2920474\">\\n            ACAPJ/2/2020\\n\\n        </a>          \\n      (1)\\n      du 19.06.2020\\n      \\n      ,   Irrecevable\\n\\n    </h3>\\n    \\n    <div class=\"col-lg-12\">\\n      \\n  \\n    <div>\\n      <b>Descripteurs</b> :\\n      QUALITÉ POUR RECOURIR;DÉNONCIATEUR\\n    </div>\\n\\n      \\n  \\n    <div>\\n      <b>Normes</b> :\\n      LPA.60\\n    </div>\\n\\n      \\n  \\n\\n      \\n  \\n\\n      \\n  \\n\\n      \\n  \\n\\n  \\n      \\n    </div>\\n\\n    <div class=\"col-lg-12 mt-4\">\\n      <div style=\"float:right\">\\n          <a href=\"/apps/decis/fr/capj/file//2020/0000/CAPJ_000001_2020_ACAPJ_2_2020.pdf\">\\n          <img src=\"data:image/png;base64,iVBORw0KGgoAAAANSUhEUgAAACAAAAAgCAMAAABEpIrGAAABBVBMVEUAAAA9iKE9iKE9iKE9iKE9iKE9iKE9iKE9iKE9iKE9iKE9iKE9iKE9iKE9iKE9iKE9iKE9iKE9iKE9iKE9iKE9iKE9iKE9iKE9iKE9iKE9iKE9iKE9iKE9iKE9iKE9iKE9iKE9iKE9iKE9iKE9iKE9iKE9iKE9iKE9iKE9iKE9iKE9iKE9iKE9iKE9iKE9iKE9iKE9iKE9iKE9iKE9iKE9iKE9iKE9iKE9iKE9iKE9iKE9iKE9iKE9iKE9iKE9iKE9iKE9iKE9iKE9iKE9iKE9iKE9iKE9iKE9iKE9iKE9iKE9iKE9iKE9iKE9iKE9iKE9iKE9iKE9iKE9iKE9iKE9iKE9iKGaDsL5AAAAVnRSTlMAAQIDBAYICgsOExQVFxobHB0eIyotLjAyMzc5PD0/QEVJS01UVlddXmdwcXV5foWGjJSYmp2eoKOlqrCytLW3ubq8wMPKzM7T1eDi5Obp6+3x8/f5/ROqjl4AAAD9SURBVDjLfdNpUwIxDAbgtLsVPJBDRRGUywN1QRRELgXlFJQVkfz/nyLdkaFDS95vmTydzjQpAFzgetwcAyU/qKfJFYAoVL+oYyN84RQQ/hG2OAVgIdoWBaR4tyggRYdTQIobHdhevSdkYjjVQMQ9B5isnkOsg3QhCXAyIUD/1PCCCojiEQ22MUQDhgEahPCWBk5ttkUBa7Z7XaVA9hVYvcg2AvZ1AMC7g/hZOhEwgUzTOnSGn5U+ug+VKx3Y38Pn1I5cgv38xziqgeBjWd1U7Yq7xq8PCFBw3jJAgHCv+AQUOJ6XOAlAbxtnYQamv/kf2wOXG/v3yyEKc7zzfy61YB0tdylvAAAAAElFTkSuQmCC\" alt=\"Pdf\" border=\"no\">                  \\n          </a>\\n      </div>\\n        <span style=\"float:right\"><a class=\"efd\" href=\"#EF\">En fait</a><br><a class=\"efd\" href=\"#ED\">En droit</a><br><a class=\"efd\" href=\"#PCM\">Par ces motifs</a></span> <div> <div align=\"center\"> <table border=\"0\" cellpadding=\"0\" cellspacing=\"0\" width=\"626\"> <tr> <td valign=\"top\" width=\"1\"> <p align=\"center\">\\xa0</p>\\n<p align=\"center\">\\xa0</p>\\n</td> <td valign=\"top\" width=\"624\"> <p align=\"center\">republique et canton de geneve</p>\\n<p align=\"center\">POUVOIR JUDICIAIRE</p>\\n<p align=\"center\">Cour d’appel du Pouvoir judiciaire</p>\\n<p align=\"center\">\\xa0</p>\\n<p align=\"center\"><b>\\xa0</b></p>\\n</td> <td valign=\"top\" width=\"1\"> <p align=\"center\">\\xa0</p>\\n<p align=\"center\">\\xa0</p>\\n<p align=\"center\">\\xa0</p>\\n</td> </tr> </table> </div> <p align=\"center\">\\xa0</p>\\n<p align=\"center\">\\xa0</p>\\n<p align=\"center\">\\xa0</p>\\n<p align=\"center\"><b>Arrêt du 19 juin 2020</b></p>\\n<p align=\"center\"><b>\\xa0</b></p>\\n<p align=\"center\"><b>CAPJ 1_2020 <a href=\"https://justice.ge.ch/apps/decis/fr/decis/search?query=ACAPJ/2/2020\">ACAPJ/2/2020</a></b></p>\\n<p align=\"center\">\\xa0</p>\\n<p align=\"left\">\\xa0</p>\\n<p align=\"left\">\\xa0</p>\\n<p align=\"left\">\\xa0</p>\\n<p align=\"left\"><b>Madame A______,</b> recourante </p>\\n<p align=\"left\"><b>\\xa0</b></p>\\n<p align=\"center\">contre</p>\\n<p align=\"left\"><b>\\xa0</b></p>\\n<p align=\"left\"><b>LE CONSEIL SUPERIEUR DE LA MAGISTRATURE, </b>intimé</p>\\n<p align=\"left\">\\xa0</p>\\n<p align=\"left\">\\xa0</p>\\n<p>\\xa0</p>\\n<p>\\xa0</p>\\n<p>\\xa0</p>\\n<p>\\xa0</p>\\n<a name=\"EF\"></a><div class=\"efd\">EN FAIT</div>\\n<p>\\xa0</p>\\n<p><b>1</b>. Le 9 avril 2019, A______ a adressé au Conseil supérieur de la magistrature (ci-après\\xa0:\\xa0CSM) une dénonciation concernant le Juge B______, en sa qualité de Président du Tribunal de première instance, en charge notamment des mesures provisionnelles, dans le cadre de la procédure C/16238/2016 l’opposant au père de sa fille C______, née le 16 septembre 2011, au sujet de la garde, du droit de visite et des contributions d’entretien.</p>\\n<p>\\xa0</p>\\n<p>Dans sa dénonciation, assortie de nombreux documents, A______ reprochait à ce magistrat d’importants «\\xa0manquements\\xa0» dans la gestion de la procédure précitée, notamment par des mesures super-provisionnelles et provisionnelles.</p>\\n<p>\\xa0</p>\\n<p><b>2. </b>Par décision du 17 octobre 2019, la Présidente du CSM a classé cette dénonciation, considérant qu’il n’était pas une autorité de révision, ni de recours, contre les décisions des juridictions cantonales et que l’examen du dossier ne révélait aucun manquement disciplinaire de la part du magistrat visé par la dénonciation. </p>\\n<p>\\xa0</p>\\n<p><b>3.</b> Par courrier du 4 novembre 2019, A______ a persisté dans sa dénonciation et a contesté ce classement.</p>\\n<p><b>4.</b> Par décision du 13 janvier 2020, communiquée à A______ par lettre recommandée du 31 janvier suivant, le CSM, statuant par son conseil, a classé la procédure «\\xa0A/1129/2019 DIVERS\\xa0» en reprenant les motifs retenus par sa Présidente.</p>\\n<p>\\xa0</p>\\n<p><b>5.</b> Par acte déposé au greffe de la Cour d’appel du pouvoir judiciaire en date du 3 mars 2020, auquel étaient annexés différents documents, A______ a recouru contre cette décision, dont elle a sollicité l’annulation, concluant à ce qu’il soit ordonné au CSM de reprendre l’instruction, avec la nomination d’un avocat à son profit, et d’exécuter une série d’actes d’instruction, énumérés dans le détail, dont une confrontation entre elle-même et le Juge B______. Préalablement, elle a requis à être dispensée de toute avance de frais, à être mise au bénéfice de l’assistance juridique et à ce que Me D______ ou Me E______ soit désigné en qualité d’avocat d’office. </p>\\n<p>\\xa0</p>\\n<p>A______, après un résumé de son vécu personnel dans la situation familiale et durant la procédure de première instance, soutient que, «\\xa0<i>par son comportement, le Juge B______ a commis plusieurs manquements disciplinaires dans cette procédure. Il semble que personne ne corrige l’arbitraire à Genève, ni ne protège une mère et son enfant face à des violations répétées de leurs droits constitutionnels et humains. Je demande dès lors au pouvoir judiciaire de rétablir l’ordre et de faire respecter la justice et les lois</i>\\xa0».</p>\\n<p>\\xa0</p>\\n<p><b>6.</b> A réception du recours, la Cour de céans a traité celui-ci par application de l’art. 72 de la loi sur la procédure administrative du 12 septembre 1985 (LPA – RS/GE <a href=\"http://ge.ch/justice/donnees/perl/JmpLex/E%205%2010\">E 5 10</a>).</p>\\n<p>\\xa0</p>\\n<p><b>7</b>. Par décision du 27 avril 2020, notifiée le 27 mai 2020, la Vice-présidence du Tribunal civil, en charge du service de l’assistance juridique, a rejeté, sans frais, la requête d’assistance juridique formée par A______ en relation avec la procédure de recours devant la Cour de céans, considérant, sur la base de la jurisprudence en la matière, que le recours était dépourvu de chances de succès, de sorte qu’une personne raisonnable et de condition aisée renoncerait à s’y engager en raison des frais qu’elle s’exposerait à devoir supporter.</p>\\n<p align=\"center\"><b>\\xa0</b></p>\\n<p align=\"center\"><b>\\xa0</b></p>\\n<p align=\"center\"><b>\\xa0</b></p>\\n<p><b>\\xa0</b></p>\\n<p><b>\\xa0</b></p>\\n<p><b>\\xa0</b></p>\\n<a name=\"ED\"></a><div class=\"efd\">EN DROIT</div>\\n<p><b>\\xa0</b></p>\\n<p><b>1.</b> Le recours a été interjeté dans le délai et les formes prescrites par la loi, auprès de la Cour de céans, compétente pour statuer sur les recours dirigés contre les décisions du CSM (art. 62 al. 1 let. a, art. 64 al. 1 et art. 65 al. 1 et 2 LPA\\xa0; art. 138 let. a de la loi sur l’organisation judiciaire du 26 septembre 2010 (LOJ – RS/GE <a href=\"http://ge.ch/justice/donnees/perl/JmpLex/E%202%2005\">E 2 05</a>)). </p>\\n<p>\\xa0</p>\\n<p><b>2. </b>La loi de procédure administrative (ci-après LPA) est applicable aux procédures relevant de la compétence de la Cour de céans (art.\\xa0139 al. 1 LOJ). </p>\\n<p>\\xa0</p>\\n<p><b>3. </b>Le recours devant la Cour de céans peut être formé pour violation du droit y compris l’excès et l’abus du pouvoir d’appréciation (art. 61 al. 1 let. a LPA) ainsi que pour constatation inexacte ou incomplète des faits pertinents (art. 61 al. 1 let. b LPA). </p>\\n<p>Les juridictions administratives n’ont toutefois pas compétence pour apprécier l’opportunité de la décision attaquée, sauf exception prévue par la loi (art. 61 al. 2 LPA).</p>\\n<p>\\xa0</p>\\n<p>La juridiction administrative chargée de statuer sur un recours est liée par les conclusions des parties (art. 69 al. 1 LPA).</p>\\n<p>\\xa0</p>\\n<p><b>4.</b> La Cour de céans peut, sans instruction préalable, par une décision sommairement motivée, écarter un recours manifestement irrecevable ou rejeter un recours mal fondé (art.\\xa072 LPA). </p>\\n<p>\\xa0</p>\\n<p>Tel est le cas, en l’espèce, pour les motifs qui suivent.</p>\\n<p><b>5.</b> </p>\\n<p><b>\\xa0</b></p>\\n<p><b>5.1.</b> A teneur de l’art. 60 al. 1 LPA, ont qualité pour recourir, notamment, «\\xa0les parties à la procédure qui a abouti à la décision attaquée\\xa0» (let. a) et «\\xa0toute personne qui est touchée directement par «\\xa0une décision et a un intérêt personnel digne de protection à ce que l’acte soit annulé ou modifié\\xa0» (let. b). </p>\\n<p>\\xa0</p>\\n<p>Les lettres a et b de cette disposition doivent se lire en parallèle. Ainsi, le particulier qui ne peut faire valoir un intérêt digne de protection ne saurait être admis comme partie recourante, même s’il était partie à la procédure de première instance (<a href=\"https://justice.ge.ch/apps/decis/fr/decis/search?query=ATA/57/2018\">ATA/57/2018</a> du 23\\xa0janvier 2018, consid. 3a et les références citées).</p>\\n<p>\\xa0</p>\\n<p>Les deux conditions de l’art. 60 al. 1 let. b LPA sont conformes au droit fédéral, selon lequel la qualité pour recourir devant les autorités cantonales ne peut pas s\\'apprécier de manière plus restrictive que la qualité pour recourir devant le Tribunal fédéral, les cantons demeurant toutefois libres de concevoir cette qualité de manière plus large (ATF <a href=\"https://justice.ge.ch/apps/decis/fr/decis/search?query=135%20II%20145\">135 II 145</a>, consid. 5 et les arrêts cités).</p>\\n<p>\\xa0</p>\\n<p>En effet, l’art. 60 al. 1 let. b LPA n’est pas plus restrictif ni plus large que l’art. 89 al. 1 let. c de la loi sur le Tribunal fédéral (LTF), à teneur duquel a qualité pour former un recours en matière de droit public quiconque a pris part à la procédure devant l\\'autorité précédente ou a été privé de la possibilité de le faire (let. a), est particulièrement atteint par la décision attaquée (let. b) et a un intérêt digne de protection à son annulation ou à sa modification (let.\\xa0c) (arrêts CAPJ 13_ 2016 du 2 février 2017\\xa0consid. 3\\xa0; 11_2016 du 12 octobre 2016 consid. 3).</p>\\n<p>\\xa0</p>\\n<p>A cet égard, le Tribunal fédéral a précisé que constitue un intérêt digne de protection, au sens de l\\'art. 89 al. 1 let. c LTF, tout intérêt pratique ou juridique à demander la modification ou l\\'annulation de la décision attaquée\\xa0; il consiste donc dans l\\'utilité pratique que l\\'admission du recours apporterait au recourant, en lui évitant de subir un préjudice de nature économique, idéale, matérielle ou autre que la décision attaquée lui occasionnerait. Cet intérêt doit être direct et concret\\xa0; en particulier, le recourant doit se trouver, avec la décision entreprise, dans un rapport suffisamment étroit, spécial et digne d\\'être pris en considération. Il doit être touché dans une mesure et avec une intensité plus grande que l\\'ensemble des administrés (ATF <a href=\"https://justice.ge.ch/apps/decis/fr/decis/search?query=137%20II%2040\">137 II 40</a>,\\xa0consid. 2.3\\xa0;\\xa0<a href=\"https://justice.ge.ch/apps/decis/fr/decis/search?query=135%20II%20145\">135 II 145</a>,\\xa0consid. 6.1\\xa0;\\xa0<a href=\"https://justice.ge.ch/apps/decis/fr/decis/search?query=131%20II%20649\">131 II 649</a>,\\xa0consid. 3.1 et les arrêts cités).</p>\\n<p>\\xa0</p>\\n<p>La dénonciation est une procédure non contentieuse par laquelle n\\'importe quel administré peut attirer l\\'attention d\\'une autorité hiérarchiquement supérieure sur une situation de fait ou de droit qui justifierait à son avis une intervention de l\\'Etat dans l\\'intérêt public. La dénonciation est possible dans toute matière où l\\'autorité pourrait intervenir d\\'office. En principe, l\\'administré n\\'a aucun droit à ce que sa dénonciation soit suivie d\\'effets, car l\\'autorité saisie peut, après un examen sommaire, décider de la classer sans suite\\xa0; le dénonciateur n\\'a même pas de droit à ce que l\\'autorité prenne une décision au sujet de sa dénonciation (ATF <a href=\"https://justice.ge.ch/apps/decis/fr/decis/search?query=133%20II%20468\">133 II 468</a>, consid. 2 et les références citées).</p>\\n<p>\\xa0</p>\\n<p>Même si le tiers dénonciateur est désigné comme plaignant à l\\'art. 19 al. 4 LOJ – terme qui a été réintroduit sans explication aux cours des débats sur le PL 11873-A (MGC [en ligne], Séance du jeudi 24 novembre 2016 à 20h30 – 1<sup>ère</sup> législature – 3<sup>ème</sup> année – 10<sup>ème</sup> session – 54<sup>ème</sup> séance, disponible sur http://ge.ch/grandconseil/memorial/seances/010310/54/6/), lequel tendait, entre autres, à modifier la terminologie de «\\xa0plainte\\xa0» et «\\xa0plaignant\\xa0» pour utiliser celle plus adéquate de «\\xa0dénonciation\\xa0» et «\\xa0dénonciateur\\xa0» (PL 11873, p.\\xa07) –, il s’agit d’une situation analogue à celle d’une dénonciation, qui tend à obtenir le prononcé d’une sanction à l’encontre d’un magistrat. La dénonciation n’ouvre pas une procédure administrative, proprement dite, mais constitue une simple démarche visant à ce que l’autorité fasse usage de ses pouvoirs (T. Tanquerel, Les tiers dans les procédures disciplinaires, <i>in</i> Les tiers dans la procédure administrative, Genève, 2004, p. 106\\xa0; P. Moor et E. Poltier, Droit administratif, Volume II, 3<sup>ème</sup> édition, p. 616, 617). Il s’ensuit que, même si la loi octroie certains droits à un dénonciateur-plaignant, tel que le droit à l’information ou à une audition (Tanquerel, op. cit., p. 115 à 118\\xa0; cf. art. 19 al. 4 et 5 LOJ), celui-ci n’a pas la qualité de partie, car il n’est pas touché dans un intérêt digne de protection direct et concret, ni n’a le droit de recourir (Tanquerel, op. cit., p. 108-109\\xa0; Moor et Poltier, op.cit., p. 617\\xa0; Tanquerel, Manuel de droit administratif, 2018, p. 496, ch. 1442\\xa0; cf. à cet égard également la jurisprudence cantonale <a href=\"https://justice.ge.ch/apps/decis/fr/decis/search?query=ATA/12/2007\">ATA/12/2007</a> du 16 janvier 2007 et fédérale ATF <a href=\"https://justice.ge.ch/apps/decis/fr/decis/search?query=133%20II%20468\">133 II 468</a>, consid. 2, ATF <a href=\"https://justice.ge.ch/apps/decis/fr/decis/search?query=135%20II%20145\">135 II 145</a> consid. 6.1 et 6.2\\xa0; arrêt du Tribunal fédéral <a href=\"https://justice.ge.ch/apps/decis/fr/decis/search?query=1C_365/2018\">1C_365/2018</a> du 20 septembre 2018, consid. 2).</p>\\n<p>\\xa0</p>\\n<p>Dans une procédure de cette nature, la seule qualité de plaignant ou de dénonciateur ne donne ainsi pas le droit de recourir contre la décision prise\\xa0par l’autorité disciplinaire, en l’occurrence le CSM\\xa0: pour être en droit d’agir, il faut que le plaignant ou le dénonciateur réunisse les deux conditions cumulatives prévues à l’art. 60 al. 1 let. b LPA précité, à savoir, être touché directement par la décision querellée et avoir un intérêt personnel digne de protection à ce que cette décision soit annulée ou modifiée.</p>\\n<p>\\xa0</p>\\n<p>Sur la base de ces principes, le Tribunal fédéral a confirmé une décision de la Commission du barreau genevoise qui avait dénié la qualité pour recourir au plaignant dans le cadre d\\'une procédure disciplinaire dirigée contre un avocat, considérant que le plaignant n\\'avait pas un intérêt propre et digne de protection à demander une sanction disciplinaire à l\\'encontre de cet avocat pour une éventuelle violation de ses obligations professionnelles. Le Tribunal fédéral a ainsi considéré que la procédure de surveillance disciplinaire des avocats avait pour but d\\'assurer l\\'exercice correct de la profession par les avocats et de préserver la confiance du public à leur égard, et non pas de défendre les intérêts privés des particuliers (ATF <a href=\"https://justice.ge.ch/apps/decis/fr/decis/search?query=135%20II%20145\">135 II 145</a>, consid. 6.1\\xa0;\\xa0<a href=\"https://justice.ge.ch/apps/decis/fr/decis/search?query=132%20II%20250\">132 II 250</a>, consid. 4.4\\xa0;\\xa0<a href=\"https://justice.ge.ch/apps/decis/fr/decis/search?query=108%20Ia%20230\">108 Ia 230</a>, consid. 2b). </p>\\n<p>\\xa0</p>\\n<p>Cette jurisprudence a été également appliquée, dans le cadre d\\'une procédure disciplinaire dirigée contre un notaire vaudois (ATF <a href=\"https://justice.ge.ch/apps/decis/fr/decis/search?query=133%20II%20468\">133 II 468</a>,\\xa0consid. 2) ainsi que contre des magistrats du Pouvoir judiciaire vaudois (cf. arrêt du Tribunal fédéral <a href=\"https://justice.ge.ch/apps/decis/fr/decis/search?query=1D_2/2016\">1D_2/2016</a> du 7 juin 2016, consid.\\xa02, avec références aux arrêts du Tribunal fédéral <a href=\"https://justice.ge.ch/apps/decis/fr/decis/search?query=1C_408/2011\">1C_408/2011</a> du 7 octobre 2011, consid. 1, et <a href=\"https://justice.ge.ch/apps/decis/fr/decis/search?query=1B_273/2008\">1B_273/2008</a> du 16 octobre 2008, consid. 3.1) et genevois (arrêt du Tribunal fédéral <a href=\"https://justice.ge.ch/apps/decis/fr/decis/search?query=1C_365/2018\">1C_365/2018</a> du 20 septembre 2018, consid. 2 in fine). Dans la décision du 7 juin 2016, le Tribunal fédéral a rappelé que «\\xa0<i>[s]elon la jurisprudence, ni le dénonciateur ni les tiers intéressés n’ont qualité pour recourir auprès du Tribunal fédéral contre le refus de l’autorité cantonale de surveillance de donner suite à une dénonciation visant l’ordre judiciaire en général ou l’un de ses membres faute de pouvoir se prévaloir d’un intérêt digne de protection à son annulation au sens de l’art. 89 al. 1 let. c LTF ou d’un intérêt juridique au sens de l’art. 115 let. b LTF. La surveillance des magistrats vise en effet à assurer un exercice correct de leur charge et à préserver la confiance des justiciables et non à défendre les intérêts privés des particuliers\\xa0</i>».</p>\\n<p>\\xa0</p>\\n<p><b>5.2.</b> Au vu de l’ensemble des principes sus-énoncés la recourante n’est pas – et ne peut pas être – partie à la procédure concernant le magistrat qu’elle a dénoncé, faute d’avoir, un intérêt direct et concret digne de protection à l’annulation ou à la modification de la décision entreprise au sens de la jurisprudence précitée.</p>\\n<p>\\xa0</p>\\n<p>Il s’ensuit que la recourante, simple dénonciatrice, n’est pas habilitée à recourir contre la décision du CSM, de sorte que son recours doit être déclaré irrecevable.</p>\\n<p>\\xa0</p>\\n<p><b>6.</b> La Cour de céans relève, à toutes fins utiles, que le contrôle des griefs que la recourante semble adresser au magistrat mis en cause sont de la compétence des autorités de recours, car ceux-ci concernent l’application de la loi et de la jurisprudence. </p>\\n<p>\\xa0</p>\\n<p><b>7</b><b>.</b> Le recours, manifestement en tous points irrecevable, sera déclaré comme tel, sans autre acte d’instruction (art. 72 LPA).</p>\\n<p>\\xa0</p>\\n<p><b>8.</b> Au vu des circonstances du cas d’espèce, il sera renoncé à mettre des frais ou émolument à charge de la recourante (art. 87 al. 1 LPA).</p>\\n<p>\\xa0</p>\\n<p align=\"center\">\\xa0</p>\\n<p>\\xa0</p>\\n<p align=\"center\">\\xa0</p>\\n<p align=\"center\">***</p>\\n<br clear=\"all\"> <p align=\"center\"><b>\\xa0</b></p>\\n<a name=\"PCM\"></a><div class=\"efd\">PAR CES MOTIFS</div>\\n<p align=\"center\"><b>\\xa0</b></p>\\n<p align=\"center\"><b>\\xa0</b></p>\\n<p align=\"center\"><b>LA COUR D’APPEL DU POUVOIR JUDICIAIRE</b></p>\\n<p>\\xa0</p>\\n<p>\\xa0</p>\\n<p>- Déclare irrecevable le recours déposé le 3 mars 2020 par A______ contre la décision du Conseil supérieur de la magistrature du 13 janvier 2020.</p>\\n<p>\\xa0</p>\\n<p>- Renonce à mettre des frais et émolument à la charge de la recourante.</p>\\n<p>\\xa0</p>\\n<p>- Dit que, conformément aux articles 82 et suivants de la loi fédérale sur le Tribunal fédéral du 17 juin 2005 (LTF\\xa0– <a href=\"http://ge.ch/justice/donnees/perl/JmpLex/RS%20173.110\">RS 173.110</a>) le présent arrêt peut être porté dans les 30 jours qui suivent sa notification par devant le Tribunal fédéral par la voie du recours en matière de droit public. Le délai est suspendu pendant les périodes prévues à l’article 46 LTF. Le mémoire de recours doit indiquer les conclusions, motifs et moyens de preuves et porter la signature du recourant ou de son mandataire. Il doit être adressé au Tribunal fédéral, 1000 Lausanne 14, par voie postale ou par voie électronique aux conditions de l’article 42 LTF. Le présent arrêt et les pièces en possession du recours invoquées comme moyens de preuves doivent être joints à l’envoi.</p>\\n<p>\\xa0</p>\\n<p>- Communique le présent arrêt à A______ et au Conseil supérieur de la magistrature.</p>\\n<p>\\xa0</p>\\n<p>\\xa0</p>\\n<p>\\xa0</p>\\n<p>Siégeant\\xa0: M.\\xa0Matteo PEDRAZZINI, Président, Mme Renate PFISTER-LIECHTI, Vice-Présidente, Mme\\xa0Marie-Laure PAPAUX VAN DELDEN, Juge titulaire.</p>\\n<p>\\xa0</p>\\n<p>\\xa0</p>\\n<p>\\xa0</p>\\n<p>\\xa0</p>\\n<p>\\xa0</p>\\n<p align=\"center\"><b>AU NOM DE LA COUR D’APPEL DU POUVOIR JUDICIAIRE</b></p>\\n<p>\\xa0</p>\\n<p>\\xa0</p>\\n<p align=\"center\"> Sonia NAINA Matteo PEDRAZZINI</p>\\n<p align=\"center\">Greffière Président</p>\\n<p align=\"center\">\\xa0</p>\\n<p>\\xa0</p>\\n<p>\\xa0</p>\\n<p>\\xa0</p>\\n<p>Copie conforme du présent arrêt a été communiquée à A______ et au Conseil supérieur de la magistrature, par pli recommandé.</p>\\n \\n    </div>  \\n  </div>\\n</div>\\n\\n            </div></body></html></html>'"
      ]
     },
     "execution_count": 43,
     "metadata": {},
     "output_type": "execute_result"
    }
   ],
   "source": [
    "df_law['Raw'][0]"
   ]
  },
  {
   "cell_type": "markdown",
   "metadata": {
    "id": "qZvlEhhEuZQx"
   },
   "source": [
    "As you can see, it is more readable in the column 'Text' than the column 'Raw'"
   ]
  },
  {
   "cell_type": "code",
   "execution_count": null,
   "metadata": {
    "colab": {
     "base_uri": "https://localhost:8080/",
     "height": 49,
     "referenced_widgets": [
      "2601ec1fad274c9885c73e478026dfcb",
      "4ff378c7a5714130a5fbe99c0216c1d4",
      "1b34e8d8b4fe4039ae192cc7433dd8d0",
      "7581b1035b6d479296b0dc3877bbf3a6",
      "6e736078560640ce94da1558903a517c",
      "1eed646de3014c2bb6d8f95c3241d1a7",
      "9d95838ae929488d93472f70c26cf9fb",
      "00a04c0e58df404e84638c079b33b3c8",
      "7737c9c00c2240de9b766f36fbf3a331",
      "ec3d970d7bbd49a2bc51e2bd10c3da4b",
      "18d40ba854674c818f77dccb72a3fa2b"
     ]
    },
    "id": "P7fINekr6bsU",
    "outputId": "bf08cbd2-b7df-4386-bd7b-9fa65a3ad7b2"
   },
   "outputs": [
    {
     "data": {
      "application/vnd.jupyter.widget-view+json": {
       "model_id": "2601ec1fad274c9885c73e478026dfcb",
       "version_major": 2,
       "version_minor": 0
      },
      "text/plain": [
       "  0%|          | 0/92177 [00:00<?, ?it/s]"
      ]
     },
     "metadata": {},
     "output_type": "display_data"
    }
   ],
   "source": [
    "documents = [df_law['text'][i] for i in notebook.tqdm(range(len(df_law)))] "
   ]
  },
  {
   "cell_type": "code",
   "execution_count": null,
   "metadata": {
    "id": "eb-RWnpd7-nW"
   },
   "outputs": [],
   "source": [
    "docs = [doc for doc in documents if len(doc.strip())> 0]"
   ]
  },
  {
   "cell_type": "code",
   "execution_count": null,
   "metadata": {
    "id": "VP524n4PWSY9"
   },
   "outputs": [],
   "source": [
    "del df_law"
   ]
  },
  {
   "cell_type": "code",
   "execution_count": null,
   "metadata": {
    "id": "SyISgafbIWEt",
    "outputId": "08ed3041-5e5a-4b14-8a36-ca60ae7d61cf"
   },
   "outputs": [
    {
     "data": {
      "text/plain": [
       "count     92177.000000\n",
       "mean      22929.625612\n",
       "std       21280.127998\n",
       "min           0.000000\n",
       "25%        8999.000000\n",
       "50%       17567.000000\n",
       "75%       30762.000000\n",
       "max      601566.000000\n",
       "Name: Text, dtype: float64"
      ]
     },
     "execution_count": 13,
     "metadata": {},
     "output_type": "execute_result"
    }
   ],
   "source": [
    "df_law['Text'].str.len().describe()"
   ]
  },
  {
   "cell_type": "markdown",
   "metadata": {
    "id": "XMWJyhgfvsZs"
   },
   "source": [
    "in mean we have 92k caracters by documents. Some documents have 0 caracters, maybe we should remove them"
   ]
  },
  {
   "cell_type": "code",
   "execution_count": null,
   "metadata": {
    "id": "sLlLzGzGIWEt",
    "outputId": "c88deb19-8655-4ab7-c260-afcf66908d31"
   },
   "outputs": [
    {
     "data": {
      "image/png": "[encoded data removed]",
      "text/plain": [
       "<Figure size 640x480 with 1 Axes>"
      ]
     },
     "metadata": {},
     "output_type": "display_data"
    }
   ],
   "source": [
    "len_char = df_law['Text'].str.len().copy()\n",
    "len_char[len_char<150000].hist()\n",
    "\n",
    "plt.title(\"Distribution of Text Lengths\")\n",
    "plt.xlabel(\"Length of Text\")\n",
    "plt.ylabel(\"Frequency\")\n",
    "plt.show()"
   ]
  },
  {
   "cell_type": "markdown",
   "metadata": {
    "id": "SvM4QAU9wGrO"
   },
   "source": [
    "Most Documents have less than 50k caracters"
   ]
  },
  {
   "cell_type": "code",
   "execution_count": null,
   "metadata": {
    "colab": {
     "base_uri": "https://localhost:8080/",
     "height": 472
    },
    "id": "Nvh9amAF_VzH",
    "outputId": "421e6fa5-a324-4834-fb07-54271ffe5dae"
   },
   "outputs": [
    {
     "data": {
      "image/png": "[encoded data removed]",
      "text/plain": [
       "<Figure size 640x480 with 1 Axes>"
      ]
     },
     "metadata": {},
     "output_type": "display_data"
    }
   ],
   "source": [
    "word_count = df_law[\"text\"].apply(lambda x : len(x.split(' ')))\n",
    "  \n",
    "ax = sns.histplot(word_count)\n",
    "plt.xlim((0, 20000))\n",
    "plt.title('Histograms of the length of each document')\n",
    "plt.xlabel(\"Number of words\")\n",
    "plt.ylabel(\"Number of documents\")\n",
    "plt.show()"
   ]
  },
  {
   "cell_type": "markdown",
   "metadata": {
    "id": "YaqNdxUisSlM"
   },
   "source": [
    "Most documents got less than 5000 words.\n",
    "\n",
    "**Code from src**"
   ]
  },
  {
   "cell_type": "code",
   "execution_count": null,
   "metadata": {
    "id": "lzScm-WiAoQ1"
   },
   "outputs": [],
   "source": [
    "df_law[\"Datum\"] = pd.to_datetime(df_law[\"Datum\"])"
   ]
  },
  {
   "cell_type": "code",
   "execution_count": null,
   "metadata": {
    "colab": {
     "base_uri": "https://localhost:8080/",
     "height": 490
    },
    "id": "7_XU_DSOADuy",
    "outputId": "607fea46-9626-45ae-c378-4dd8c561a783"
   },
   "outputs": [
    {
     "data": {
      "text/plain": [
       "<Axes: title={'center': 'Number of Legal Documents from 1992 to 2020'}, xlabel='Year', ylabel='Count'>"
      ]
     },
     "execution_count": 17,
     "metadata": {},
     "output_type": "execute_result"
    },
    {
     "data": {
      "image/png": "[encoded data removed]",
      "text/plain": [
       "<Figure size 640x480 with 1 Axes>"
      ]
     },
     "metadata": {},
     "output_type": "display_data"
    }
   ],
   "source": [
    "year_month_count = df_law.groupby([df_law['Datum'].dt.year, df_law['Datum'].dt.month]).count().Datum\n",
    "year_month_count.index.names = ['Year', 'Month']\n",
    "year_month_count = year_month_count.reset_index()\n",
    "year_month_count['Year & Month'] = pd.to_datetime(year_month_count.apply(lambda x : str(x['Year']) + '-' + str(x['Month']),axis=1))\n",
    "year_month_count = year_month_count[year_month_count[\"Year & Month\"] < \"2020-03-01\"]\n",
    "year_month_count = year_month_count[year_month_count[\"Year & Month\"] > \"1992-01-01\"]\n",
    "\n",
    "ax = sns.lineplot(x = year_month_count['Year & Month'], y= year_month_count['Datum'])\n",
    "plt.title(\"Number of Legal Documents from 1992 to 2020\")\n",
    "plt.ylabel(\"Count\")\n",
    "plt.xlabel(\"Year\")\n",
    "ax"
   ]
  },
  {
   "cell_type": "markdown",
   "metadata": {
    "id": "Q_ah-ha8seUK"
   },
   "source": [
    "From 2004, the number of documents increased and then stabilized starting 2016\n",
    "\n",
    "**Code from src**"
   ]
  },
  {
   "cell_type": "code",
   "execution_count": null,
   "metadata": {
    "colab": {
     "base_uri": "https://localhost:8080/",
     "height": 620
    },
    "id": "FbboZNpgCatb",
    "outputId": "1ebb882e-d707-4506-c46e-33bfc9a069c9"
   },
   "outputs": [
    {
     "name": "stderr",
     "output_type": "stream",
     "text": [
      "<ipython-input-24-39ce6d488b24>:7: FutureWarning: pivot_table dropped a column because it failed to aggregate. This behavior is deprecated and will raise in a future version of pandas. Select only the columns that can be aggregated.\n",
      "  year_month_count.pivot_table(index=year_month_count.Month, columns=year_month_count.Year).plot(colormap='Blues', figsize=(8,6), ylim=(0,720))\n"
     ]
    },
    {
     "data": {
      "image/png": "[encoded data removed]",
      "text/plain": [
       "<Figure size 800x600 with 1 Axes>"
      ]
     },
     "metadata": {},
     "output_type": "display_data"
    }
   ],
   "source": [
    "year_month_count = df_law.groupby([df_law['Datum'].dt.year, df_law['Datum'].dt.month]).count().Datum\n",
    "year_month_count.index.names = ['Year', 'Month']\n",
    "year_month_count = year_month_count.reset_index()\n",
    "year_month_count['Year & Month'] = pd.to_datetime(year_month_count.apply(lambda x : str(x['Year']) + '-' + str(x['Month']),axis=1))\n",
    "year_month_count = year_month_count[year_month_count[\"Year & Month\"] < \"2020-01-01\"]\n",
    "year_month_count = year_month_count[year_month_count[\"Year & Month\"] > \"1992-01-01\"]\n",
    "year_month_count.pivot_table(index=year_month_count.Month, columns=year_month_count.Year).plot(colormap='Blues', figsize=(8,6), ylim=(0,720))\n",
    "plt.legend(loc=\"lower left\", fontsize=\"x-small\", labels = range(1992,2020), ncol=3)\n",
    "plt.title(\"Number of legal documents each month from 1992 to 2019\")\n",
    "plt.ylabel(\"Number of documents\")\n",
    "plt.show()"
   ]
  },
  {
   "cell_type": "markdown",
   "metadata": {
    "id": "1wV2GDs4ubOU"
   },
   "source": [
    "June and October seem to be the month where there are most of the documents\n",
    "\n",
    "**Code from src**"
   ]
  },
  {
   "cell_type": "code",
   "execution_count": null,
   "metadata": {
    "colab": {
     "base_uri": "https://localhost:8080/",
     "height": 508
    },
    "id": "3zgYwAluDOHh",
    "outputId": "c6af271f-3431-454f-8c44-32f991d11435"
   },
   "outputs": [
    {
     "data": {
      "text/plain": [
       "<Axes: title={'center': 'Number of documents for each language in the scraped dataset'}, xlabel='Month', ylabel='Montly Count (log)'>"
      ]
     },
     "execution_count": 25,
     "metadata": {},
     "output_type": "execute_result"
    },
    {
     "data": {
      "image/png": "[encoded data removed]",
      "text/plain": [
       "<Figure size 640x480 with 1 Axes>"
      ]
     },
     "metadata": {},
     "output_type": "display_data"
    }
   ],
   "source": [
    "language_count = df_law.groupby(df_law['Sprache']).count()._id\n",
    "ax = sns.barplot(x = language_count.index, y = language_count.values, palette= [\"tab:orange\", \"tab:blue\", \"tab:green\"])\n",
    "ax.set(xlabel= 'Month', ylabel='Montly Count (log)')\n",
    "plt.title(\"Number of documents for each language in the scraped dataset\")\n",
    "ax.set_yscale('log')\n",
    "ax"
   ]
  },
  {
   "cell_type": "markdown",
   "metadata": {
    "id": "sq6SgFQZulkR"
   },
   "source": [
    "there is way more FR documents than DE and IT documents.\n",
    "\n",
    "**Code from src**"
   ]
  },
  {
   "cell_type": "markdown",
   "metadata": {
    "id": "-yh3FUw0weBF"
   },
   "source": [
    "## Frequences"
   ]
  },
  {
   "cell_type": "code",
   "execution_count": null,
   "metadata": {
    "colab": {
     "base_uri": "https://localhost:8080/"
    },
    "id": "o-mZB-ypyBTo",
    "outputId": "daf4a765-bf7d-4fba-9c50-01d9d99cfd42"
   },
   "outputs": [
    {
     "data": {
      "text/plain": [
       "[\"l'art.\",\n",
       " 'Tribunal',\n",
       " 'octobre',\n",
       " 'janvier',\n",
       " 'février',\n",
       " 'mars',\n",
       " 'avril',\n",
       " 'mai',\n",
       " 'juin',\n",
       " 'juillet',\n",
       " 'août',\n",
       " 'septembre',\n",
       " 'octobre',\n",
       " 'novembre',\n",
       " 'décembre',\n",
       " 'consid.',\n",
       " 'au',\n",
       " 'aux',\n",
       " 'avec',\n",
       " 'ce',\n",
       " 'ces',\n",
       " 'dans',\n",
       " 'de',\n",
       " 'des',\n",
       " 'du',\n",
       " 'elle',\n",
       " 'en',\n",
       " 'et',\n",
       " 'eux',\n",
       " 'il',\n",
       " 'ils',\n",
       " 'je',\n",
       " 'la',\n",
       " 'le',\n",
       " 'les',\n",
       " 'leur',\n",
       " 'lui',\n",
       " 'ma',\n",
       " 'mais',\n",
       " 'me',\n",
       " 'même',\n",
       " 'mes',\n",
       " 'moi',\n",
       " 'mon',\n",
       " 'ne',\n",
       " 'nos',\n",
       " 'notre',\n",
       " 'nous',\n",
       " 'on',\n",
       " 'ou',\n",
       " 'par',\n",
       " 'pas',\n",
       " 'pour',\n",
       " 'qu',\n",
       " 'que',\n",
       " 'qui',\n",
       " 'sa',\n",
       " 'se',\n",
       " 'ses',\n",
       " 'son',\n",
       " 'sur',\n",
       " 'ta',\n",
       " 'te',\n",
       " 'tes',\n",
       " 'toi',\n",
       " 'ton',\n",
       " 'tu',\n",
       " 'un',\n",
       " 'une',\n",
       " 'vos',\n",
       " 'votre',\n",
       " 'vous',\n",
       " 'c',\n",
       " 'd',\n",
       " 'j',\n",
       " 'l',\n",
       " 'à',\n",
       " 'm',\n",
       " 'n',\n",
       " 's',\n",
       " 't',\n",
       " 'y',\n",
       " 'été',\n",
       " 'étée',\n",
       " 'étées',\n",
       " 'étés',\n",
       " 'étant',\n",
       " 'étante',\n",
       " 'étants',\n",
       " 'étantes',\n",
       " 'suis',\n",
       " 'es',\n",
       " 'est',\n",
       " 'sommes',\n",
       " 'êtes',\n",
       " 'sont',\n",
       " 'serai',\n",
       " 'seras',\n",
       " 'sera',\n",
       " 'serons',\n",
       " 'serez',\n",
       " 'seront',\n",
       " 'serais',\n",
       " 'serait',\n",
       " 'serions',\n",
       " 'seriez',\n",
       " 'seraient',\n",
       " 'étais',\n",
       " 'était',\n",
       " 'étions',\n",
       " 'étiez',\n",
       " 'étaient',\n",
       " 'fus',\n",
       " 'fut',\n",
       " 'fûmes',\n",
       " 'fûtes',\n",
       " 'furent',\n",
       " 'sois',\n",
       " 'soit',\n",
       " 'soyons',\n",
       " 'soyez',\n",
       " 'soient',\n",
       " 'fusse',\n",
       " 'fusses',\n",
       " 'fût',\n",
       " 'fussions',\n",
       " 'fussiez',\n",
       " 'fussent',\n",
       " 'ayant',\n",
       " 'ayante',\n",
       " 'ayantes',\n",
       " 'ayants',\n",
       " 'eu',\n",
       " 'eue',\n",
       " 'eues',\n",
       " 'eus',\n",
       " 'ai',\n",
       " 'as',\n",
       " 'avons',\n",
       " 'avez',\n",
       " 'ont',\n",
       " 'aurai',\n",
       " 'auras',\n",
       " 'aura',\n",
       " 'aurons',\n",
       " 'aurez',\n",
       " 'auront',\n",
       " 'aurais',\n",
       " 'aurait',\n",
       " 'aurions',\n",
       " 'auriez',\n",
       " 'auraient',\n",
       " 'avais',\n",
       " 'avait',\n",
       " 'avions',\n",
       " 'aviez',\n",
       " 'avaient',\n",
       " 'eut',\n",
       " 'eûmes',\n",
       " 'eûtes',\n",
       " 'eurent',\n",
       " 'aie',\n",
       " 'aies',\n",
       " 'ait',\n",
       " 'ayons',\n",
       " 'ayez',\n",
       " 'aient',\n",
       " 'eusse',\n",
       " 'eusses',\n",
       " 'eût',\n",
       " 'eussions',\n",
       " 'eussiez',\n",
       " 'eussent',\n",
       " 'a______',\n",
       " 'b______',\n",
       " 'c______',\n",
       " 'd______',\n",
       " 'e______',\n",
       " 'f______',\n",
       " 'g______',\n",
       " 'h______',\n",
       " 'i______',\n",
       " 'j______',\n",
       " 'k______',\n",
       " 'l______',\n",
       " 'm______',\n",
       " 'n______',\n",
       " 'o______',\n",
       " 'p______',\n",
       " 'q______',\n",
       " 'r______',\n",
       " 's______',\n",
       " 't______',\n",
       " 'u______',\n",
       " 'v______',\n",
       " 'w______',\n",
       " 'x______',\n",
       " 'y______',\n",
       " 'z______']"
      ]
     },
     "execution_count": 36,
     "metadata": {},
     "output_type": "execute_result"
    }
   ],
   "source": [
    "[\"l'art.\", \"Tribunal\", \"octobre\", \"janvier\", \"février\", \"mars\", \"avril\", \"mai\", \"juin\", \"juillet\", \"août\", \"septembre\", \"octobre\", \"novembre\", \"décembre\", \"consid.\"] \\\n",
    "    +stopwords.words(\"french\") + [letter.lower()+\"______\" for letter in \"ABCDEFGHIJKLMNOPQRSTUVWXYZ\"]"
   ]
  },
  {
   "cell_type": "markdown",
   "metadata": {
    "id": "p2mXHH0CTYrm"
   },
   "source": [
    "This is the stop words list. All words don't have the same semantic importance...it is more interesting to remove most common word like \"et\", \"etes\", \"mais\"!; They are very common and we don't get any good information"
   ]
  },
  {
   "cell_type": "code",
   "execution_count": null,
   "metadata": {
    "id": "HdJPInfWIWEt"
   },
   "outputs": [],
   "source": [
    "#@title Most Common\n",
    "def get_most_common_ngrams(texts: list, ngram_min: int, ngram_sup: int) -> pd.DataFrame:\n",
    "    \"\"\"\n",
    "    Returns the most common n-grams in a list of texts.\n",
    "\n",
    "    Args:\n",
    "    - texts (list): A list of strings to process.\n",
    "    - ngram_min (int): The minimum n-gram size.\n",
    "    - ngram_sup (int): The maximum n-gram size.\n",
    "\n",
    "    Returns:\n",
    "    - A pandas DataFrame with two columns: 'words' and 'count', sorted by count in descending order.\n",
    "    \"\"\"\n",
    "    stop_word_fr = [\"l'art.\", \"Tribunal\", \"octobre\", \"janvier\", \"février\", \"mars\", \"avril\", \"mai\", \"juin\", \"juillet\", \"août\", \"septembre\", \"octobre\", \"novembre\", \"décembre\", \"consid.\"] \\\n",
    "    +stopwords.words(\"french\") + [letter.lower()+\"______\" for letter in \"ABCDEFGHIJKLMNOPQRSTUVWXYZ\"]\n",
    "\n",
    "    # Create a CountVectorizer object with the desired n-gram range and stop words\n",
    "    vectorizer = CountVectorizer(ngram_range=(ngram_min, ngram_sup), stop_words=stop_word_fr)\n",
    "    # Fit and transform the input texts\n",
    "    X = vectorizer.fit_transform(texts)\n",
    "\n",
    "    # Get the n-gram names and their counts\n",
    "    ngrams = vectorizer.get_feature_names_out()\n",
    "    counts = X.toarray().sum(axis=0)\n",
    "\n",
    "    res = [[count, ngram] for ngram, count in zip(ngrams, counts) if count > 0]\n",
    "\n",
    "    res.sort(reverse=True)\n",
    "\n",
    "    df_count = pd.DataFrame(res, columns=['count', 'words'])\n",
    "    return df_count"
   ]
  },
  {
   "cell_type": "code",
   "execution_count": null,
   "metadata": {
    "colab": {
     "base_uri": "https://localhost:8080/"
    },
    "id": "aXf9jguWoiBj",
    "outputId": "0b2581b3-f9d4-4887-8a98-226004a693fe"
   },
   "outputs": [
    {
     "name": "stderr",
     "output_type": "stream",
     "text": [
      "  0%|          | 0/1 [00:00<?, ?it/s]/usr/local/lib/python3.9/dist-packages/sklearn/feature_extraction/text.py:409: UserWarning: Your stop_words may be inconsistent with your preprocessing. Tokenizing the stop words generated tokens ['art', 'consid', 'tribunal'] not in stop_words.\n",
      "  warnings.warn(\n",
      "100%|██████████| 1/1 [00:00<00:00, 19.50it/s]"
     ]
    },
    {
     "name": "stdout",
     "output_type": "stream",
     "text": [
      "-------------------- Most Common ---------------\n",
      "words\n",
      "fr              398\n",
      "art             248\n",
      "consid          214\n",
      "tribunal        197\n",
      "être            173\n",
      "droit           152\n",
      "al              150\n",
      "décision        145\n",
      "entretien       139\n",
      "mme             125\n",
      "2014            121\n",
      "fédéral         119\n",
      "frais           118\n",
      "cour            117\n",
      "fait            117\n",
      "juge            111\n",
      "recours         111\n",
      "cette           109\n",
      "procédure       108\n",
      "intimé          107\n",
      "000             106\n",
      "pouvoir         101\n",
      "appelante       101\n",
      "ci               96\n",
      "parties          90\n",
      "plus             89\n",
      "mois             88\n",
      "judiciaire       86\n",
      "peut             84\n",
      "atf              83\n",
      "si               82\n",
      "appel            80\n",
      "arrêt            78\n",
      "ainsi            77\n",
      "enfants          75\n",
      "charge           75\n",
      "deux             72\n",
      "lors             72\n",
      "enfant           71\n",
      "cpc              71\n",
      "doit             67\n",
      "selon            65\n",
      "contribution     65\n",
      "2013             65\n",
      "______           65\n",
      "iii              64\n",
      "effet            64\n",
      "général          63\n",
      "2016             63\n",
      "comme            61\n",
      "Name: count, dtype: int64\n"
     ]
    },
    {
     "name": "stderr",
     "output_type": "stream",
     "text": [
      "\n"
     ]
    }
   ],
   "source": [
    "res = get_most_common_ngrams(docs[0:10], 1, 1)\n",
    "print(\"-------------------- Most Common ---------------\")\n",
    "print(res.head(50))"
   ]
  },
  {
   "cell_type": "code",
   "execution_count": null,
   "metadata": {
    "id": "-cLNH1ty3EKI"
   },
   "outputs": [],
   "source": [
    "\n",
    "from sklearn.feature_extraction.text import CountVectorizer\n",
    "\n",
    "\n",
    "def get_most_common_ngrams(texts: list, ngram_min: int, ngram_sup: int, batch_size: int = 10000) -> pd.DataFrame:\n",
    "    \"\"\"\n",
    "    Returns the most common n-grams in a list of texts.\n",
    "\n",
    "    Args:\n",
    "    - texts (list): A list of strings to process.\n",
    "    - ngram_min (int): The minimum n-gram size.\n",
    "    - ngram_sup (int): The maximum n-gram size.\n",
    "    - batch_size (int): The number of texts to process in each batch.\n",
    "\n",
    "    Returns:\n",
    "    - A pandas DataFrame with two columns: 'words' and 'count', sorted by count in descending order.\n",
    "    \"\"\"\n",
    "\n",
    "    # Create a CountVectorizer object with the desired n-gram range and stop words\n",
    "    stop_word_fr = [\"l'art.\", \"Tribunal\", \"octobre\", \"janvier\", \"février\", \"mars\", \"avril\", \"mai\", \"juin\", \"juillet\", \"août\", \"septembre\", \"octobre\", \"novembre\", \"décembre\", \"consid.\"] \\\n",
    "    +stopwords.words(\"french\") + [letter.lower()+\"______\" for letter in \"ABCDEFGHIJKLMNOPQRSTUVWXYZ\"]\n",
    "\n",
    "    vectorizer = CountVectorizer(ngram_range=(ngram_min, ngram_sup), stop_words=stop_word_fr)\n",
    "\n",
    "    res = []\n",
    "\n",
    "    # Process the texts in batches\n",
    "    for i in tqdm(range(0, len(texts), batch_size)):\n",
    "        # Get the current batch of texts\n",
    "        batch = texts[i:i+batch_size]\n",
    "        # Fit and transform the current batch of texts\n",
    "        X = vectorizer.fit_transform(batch)\n",
    "        # Get the n-gram names and their counts for the current batch\n",
    "        ngrams = vectorizer.get_feature_names_out()\n",
    "        counts = X.toarray().sum(axis=0)\n",
    "        # Append the n-grams and their counts for the current batch to the results list\n",
    "        res += [[count, ngram] for ngram, count in zip(ngrams, counts) if count > 0]\n",
    "\n",
    "    # Sort the results by count in descending order\n",
    "    # res.sort(reverse=True)\n",
    "\n",
    "    # Create a pandas DataFrame from the results\n",
    "    df_count = pd.DataFrame(res, columns=['count', 'words'])\n",
    "    \n",
    "    df_result = df_count.groupby('words')['count'].sum()\n",
    "    return df_result.sort_values(ascending = False)\n"
   ]
  },
  {
   "cell_type": "code",
   "execution_count": null,
   "metadata": {
    "colab": {
     "base_uri": "https://localhost:8080/"
    },
    "id": "CQkE10qbo2UQ",
    "outputId": "c49b8415-9958-45fa-a097-b2688c003c52"
   },
   "outputs": [
    {
     "name": "stderr",
     "output_type": "stream",
     "text": [
      "  0%|          | 0/1 [00:00<?, ?it/s]/usr/local/lib/python3.9/dist-packages/sklearn/feature_extraction/text.py:409: UserWarning: Your stop_words may be inconsistent with your preprocessing. Tokenizing the stop words generated tokens ['art', 'consid', 'tribunal'] not in stop_words.\n",
      "  warnings.warn(\n",
      "100%|██████████| 1/1 [00:00<00:00, 20.61it/s]"
     ]
    },
    {
     "name": "stdout",
     "output_type": "stream",
     "text": [
      "-------------------- Most Common ---------------\n",
      "words\n",
      "fr              398\n",
      "art             248\n",
      "consid          214\n",
      "tribunal        197\n",
      "être            173\n",
      "droit           152\n",
      "al              150\n",
      "décision        145\n",
      "entretien       139\n",
      "mme             125\n",
      "2014            121\n",
      "fédéral         119\n",
      "frais           118\n",
      "cour            117\n",
      "fait            117\n",
      "juge            111\n",
      "recours         111\n",
      "cette           109\n",
      "procédure       108\n",
      "intimé          107\n",
      "000             106\n",
      "pouvoir         101\n",
      "appelante       101\n",
      "ci               96\n",
      "parties          90\n",
      "plus             89\n",
      "mois             88\n",
      "judiciaire       86\n",
      "peut             84\n",
      "atf              83\n",
      "si               82\n",
      "appel            80\n",
      "arrêt            78\n",
      "ainsi            77\n",
      "enfants          75\n",
      "charge           75\n",
      "deux             72\n",
      "lors             72\n",
      "enfant           71\n",
      "cpc              71\n",
      "doit             67\n",
      "selon            65\n",
      "contribution     65\n",
      "2013             65\n",
      "______           65\n",
      "iii              64\n",
      "effet            64\n",
      "général          63\n",
      "2016             63\n",
      "comme            61\n",
      "Name: count, dtype: int64\n"
     ]
    },
    {
     "name": "stderr",
     "output_type": "stream",
     "text": [
      "\n"
     ]
    }
   ],
   "source": [
    "res = get_most_common_ngrams(docs[0:10], 1, 1)\n",
    "print(\"-------------------- Most Common ---------------\")\n",
    "print(res.head(50))"
   ]
  },
  {
   "cell_type": "markdown",
   "metadata": {
    "id": "p63CCdB_q2V3"
   },
   "source": [
    "Good for the safety check. Same result with batch and without a batch"
   ]
  },
  {
   "cell_type": "code",
   "execution_count": null,
   "metadata": {
    "id": "G0vb0UG5wyuP"
   },
   "outputs": [],
   "source": [
    "#@title IDF\n",
    "from sklearn.feature_extraction.text import TfidfVectorizer\n",
    "\n",
    "def idf_sklearn(word, documents, n_low, n_high):\n",
    "    vectorizer = TfidfVectorizer(use_idf=True,  ngram_range=(n_low, n_high))\n",
    "    tfidf_matrix = vectorizer.fit_transform(documents)\n",
    "    idf = vectorizer.idf_[vectorizer.vocabulary_[word]]\n",
    "    return idf\n"
   ]
  },
  {
   "cell_type": "code",
   "execution_count": null,
   "metadata": {
    "colab": {
     "base_uri": "https://localhost:8080/"
    },
    "id": "n9qSfv_3xS8h",
    "outputId": "465bf6fb-a443-4639-9208-f7590584e512"
   },
   "outputs": [
    {
     "name": "stderr",
     "output_type": "stream",
     "text": [
      "\r",
      "  0%|          | 0/9 [00:00<?, ?it/s]/usr/local/lib/python3.9/dist-packages/sklearn/feature_extraction/text.py:409: UserWarning: Your stop_words may be inconsistent with your preprocessing. Tokenizing the stop words generated tokens ['art', 'consid', 'tribunal'] not in stop_words.\n",
      "  warnings.warn(\n",
      "100%|██████████| 9/9 [05:03<00:00, 33.77s/it]\n"
     ]
    },
    {
     "name": "stdout",
     "output_type": "stream",
     "text": [
      "-------------------- Most Common ---------------\n",
      "words\n",
      "art           1971418\n",
      "être          1255418\n",
      "al            1123484\n",
      "tribunal      1122525\n",
      "consid        1092826\n",
      "recours       1031558\n",
      "droit          975409\n",
      "décision       965839\n",
      "cette          763709\n",
      "fr             734825\n",
      "fait           683167\n",
      "ainsi          646874\n",
      "ci             642868\n",
      "fédéral        632159\n",
      "plus           631236\n",
      "recourant      627792\n",
      "arrêt          590104\n",
      "procédure      566875\n",
      "selon          562054\n",
      "si             558431\n",
      "atf            548373\n",
      "doit           531446\n",
      "peut           526575\n",
      "cas            509340\n",
      "après          503315\n",
      "travail        488442\n",
      "loi            467194\n",
      "comme          458406\n",
      "dès            434497\n",
      "________       433428\n",
      "sans           422135\n",
      "frais          419045\n",
      "endif          409149\n",
      "if             408967\n",
      "compte         395281\n",
      "lors           392779\n",
      "cause          389640\n",
      "contre         386738\n",
      "non            383284\n",
      "recourante     382585\n",
      "deux           379478\n",
      "suisse         378642\n",
      "1er            370698\n",
      "autorité       367883\n",
      "chf            366177\n",
      "let            361740\n",
      "état           352603\n",
      "mois           351362\n",
      "10             351023\n",
      "avoir          348098\n",
      "Name: count, dtype: int64\n"
     ]
    }
   ],
   "source": [
    "# @title Unigrams\n",
    "res = get_most_common_ngrams(docs, 1, 1)\n",
    "print(\"-------------------- Most Common ---------------\")\n",
    "print(res.head(50))"
   ]
  },
  {
   "cell_type": "markdown",
   "metadata": {
    "id": "Elr2F2PKyShR"
   },
   "source": [
    "More interesting when we need to remove more stopwords..."
   ]
  },
  {
   "cell_type": "code",
   "execution_count": null,
   "metadata": {
    "colab": {
     "base_uri": "https://localhost:8080/"
    },
    "id": "xntchvxtytqk",
    "outputId": "e5dac825-d486-4ef0-fb1e-5e87a3b717d5"
   },
   "outputs": [
    {
     "name": "stderr",
     "output_type": "stream",
     "text": [
      "100%|██████████| 90/90 [15:49<00:00, 10.55s/it]\n"
     ]
    },
    {
     "name": "stdout",
     "output_type": "stream",
     "text": [
      "-------------------- Most Common ---------------\n",
      "words\n",
      "tribunal fédéral          512199\n",
      "endif if                  408626\n",
      "doit être                 242921\n",
      "ci après                  222573\n",
      "dès lors                  197363\n",
      "al let                    190544\n",
      "peut être                 173560\n",
      "arrêt tribunal            166722\n",
      "présent arrêt             156987\n",
      "assurances sociales       154827\n",
      "loi fédérale              144066\n",
      "celle ci                  143530\n",
      "000 fr                    134421\n",
      "celui ci                  132771\n",
      "art al                    128629\n",
      "tribunal administratif    120538\n",
      "première instance         120022\n",
      "moyens preuve             118908\n",
      "selon art                 117818\n",
      "sens art                  110393\n",
      "cour justice              105875\n",
      "autorité intimée          105469\n",
      "mesure où                 105191\n",
      "doivent être              104306\n",
      "1er janvier               101609\n",
      "décision attaquée          99032\n",
      "autorisation séjour        95808\n",
      "capacité travail           95533\n",
      "compte tenu                95085\n",
      "conformément art           95057\n",
      "recours doit               91766\n",
      "tribunal cantonal          90496\n",
      "ad art                     86512\n",
      "recours matière            86105\n",
      "juin 2005                  82144\n",
      "chambre administrative     80413\n",
      "17 juin                    79364\n",
      "cette dernière             77896\n",
      "incapacité travail         75843\n",
      "contre décision            72754\n",
      "al cpc                     72186\n",
      "trente jours               71013\n",
      "pouvoir judiciaire         70028\n",
      "droit administratif        69831\n",
      "rs 173                     69677\n",
      "cet égard                  69643\n",
      "ministère public           68621\n",
      "cette décision             68497\n",
      "173 110                    68468\n",
      "chambre céans              66329\n",
      "Name: count, dtype: int64\n"
     ]
    }
   ],
   "source": [
    "# @title Bigrams\n",
    "res = get_most_common_ngrams(docs, 2, 2, 1000)\n",
    "print(\"-------------------- Most Common ---------------\")\n",
    "print(res.head(50))"
   ]
  },
  {
   "cell_type": "markdown",
   "metadata": {
    "id": "pVdfJnZmhwno"
   },
   "source": [
    "\"end if\" I have to separate languages ?!"
   ]
  },
  {
   "cell_type": "code",
   "execution_count": null,
   "metadata": {
    "colab": {
     "base_uri": "https://localhost:8080/"
    },
    "id": "dfdLfy6g0GYi",
    "outputId": "62d6b522-68f9-4e7b-cef4-023d7a98622f"
   },
   "outputs": [
    {
     "name": "stderr",
     "output_type": "stream",
     "text": [
      "100%|██████████| 93/93 [24:43<00:00, 15.95s/it]\n"
     ]
    },
    {
     "name": "stdout",
     "output_type": "stream",
     "text": [
      "-------------------- Most Common ---------------\n",
      "words\n",
      "arrêt tribunal fédéral          154975\n",
      "17 juin 2005                     69656\n",
      "rs 173 110                       68455\n",
      "ltf rs 173                       65871\n",
      "recours doit être                56931\n",
      "tribunal fédéral 17              52550\n",
      "adressé tribunal fédéral         52535\n",
      "fédéral 17 juin                  52304\n",
      "juin 2005 ltf                    52150\n",
      "doit être adressé                50492\n",
      "être adressé tribunal            49700\n",
      "2005 ltf rs                      48926\n",
      "mémoire recours doit             48783\n",
      "matière droit public             46778\n",
      "recours matière droit            46704\n",
      "comme moyens preuve              45787\n",
      "preuve doivent être              45677\n",
      "chambre assurances sociales      45509\n",
      "invoquées comme moyens           45345\n",
      "arrêts tribunal fédéral          45189\n",
      "moyens preuve doivent            44902\n",
      "cour justice chambre             44871\n",
      "tribunal première instance       44858\n",
      "indiquer conclusions motifs      44429\n",
      "droit administratif public       44349\n",
      "motifs moyens preuve             44179\n",
      "conclusions motifs moyens        44175\n",
      "cour droit administratif         44006\n",
      "fédérale tribunal fédéral        43450\n",
      "loi fédérale tribunal            43431\n",
      "ss loi fédérale                  43384\n",
      "1000 lausanne 14                 42528\n",
      "voie recours matière             41238\n",
      "tribunal fédéral voie            40164\n",
      "82 ss loi                        39830\n",
      "jours suivent notification       38819\n",
      "tribunal fédéral 1000            37634\n",
      "fédéral 1000 lausanne            37620\n",
      "cause gardée juger               37249\n",
      "droit être entendu               36516\n",
      "tribunal cantonal assurances     36076\n",
      "devant tribunal fédéral          35459\n",
      "cantonal assurances sociales     34965\n",
      "trente jours suivent             31953\n",
      "consid arrêt tribunal            30734\n",
      "contre cette décision            30076\n",
      "droit assurances sociales        29821\n",
      "art 42 ltf                       29793\n",
      "pièces possession recourant      29732\n",
      "tribunal fédéral assurances      29332\n",
      "Name: count, dtype: int64\n"
     ]
    }
   ],
   "source": [
    "# @title Trigrams\n",
    "res = get_most_common_ngrams(documents, 3, 3, 1000)\n",
    "print(\"-------------------- Most Common ---------------\")\n",
    "print(res.head(50))"
   ]
  },
  {
   "cell_type": "markdown",
   "metadata": {
    "id": "QiuxynzlTOW_"
   },
   "source": [
    "very interesting trigrams. We could use them to detect types of case law: \"matière droit public\", \"cour droit administratif\""
   ]
  },
  {
   "cell_type": "markdown",
   "metadata": {
    "id": "fAqUb5_XiZ_d"
   },
   "source": [
    "# Conclusion\n",
    "\n",
    "Using Batches seems to solve the memory issues. Pandaparallel is very effective with TPU machine"
   ]
  },
  {
   "cell_type": "code",
   "execution_count": null,
   "metadata": {
    "id": "8y_fah4aiksT"
   },
   "outputs": [],
   "source": []
  }
 ],
 "metadata": {
  "accelerator": "TPU",
  "colab": {
   "machine_shape": "hm",
   "provenance": []
  },
  "gpuClass": "standard",
  "kernelspec": {
   "display_name": "Python 3 (ipykernel)",
   "language": "python",
   "name": "python3"
  },
  "language_info": {
   "codemirror_mode": {
    "name": "ipython",
    "version": 3
   },
   "file_extension": ".py",
   "mimetype": "text/x-python",
   "name": "python",
   "nbconvert_exporter": "python",
   "pygments_lexer": "ipython3",
   "version": "3.11.5"
  },
  "widgets": {
   "application/vnd.jupyter.widget-state+json": {
    "007ecd4f1eb44455a89155c9d7765d72": {
     "model_module": "@jupyter-widgets/base",
     "model_module_version": "1.2.0",
     "model_name": "LayoutModel",
     "state": {
      "_model_module": "@jupyter-widgets/base",
      "_model_module_version": "1.2.0",
      "_model_name": "LayoutModel",
      "_view_count": null,
      "_view_module": "@jupyter-widgets/base",
      "_view_module_version": "1.2.0",
      "_view_name": "LayoutView",
      "align_content": null,
      "align_items": null,
      "align_self": null,
      "border": null,
      "bottom": null,
      "display": null,
      "flex": null,
      "flex_flow": null,
      "grid_area": null,
      "grid_auto_columns": null,
      "grid_auto_flow": null,
      "grid_auto_rows": null,
      "grid_column": null,
      "grid_gap": null,
      "grid_row": null,
      "grid_template_areas": null,
      "grid_template_columns": null,
      "grid_template_rows": null,
      "height": null,
      "justify_content": null,
      "justify_items": null,
      "left": null,
      "margin": null,
      "max_height": null,
      "max_width": null,
      "min_height": null,
      "min_width": null,
      "object_fit": null,
      "object_position": null,
      "order": null,
      "overflow": null,
      "overflow_x": null,
      "overflow_y": null,
      "padding": null,
      "right": null,
      "top": null,
      "visibility": null,
      "width": null
     }
    },
    "00a04c0e58df404e84638c079b33b3c8": {
     "model_module": "@jupyter-widgets/base",
     "model_module_version": "1.2.0",
     "model_name": "LayoutModel",
     "state": {
      "_model_module": "@jupyter-widgets/base",
      "_model_module_version": "1.2.0",
      "_model_name": "LayoutModel",
      "_view_count": null,
      "_view_module": "@jupyter-widgets/base",
      "_view_module_version": "1.2.0",
      "_view_name": "LayoutView",
      "align_content": null,
      "align_items": null,
      "align_self": null,
      "border": null,
      "bottom": null,
      "display": null,
      "flex": null,
      "flex_flow": null,
      "grid_area": null,
      "grid_auto_columns": null,
      "grid_auto_flow": null,
      "grid_auto_rows": null,
      "grid_column": null,
      "grid_gap": null,
      "grid_row": null,
      "grid_template_areas": null,
      "grid_template_columns": null,
      "grid_template_rows": null,
      "height": null,
      "justify_content": null,
      "justify_items": null,
      "left": null,
      "margin": null,
      "max_height": null,
      "max_width": null,
      "min_height": null,
      "min_width": null,
      "object_fit": null,
      "object_position": null,
      "order": null,
      "overflow": null,
      "overflow_x": null,
      "overflow_y": null,
      "padding": null,
      "right": null,
      "top": null,
      "visibility": null,
      "width": null
     }
    },
    "0290499a15da49f28b2f2b0f6433804a": {
     "model_module": "@jupyter-widgets/base",
     "model_module_version": "1.2.0",
     "model_name": "LayoutModel",
     "state": {
      "_model_module": "@jupyter-widgets/base",
      "_model_module_version": "1.2.0",
      "_model_name": "LayoutModel",
      "_view_count": null,
      "_view_module": "@jupyter-widgets/base",
      "_view_module_version": "1.2.0",
      "_view_name": "LayoutView",
      "align_content": null,
      "align_items": null,
      "align_self": null,
      "border": null,
      "bottom": null,
      "display": null,
      "flex": null,
      "flex_flow": null,
      "grid_area": null,
      "grid_auto_columns": null,
      "grid_auto_flow": null,
      "grid_auto_rows": null,
      "grid_column": null,
      "grid_gap": null,
      "grid_row": null,
      "grid_template_areas": null,
      "grid_template_columns": null,
      "grid_template_rows": null,
      "height": null,
      "justify_content": null,
      "justify_items": null,
      "left": null,
      "margin": null,
      "max_height": null,
      "max_width": null,
      "min_height": null,
      "min_width": null,
      "object_fit": null,
      "object_position": null,
      "order": null,
      "overflow": null,
      "overflow_x": null,
      "overflow_y": null,
      "padding": null,
      "right": null,
      "top": null,
      "visibility": null,
      "width": null
     }
    },
    "064a10cfbe2c4aa3b57c390d28bc449b": {
     "model_module": "@jupyter-widgets/base",
     "model_module_version": "1.2.0",
     "model_name": "LayoutModel",
     "state": {
      "_model_module": "@jupyter-widgets/base",
      "_model_module_version": "1.2.0",
      "_model_name": "LayoutModel",
      "_view_count": null,
      "_view_module": "@jupyter-widgets/base",
      "_view_module_version": "1.2.0",
      "_view_name": "LayoutView",
      "align_content": null,
      "align_items": null,
      "align_self": null,
      "border": null,
      "bottom": null,
      "display": null,
      "flex": null,
      "flex_flow": null,
      "grid_area": null,
      "grid_auto_columns": null,
      "grid_auto_flow": null,
      "grid_auto_rows": null,
      "grid_column": null,
      "grid_gap": null,
      "grid_row": null,
      "grid_template_areas": null,
      "grid_template_columns": null,
      "grid_template_rows": null,
      "height": null,
      "justify_content": null,
      "justify_items": null,
      "left": null,
      "margin": null,
      "max_height": null,
      "max_width": null,
      "min_height": null,
      "min_width": null,
      "object_fit": null,
      "object_position": null,
      "order": null,
      "overflow": null,
      "overflow_x": null,
      "overflow_y": null,
      "padding": null,
      "right": null,
      "top": null,
      "visibility": null,
      "width": null
     }
    },
    "0c0132a95fa64bec94421a23ff466bba": {
     "model_module": "@jupyter-widgets/controls",
     "model_module_version": "1.5.0",
     "model_name": "IntProgressModel",
     "state": {
      "_dom_classes": [],
      "_model_module": "@jupyter-widgets/controls",
      "_model_module_version": "1.5.0",
      "_model_name": "IntProgressModel",
      "_view_count": null,
      "_view_module": "@jupyter-widgets/controls",
      "_view_module_version": "1.5.0",
      "_view_name": "ProgressView",
      "bar_style": "success",
      "description": "100.00%",
      "description_tooltip": null,
      "layout": "IPY_MODEL_30094e6c151543f5b38eaf354c6cf519",
      "max": 4609,
      "min": 0,
      "orientation": "horizontal",
      "style": "IPY_MODEL_2149aa05cd994b41810dad5216e47ac7",
      "value": 4609
     }
    },
    "11f981c1da784f6a9fa50c19c8d3d9fe": {
     "model_module": "@jupyter-widgets/base",
     "model_module_version": "1.2.0",
     "model_name": "LayoutModel",
     "state": {
      "_model_module": "@jupyter-widgets/base",
      "_model_module_version": "1.2.0",
      "_model_name": "LayoutModel",
      "_view_count": null,
      "_view_module": "@jupyter-widgets/base",
      "_view_module_version": "1.2.0",
      "_view_name": "LayoutView",
      "align_content": null,
      "align_items": null,
      "align_self": null,
      "border": null,
      "bottom": null,
      "display": null,
      "flex": null,
      "flex_flow": null,
      "grid_area": null,
      "grid_auto_columns": null,
      "grid_auto_flow": null,
      "grid_auto_rows": null,
      "grid_column": null,
      "grid_gap": null,
      "grid_row": null,
      "grid_template_areas": null,
      "grid_template_columns": null,
      "grid_template_rows": null,
      "height": null,
      "justify_content": null,
      "justify_items": null,
      "left": null,
      "margin": null,
      "max_height": null,
      "max_width": null,
      "min_height": null,
      "min_width": null,
      "object_fit": null,
      "object_position": null,
      "order": null,
      "overflow": null,
      "overflow_x": null,
      "overflow_y": null,
      "padding": null,
      "right": null,
      "top": null,
      "visibility": null,
      "width": null
     }
    },
    "12cea1385b5045f2a38873f8fb8af733": {
     "model_module": "@jupyter-widgets/controls",
     "model_module_version": "1.5.0",
     "model_name": "DescriptionStyleModel",
     "state": {
      "_model_module": "@jupyter-widgets/controls",
      "_model_module_version": "1.5.0",
      "_model_name": "DescriptionStyleModel",
      "_view_count": null,
      "_view_module": "@jupyter-widgets/base",
      "_view_module_version": "1.2.0",
      "_view_name": "StyleView",
      "description_width": ""
     }
    },
    "16e01eac2fc94fa7afef8e55ebdcae63": {
     "model_module": "@jupyter-widgets/base",
     "model_module_version": "1.2.0",
     "model_name": "LayoutModel",
     "state": {
      "_model_module": "@jupyter-widgets/base",
      "_model_module_version": "1.2.0",
      "_model_name": "LayoutModel",
      "_view_count": null,
      "_view_module": "@jupyter-widgets/base",
      "_view_module_version": "1.2.0",
      "_view_name": "LayoutView",
      "align_content": null,
      "align_items": null,
      "align_self": null,
      "border": null,
      "bottom": null,
      "display": null,
      "flex": null,
      "flex_flow": null,
      "grid_area": null,
      "grid_auto_columns": null,
      "grid_auto_flow": null,
      "grid_auto_rows": null,
      "grid_column": null,
      "grid_gap": null,
      "grid_row": null,
      "grid_template_areas": null,
      "grid_template_columns": null,
      "grid_template_rows": null,
      "height": null,
      "justify_content": null,
      "justify_items": null,
      "left": null,
      "margin": null,
      "max_height": null,
      "max_width": null,
      "min_height": null,
      "min_width": null,
      "object_fit": null,
      "object_position": null,
      "order": null,
      "overflow": null,
      "overflow_x": null,
      "overflow_y": null,
      "padding": null,
      "right": null,
      "top": null,
      "visibility": null,
      "width": null
     }
    },
    "182cffa63b7d4e008942674700ea8c46": {
     "model_module": "@jupyter-widgets/controls",
     "model_module_version": "1.5.0",
     "model_name": "ProgressStyleModel",
     "state": {
      "_model_module": "@jupyter-widgets/controls",
      "_model_module_version": "1.5.0",
      "_model_name": "ProgressStyleModel",
      "_view_count": null,
      "_view_module": "@jupyter-widgets/base",
      "_view_module_version": "1.2.0",
      "_view_name": "StyleView",
      "bar_color": null,
      "description_width": ""
     }
    },
    "189081acd2694a95948c86f66af10989": {
     "model_module": "@jupyter-widgets/controls",
     "model_module_version": "1.5.0",
     "model_name": "HBoxModel",
     "state": {
      "_dom_classes": [],
      "_model_module": "@jupyter-widgets/controls",
      "_model_module_version": "1.5.0",
      "_model_name": "HBoxModel",
      "_view_count": null,
      "_view_module": "@jupyter-widgets/controls",
      "_view_module_version": "1.5.0",
      "_view_name": "HBoxView",
      "box_style": "",
      "children": [
       "IPY_MODEL_0c0132a95fa64bec94421a23ff466bba",
       "IPY_MODEL_b2e98d3ae89d48e1a3010c23e1bdd181"
      ],
      "layout": "IPY_MODEL_a7c437527a894a5ba9a57fd2a77593f4"
     }
    },
    "18d40ba854674c818f77dccb72a3fa2b": {
     "model_module": "@jupyter-widgets/controls",
     "model_module_version": "1.5.0",
     "model_name": "DescriptionStyleModel",
     "state": {
      "_model_module": "@jupyter-widgets/controls",
      "_model_module_version": "1.5.0",
      "_model_name": "DescriptionStyleModel",
      "_view_count": null,
      "_view_module": "@jupyter-widgets/base",
      "_view_module_version": "1.2.0",
      "_view_name": "StyleView",
      "description_width": ""
     }
    },
    "1b2fa078e7444fc794d5f1cb8657d3fd": {
     "model_module": "@jupyter-widgets/controls",
     "model_module_version": "1.5.0",
     "model_name": "ProgressStyleModel",
     "state": {
      "_model_module": "@jupyter-widgets/controls",
      "_model_module_version": "1.5.0",
      "_model_name": "ProgressStyleModel",
      "_view_count": null,
      "_view_module": "@jupyter-widgets/base",
      "_view_module_version": "1.2.0",
      "_view_name": "StyleView",
      "bar_color": null,
      "description_width": ""
     }
    },
    "1b34e8d8b4fe4039ae192cc7433dd8d0": {
     "model_module": "@jupyter-widgets/controls",
     "model_module_version": "1.5.0",
     "model_name": "FloatProgressModel",
     "state": {
      "_dom_classes": [],
      "_model_module": "@jupyter-widgets/controls",
      "_model_module_version": "1.5.0",
      "_model_name": "FloatProgressModel",
      "_view_count": null,
      "_view_module": "@jupyter-widgets/controls",
      "_view_module_version": "1.5.0",
      "_view_name": "ProgressView",
      "bar_style": "success",
      "description": "",
      "description_tooltip": null,
      "layout": "IPY_MODEL_00a04c0e58df404e84638c079b33b3c8",
      "max": 92177,
      "min": 0,
      "orientation": "horizontal",
      "style": "IPY_MODEL_7737c9c00c2240de9b766f36fbf3a331",
      "value": 92177
     }
    },
    "1b4b202d9d7c4e6c8a1c2971eeb8587c": {
     "model_module": "@jupyter-widgets/controls",
     "model_module_version": "1.5.0",
     "model_name": "IntProgressModel",
     "state": {
      "_dom_classes": [],
      "_model_module": "@jupyter-widgets/controls",
      "_model_module_version": "1.5.0",
      "_model_name": "IntProgressModel",
      "_view_count": null,
      "_view_module": "@jupyter-widgets/controls",
      "_view_module_version": "1.5.0",
      "_view_name": "ProgressView",
      "bar_style": "success",
      "description": "100.00%",
      "description_tooltip": null,
      "layout": "IPY_MODEL_f8c53f8b9cc741458c8f841d07aaf625",
      "max": 4609,
      "min": 0,
      "orientation": "horizontal",
      "style": "IPY_MODEL_cc8e45e64cd746ada9b7a8641603b0b7",
      "value": 4609
     }
    },
    "1b8a2b7da80240d891fe53c1ec317d96": {
     "model_module": "@jupyter-widgets/controls",
     "model_module_version": "1.5.0",
     "model_name": "ProgressStyleModel",
     "state": {
      "_model_module": "@jupyter-widgets/controls",
      "_model_module_version": "1.5.0",
      "_model_name": "ProgressStyleModel",
      "_view_count": null,
      "_view_module": "@jupyter-widgets/base",
      "_view_module_version": "1.2.0",
      "_view_name": "StyleView",
      "bar_color": null,
      "description_width": ""
     }
    },
    "1d1c85e4a7f140538728f5330a761a77": {
     "model_module": "@jupyter-widgets/base",
     "model_module_version": "1.2.0",
     "model_name": "LayoutModel",
     "state": {
      "_model_module": "@jupyter-widgets/base",
      "_model_module_version": "1.2.0",
      "_model_name": "LayoutModel",
      "_view_count": null,
      "_view_module": "@jupyter-widgets/base",
      "_view_module_version": "1.2.0",
      "_view_name": "LayoutView",
      "align_content": null,
      "align_items": null,
      "align_self": null,
      "border": null,
      "bottom": null,
      "display": null,
      "flex": null,
      "flex_flow": null,
      "grid_area": null,
      "grid_auto_columns": null,
      "grid_auto_flow": null,
      "grid_auto_rows": null,
      "grid_column": null,
      "grid_gap": null,
      "grid_row": null,
      "grid_template_areas": null,
      "grid_template_columns": null,
      "grid_template_rows": null,
      "height": null,
      "justify_content": null,
      "justify_items": null,
      "left": null,
      "margin": null,
      "max_height": null,
      "max_width": null,
      "min_height": null,
      "min_width": null,
      "object_fit": null,
      "object_position": null,
      "order": null,
      "overflow": null,
      "overflow_x": null,
      "overflow_y": null,
      "padding": null,
      "right": null,
      "top": null,
      "visibility": null,
      "width": null
     }
    },
    "1dcf91de326d46cab6e5f16bd9ca321a": {
     "model_module": "@jupyter-widgets/controls",
     "model_module_version": "1.5.0",
     "model_name": "HBoxModel",
     "state": {
      "_dom_classes": [],
      "_model_module": "@jupyter-widgets/controls",
      "_model_module_version": "1.5.0",
      "_model_name": "HBoxModel",
      "_view_count": null,
      "_view_module": "@jupyter-widgets/controls",
      "_view_module_version": "1.5.0",
      "_view_name": "HBoxView",
      "box_style": "",
      "children": [
       "IPY_MODEL_d2ccadeb2c8c4f1ea2fc6f3bd3f7c1f0",
       "IPY_MODEL_aef600d320054d28b9241f89d1858c5f"
      ],
      "layout": "IPY_MODEL_da99e3c6f13642e7bbf488a2bb095ddc"
     }
    },
    "1e8ac4b015f24cb38b6047950738fe7c": {
     "model_module": "@jupyter-widgets/base",
     "model_module_version": "1.2.0",
     "model_name": "LayoutModel",
     "state": {
      "_model_module": "@jupyter-widgets/base",
      "_model_module_version": "1.2.0",
      "_model_name": "LayoutModel",
      "_view_count": null,
      "_view_module": "@jupyter-widgets/base",
      "_view_module_version": "1.2.0",
      "_view_name": "LayoutView",
      "align_content": null,
      "align_items": null,
      "align_self": null,
      "border": null,
      "bottom": null,
      "display": null,
      "flex": null,
      "flex_flow": null,
      "grid_area": null,
      "grid_auto_columns": null,
      "grid_auto_flow": null,
      "grid_auto_rows": null,
      "grid_column": null,
      "grid_gap": null,
      "grid_row": null,
      "grid_template_areas": null,
      "grid_template_columns": null,
      "grid_template_rows": null,
      "height": null,
      "justify_content": null,
      "justify_items": null,
      "left": null,
      "margin": null,
      "max_height": null,
      "max_width": null,
      "min_height": null,
      "min_width": null,
      "object_fit": null,
      "object_position": null,
      "order": null,
      "overflow": null,
      "overflow_x": null,
      "overflow_y": null,
      "padding": null,
      "right": null,
      "top": null,
      "visibility": null,
      "width": null
     }
    },
    "1eed646de3014c2bb6d8f95c3241d1a7": {
     "model_module": "@jupyter-widgets/base",
     "model_module_version": "1.2.0",
     "model_name": "LayoutModel",
     "state": {
      "_model_module": "@jupyter-widgets/base",
      "_model_module_version": "1.2.0",
      "_model_name": "LayoutModel",
      "_view_count": null,
      "_view_module": "@jupyter-widgets/base",
      "_view_module_version": "1.2.0",
      "_view_name": "LayoutView",
      "align_content": null,
      "align_items": null,
      "align_self": null,
      "border": null,
      "bottom": null,
      "display": null,
      "flex": null,
      "flex_flow": null,
      "grid_area": null,
      "grid_auto_columns": null,
      "grid_auto_flow": null,
      "grid_auto_rows": null,
      "grid_column": null,
      "grid_gap": null,
      "grid_row": null,
      "grid_template_areas": null,
      "grid_template_columns": null,
      "grid_template_rows": null,
      "height": null,
      "justify_content": null,
      "justify_items": null,
      "left": null,
      "margin": null,
      "max_height": null,
      "max_width": null,
      "min_height": null,
      "min_width": null,
      "object_fit": null,
      "object_position": null,
      "order": null,
      "overflow": null,
      "overflow_x": null,
      "overflow_y": null,
      "padding": null,
      "right": null,
      "top": null,
      "visibility": null,
      "width": null
     }
    },
    "20f83546765c47eb83cefaa96fd9a32a": {
     "model_module": "@jupyter-widgets/controls",
     "model_module_version": "1.5.0",
     "model_name": "LabelModel",
     "state": {
      "_dom_classes": [],
      "_model_module": "@jupyter-widgets/controls",
      "_model_module_version": "1.5.0",
      "_model_name": "LabelModel",
      "_view_count": null,
      "_view_module": "@jupyter-widgets/controls",
      "_view_module_version": "1.5.0",
      "_view_name": "LabelView",
      "description": "",
      "description_tooltip": null,
      "layout": "IPY_MODEL_064a10cfbe2c4aa3b57c390d28bc449b",
      "placeholder": "​",
      "style": "IPY_MODEL_d408845b84e5427ea1ea45394f954d01",
      "value": "4609 / 4609"
     }
    },
    "210a9385e5e149b7b8ad4e6cbd12f4fa": {
     "model_module": "@jupyter-widgets/controls",
     "model_module_version": "1.5.0",
     "model_name": "DescriptionStyleModel",
     "state": {
      "_model_module": "@jupyter-widgets/controls",
      "_model_module_version": "1.5.0",
      "_model_name": "DescriptionStyleModel",
      "_view_count": null,
      "_view_module": "@jupyter-widgets/base",
      "_view_module_version": "1.2.0",
      "_view_name": "StyleView",
      "description_width": ""
     }
    },
    "2149aa05cd994b41810dad5216e47ac7": {
     "model_module": "@jupyter-widgets/controls",
     "model_module_version": "1.5.0",
     "model_name": "ProgressStyleModel",
     "state": {
      "_model_module": "@jupyter-widgets/controls",
      "_model_module_version": "1.5.0",
      "_model_name": "ProgressStyleModel",
      "_view_count": null,
      "_view_module": "@jupyter-widgets/base",
      "_view_module_version": "1.2.0",
      "_view_name": "StyleView",
      "bar_color": null,
      "description_width": ""
     }
    },
    "2165f9784dd344c59adf4632f1a06b36": {
     "model_module": "@jupyter-widgets/base",
     "model_module_version": "1.2.0",
     "model_name": "LayoutModel",
     "state": {
      "_model_module": "@jupyter-widgets/base",
      "_model_module_version": "1.2.0",
      "_model_name": "LayoutModel",
      "_view_count": null,
      "_view_module": "@jupyter-widgets/base",
      "_view_module_version": "1.2.0",
      "_view_name": "LayoutView",
      "align_content": null,
      "align_items": null,
      "align_self": null,
      "border": null,
      "bottom": null,
      "display": null,
      "flex": null,
      "flex_flow": null,
      "grid_area": null,
      "grid_auto_columns": null,
      "grid_auto_flow": null,
      "grid_auto_rows": null,
      "grid_column": null,
      "grid_gap": null,
      "grid_row": null,
      "grid_template_areas": null,
      "grid_template_columns": null,
      "grid_template_rows": null,
      "height": null,
      "justify_content": null,
      "justify_items": null,
      "left": null,
      "margin": null,
      "max_height": null,
      "max_width": null,
      "min_height": null,
      "min_width": null,
      "object_fit": null,
      "object_position": null,
      "order": null,
      "overflow": null,
      "overflow_x": null,
      "overflow_y": null,
      "padding": null,
      "right": null,
      "top": null,
      "visibility": null,
      "width": null
     }
    },
    "21d23f80ebfe404ead9c1ee99df4de9d": {
     "model_module": "@jupyter-widgets/controls",
     "model_module_version": "1.5.0",
     "model_name": "HBoxModel",
     "state": {
      "_dom_classes": [],
      "_model_module": "@jupyter-widgets/controls",
      "_model_module_version": "1.5.0",
      "_model_name": "HBoxModel",
      "_view_count": null,
      "_view_module": "@jupyter-widgets/controls",
      "_view_module_version": "1.5.0",
      "_view_name": "HBoxView",
      "box_style": "",
      "children": [
       "IPY_MODEL_cb4d0343f9be4f4ab94453f1b9357fdc",
       "IPY_MODEL_908fc38c557e49039d45275c8ada32b8"
      ],
      "layout": "IPY_MODEL_907c908c55114337837895371bc38bca"
     }
    },
    "22e6c63fb2f044dd84df5c4667cbd19b": {
     "model_module": "@jupyter-widgets/controls",
     "model_module_version": "1.5.0",
     "model_name": "HBoxModel",
     "state": {
      "_dom_classes": [],
      "_model_module": "@jupyter-widgets/controls",
      "_model_module_version": "1.5.0",
      "_model_name": "HBoxModel",
      "_view_count": null,
      "_view_module": "@jupyter-widgets/controls",
      "_view_module_version": "1.5.0",
      "_view_name": "HBoxView",
      "box_style": "",
      "children": [
       "IPY_MODEL_ee074dda55944fe596fc4f537dbe2889",
       "IPY_MODEL_aef9080215854e32b081efff204a33e6"
      ],
      "layout": "IPY_MODEL_50c6087bf555424cb22b4a5bb18659a6"
     }
    },
    "256635e337e74b549ba6d7ab1ce4d99c": {
     "model_module": "@jupyter-widgets/base",
     "model_module_version": "1.2.0",
     "model_name": "LayoutModel",
     "state": {
      "_model_module": "@jupyter-widgets/base",
      "_model_module_version": "1.2.0",
      "_model_name": "LayoutModel",
      "_view_count": null,
      "_view_module": "@jupyter-widgets/base",
      "_view_module_version": "1.2.0",
      "_view_name": "LayoutView",
      "align_content": null,
      "align_items": null,
      "align_self": null,
      "border": null,
      "bottom": null,
      "display": null,
      "flex": null,
      "flex_flow": null,
      "grid_area": null,
      "grid_auto_columns": null,
      "grid_auto_flow": null,
      "grid_auto_rows": null,
      "grid_column": null,
      "grid_gap": null,
      "grid_row": null,
      "grid_template_areas": null,
      "grid_template_columns": null,
      "grid_template_rows": null,
      "height": null,
      "justify_content": null,
      "justify_items": null,
      "left": null,
      "margin": null,
      "max_height": null,
      "max_width": null,
      "min_height": null,
      "min_width": null,
      "object_fit": null,
      "object_position": null,
      "order": null,
      "overflow": null,
      "overflow_x": null,
      "overflow_y": null,
      "padding": null,
      "right": null,
      "top": null,
      "visibility": null,
      "width": null
     }
    },
    "2601ec1fad274c9885c73e478026dfcb": {
     "model_module": "@jupyter-widgets/controls",
     "model_module_version": "1.5.0",
     "model_name": "HBoxModel",
     "state": {
      "_dom_classes": [],
      "_model_module": "@jupyter-widgets/controls",
      "_model_module_version": "1.5.0",
      "_model_name": "HBoxModel",
      "_view_count": null,
      "_view_module": "@jupyter-widgets/controls",
      "_view_module_version": "1.5.0",
      "_view_name": "HBoxView",
      "box_style": "",
      "children": [
       "IPY_MODEL_4ff378c7a5714130a5fbe99c0216c1d4",
       "IPY_MODEL_1b34e8d8b4fe4039ae192cc7433dd8d0",
       "IPY_MODEL_7581b1035b6d479296b0dc3877bbf3a6"
      ],
      "layout": "IPY_MODEL_6e736078560640ce94da1558903a517c"
     }
    },
    "288f9879bf3a4850bba8fab93ee39c21": {
     "model_module": "@jupyter-widgets/base",
     "model_module_version": "1.2.0",
     "model_name": "LayoutModel",
     "state": {
      "_model_module": "@jupyter-widgets/base",
      "_model_module_version": "1.2.0",
      "_model_name": "LayoutModel",
      "_view_count": null,
      "_view_module": "@jupyter-widgets/base",
      "_view_module_version": "1.2.0",
      "_view_name": "LayoutView",
      "align_content": null,
      "align_items": null,
      "align_self": null,
      "border": null,
      "bottom": null,
      "display": null,
      "flex": null,
      "flex_flow": null,
      "grid_area": null,
      "grid_auto_columns": null,
      "grid_auto_flow": null,
      "grid_auto_rows": null,
      "grid_column": null,
      "grid_gap": null,
      "grid_row": null,
      "grid_template_areas": null,
      "grid_template_columns": null,
      "grid_template_rows": null,
      "height": null,
      "justify_content": null,
      "justify_items": null,
      "left": null,
      "margin": null,
      "max_height": null,
      "max_width": null,
      "min_height": null,
      "min_width": null,
      "object_fit": null,
      "object_position": null,
      "order": null,
      "overflow": null,
      "overflow_x": null,
      "overflow_y": null,
      "padding": null,
      "right": null,
      "top": null,
      "visibility": null,
      "width": null
     }
    },
    "2b613130eb184519a85a630edaa0d3bf": {
     "model_module": "@jupyter-widgets/controls",
     "model_module_version": "1.5.0",
     "model_name": "IntProgressModel",
     "state": {
      "_dom_classes": [],
      "_model_module": "@jupyter-widgets/controls",
      "_model_module_version": "1.5.0",
      "_model_name": "IntProgressModel",
      "_view_count": null,
      "_view_module": "@jupyter-widgets/controls",
      "_view_module_version": "1.5.0",
      "_view_name": "ProgressView",
      "bar_style": "success",
      "description": "100.00%",
      "description_tooltip": null,
      "layout": "IPY_MODEL_5d1ed6508c9742e7b24b329a59a6b772",
      "max": 4609,
      "min": 0,
      "orientation": "horizontal",
      "style": "IPY_MODEL_1b2fa078e7444fc794d5f1cb8657d3fd",
      "value": 4609
     }
    },
    "2ce2036fa8804f10955584378071d843": {
     "model_module": "@jupyter-widgets/base",
     "model_module_version": "1.2.0",
     "model_name": "LayoutModel",
     "state": {
      "_model_module": "@jupyter-widgets/base",
      "_model_module_version": "1.2.0",
      "_model_name": "LayoutModel",
      "_view_count": null,
      "_view_module": "@jupyter-widgets/base",
      "_view_module_version": "1.2.0",
      "_view_name": "LayoutView",
      "align_content": null,
      "align_items": null,
      "align_self": null,
      "border": null,
      "bottom": null,
      "display": null,
      "flex": null,
      "flex_flow": null,
      "grid_area": null,
      "grid_auto_columns": null,
      "grid_auto_flow": null,
      "grid_auto_rows": null,
      "grid_column": null,
      "grid_gap": null,
      "grid_row": null,
      "grid_template_areas": null,
      "grid_template_columns": null,
      "grid_template_rows": null,
      "height": null,
      "justify_content": null,
      "justify_items": null,
      "left": null,
      "margin": null,
      "max_height": null,
      "max_width": null,
      "min_height": null,
      "min_width": null,
      "object_fit": null,
      "object_position": null,
      "order": null,
      "overflow": null,
      "overflow_x": null,
      "overflow_y": null,
      "padding": null,
      "right": null,
      "top": null,
      "visibility": null,
      "width": null
     }
    },
    "2cf02c9430eb496e8757b2b7b3cdc7fc": {
     "model_module": "@jupyter-widgets/controls",
     "model_module_version": "1.5.0",
     "model_name": "ProgressStyleModel",
     "state": {
      "_model_module": "@jupyter-widgets/controls",
      "_model_module_version": "1.5.0",
      "_model_name": "ProgressStyleModel",
      "_view_count": null,
      "_view_module": "@jupyter-widgets/base",
      "_view_module_version": "1.2.0",
      "_view_name": "StyleView",
      "bar_color": null,
      "description_width": ""
     }
    },
    "30094e6c151543f5b38eaf354c6cf519": {
     "model_module": "@jupyter-widgets/base",
     "model_module_version": "1.2.0",
     "model_name": "LayoutModel",
     "state": {
      "_model_module": "@jupyter-widgets/base",
      "_model_module_version": "1.2.0",
      "_model_name": "LayoutModel",
      "_view_count": null,
      "_view_module": "@jupyter-widgets/base",
      "_view_module_version": "1.2.0",
      "_view_name": "LayoutView",
      "align_content": null,
      "align_items": null,
      "align_self": null,
      "border": null,
      "bottom": null,
      "display": null,
      "flex": null,
      "flex_flow": null,
      "grid_area": null,
      "grid_auto_columns": null,
      "grid_auto_flow": null,
      "grid_auto_rows": null,
      "grid_column": null,
      "grid_gap": null,
      "grid_row": null,
      "grid_template_areas": null,
      "grid_template_columns": null,
      "grid_template_rows": null,
      "height": null,
      "justify_content": null,
      "justify_items": null,
      "left": null,
      "margin": null,
      "max_height": null,
      "max_width": null,
      "min_height": null,
      "min_width": null,
      "object_fit": null,
      "object_position": null,
      "order": null,
      "overflow": null,
      "overflow_x": null,
      "overflow_y": null,
      "padding": null,
      "right": null,
      "top": null,
      "visibility": null,
      "width": null
     }
    },
    "3745e51c2c3e4d1e8aa9c3477eab9fd2": {
     "model_module": "@jupyter-widgets/base",
     "model_module_version": "1.2.0",
     "model_name": "LayoutModel",
     "state": {
      "_model_module": "@jupyter-widgets/base",
      "_model_module_version": "1.2.0",
      "_model_name": "LayoutModel",
      "_view_count": null,
      "_view_module": "@jupyter-widgets/base",
      "_view_module_version": "1.2.0",
      "_view_name": "LayoutView",
      "align_content": null,
      "align_items": null,
      "align_self": null,
      "border": null,
      "bottom": null,
      "display": null,
      "flex": null,
      "flex_flow": null,
      "grid_area": null,
      "grid_auto_columns": null,
      "grid_auto_flow": null,
      "grid_auto_rows": null,
      "grid_column": null,
      "grid_gap": null,
      "grid_row": null,
      "grid_template_areas": null,
      "grid_template_columns": null,
      "grid_template_rows": null,
      "height": null,
      "justify_content": null,
      "justify_items": null,
      "left": null,
      "margin": null,
      "max_height": null,
      "max_width": null,
      "min_height": null,
      "min_width": null,
      "object_fit": null,
      "object_position": null,
      "order": null,
      "overflow": null,
      "overflow_x": null,
      "overflow_y": null,
      "padding": null,
      "right": null,
      "top": null,
      "visibility": null,
      "width": null
     }
    },
    "38351e0952b842c9a95984fdeb294727": {
     "model_module": "@jupyter-widgets/controls",
     "model_module_version": "1.5.0",
     "model_name": "DescriptionStyleModel",
     "state": {
      "_model_module": "@jupyter-widgets/controls",
      "_model_module_version": "1.5.0",
      "_model_name": "DescriptionStyleModel",
      "_view_count": null,
      "_view_module": "@jupyter-widgets/base",
      "_view_module_version": "1.2.0",
      "_view_name": "StyleView",
      "description_width": ""
     }
    },
    "38ae1f26cec348138b254865c9a7f89a": {
     "model_module": "@jupyter-widgets/base",
     "model_module_version": "1.2.0",
     "model_name": "LayoutModel",
     "state": {
      "_model_module": "@jupyter-widgets/base",
      "_model_module_version": "1.2.0",
      "_model_name": "LayoutModel",
      "_view_count": null,
      "_view_module": "@jupyter-widgets/base",
      "_view_module_version": "1.2.0",
      "_view_name": "LayoutView",
      "align_content": null,
      "align_items": null,
      "align_self": null,
      "border": null,
      "bottom": null,
      "display": null,
      "flex": null,
      "flex_flow": null,
      "grid_area": null,
      "grid_auto_columns": null,
      "grid_auto_flow": null,
      "grid_auto_rows": null,
      "grid_column": null,
      "grid_gap": null,
      "grid_row": null,
      "grid_template_areas": null,
      "grid_template_columns": null,
      "grid_template_rows": null,
      "height": null,
      "justify_content": null,
      "justify_items": null,
      "left": null,
      "margin": null,
      "max_height": null,
      "max_width": null,
      "min_height": null,
      "min_width": null,
      "object_fit": null,
      "object_position": null,
      "order": null,
      "overflow": null,
      "overflow_x": null,
      "overflow_y": null,
      "padding": null,
      "right": null,
      "top": null,
      "visibility": null,
      "width": null
     }
    },
    "391e10a8a250417580260ecf8e334b9d": {
     "model_module": "@jupyter-widgets/base",
     "model_module_version": "1.2.0",
     "model_name": "LayoutModel",
     "state": {
      "_model_module": "@jupyter-widgets/base",
      "_model_module_version": "1.2.0",
      "_model_name": "LayoutModel",
      "_view_count": null,
      "_view_module": "@jupyter-widgets/base",
      "_view_module_version": "1.2.0",
      "_view_name": "LayoutView",
      "align_content": null,
      "align_items": null,
      "align_self": null,
      "border": null,
      "bottom": null,
      "display": null,
      "flex": null,
      "flex_flow": null,
      "grid_area": null,
      "grid_auto_columns": null,
      "grid_auto_flow": null,
      "grid_auto_rows": null,
      "grid_column": null,
      "grid_gap": null,
      "grid_row": null,
      "grid_template_areas": null,
      "grid_template_columns": null,
      "grid_template_rows": null,
      "height": null,
      "justify_content": null,
      "justify_items": null,
      "left": null,
      "margin": null,
      "max_height": null,
      "max_width": null,
      "min_height": null,
      "min_width": null,
      "object_fit": null,
      "object_position": null,
      "order": null,
      "overflow": null,
      "overflow_x": null,
      "overflow_y": null,
      "padding": null,
      "right": null,
      "top": null,
      "visibility": null,
      "width": null
     }
    },
    "39faeacf816b414cbadd24f1471df479": {
     "model_module": "@jupyter-widgets/controls",
     "model_module_version": "1.5.0",
     "model_name": "DescriptionStyleModel",
     "state": {
      "_model_module": "@jupyter-widgets/controls",
      "_model_module_version": "1.5.0",
      "_model_name": "DescriptionStyleModel",
      "_view_count": null,
      "_view_module": "@jupyter-widgets/base",
      "_view_module_version": "1.2.0",
      "_view_name": "StyleView",
      "description_width": ""
     }
    },
    "3ad6188f0681404f9acf738635737801": {
     "model_module": "@jupyter-widgets/controls",
     "model_module_version": "1.5.0",
     "model_name": "IntProgressModel",
     "state": {
      "_dom_classes": [],
      "_model_module": "@jupyter-widgets/controls",
      "_model_module_version": "1.5.0",
      "_model_name": "IntProgressModel",
      "_view_count": null,
      "_view_module": "@jupyter-widgets/controls",
      "_view_module_version": "1.5.0",
      "_view_name": "ProgressView",
      "bar_style": "success",
      "description": "100.00%",
      "description_tooltip": null,
      "layout": "IPY_MODEL_aea52e7bda2248adae4e144d9c3704a8",
      "max": 4609,
      "min": 0,
      "orientation": "horizontal",
      "style": "IPY_MODEL_ba759d88422742619d89002c248d82c4",
      "value": 4609
     }
    },
    "3d923fd44cf74f5e84c33a3604f68a02": {
     "model_module": "@jupyter-widgets/controls",
     "model_module_version": "1.5.0",
     "model_name": "IntProgressModel",
     "state": {
      "_dom_classes": [],
      "_model_module": "@jupyter-widgets/controls",
      "_model_module_version": "1.5.0",
      "_model_name": "IntProgressModel",
      "_view_count": null,
      "_view_module": "@jupyter-widgets/controls",
      "_view_module_version": "1.5.0",
      "_view_name": "ProgressView",
      "bar_style": "success",
      "description": "100.00%",
      "description_tooltip": null,
      "layout": "IPY_MODEL_007ecd4f1eb44455a89155c9d7765d72",
      "max": 4609,
      "min": 0,
      "orientation": "horizontal",
      "style": "IPY_MODEL_f728d31be12141169d592e223a836342",
      "value": 4609
     }
    },
    "42bfb9d5d1fd4b4e8921d56163e2d5c2": {
     "model_module": "@jupyter-widgets/controls",
     "model_module_version": "1.5.0",
     "model_name": "HBoxModel",
     "state": {
      "_dom_classes": [],
      "_model_module": "@jupyter-widgets/controls",
      "_model_module_version": "1.5.0",
      "_model_name": "HBoxModel",
      "_view_count": null,
      "_view_module": "@jupyter-widgets/controls",
      "_view_module_version": "1.5.0",
      "_view_name": "HBoxView",
      "box_style": "",
      "children": [
       "IPY_MODEL_a7588db00a8d42218feda66ef6c41936",
       "IPY_MODEL_9cb8efc19af14b98b2cdbe7801347d94"
      ],
      "layout": "IPY_MODEL_4ff756686f7d47b1b8be8e648ec3a352"
     }
    },
    "435b38ad4eb74811b9b9ae7e794e849e": {
     "model_module": "@jupyter-widgets/controls",
     "model_module_version": "1.5.0",
     "model_name": "LabelModel",
     "state": {
      "_dom_classes": [],
      "_model_module": "@jupyter-widgets/controls",
      "_model_module_version": "1.5.0",
      "_model_name": "LabelModel",
      "_view_count": null,
      "_view_module": "@jupyter-widgets/controls",
      "_view_module_version": "1.5.0",
      "_view_name": "LabelView",
      "description": "",
      "description_tooltip": null,
      "layout": "IPY_MODEL_4e148ff4cf8a4ffa96b26a69afdcdd07",
      "placeholder": "​",
      "style": "IPY_MODEL_39faeacf816b414cbadd24f1471df479",
      "value": "4609 / 4609"
     }
    },
    "4371afeb05d0409597af170dbc24f0ba": {
     "model_module": "@jupyter-widgets/controls",
     "model_module_version": "1.5.0",
     "model_name": "DescriptionStyleModel",
     "state": {
      "_model_module": "@jupyter-widgets/controls",
      "_model_module_version": "1.5.0",
      "_model_name": "DescriptionStyleModel",
      "_view_count": null,
      "_view_module": "@jupyter-widgets/base",
      "_view_module_version": "1.2.0",
      "_view_name": "StyleView",
      "description_width": ""
     }
    },
    "43d0e29789d34642a626f315f1a369cc": {
     "model_module": "@jupyter-widgets/controls",
     "model_module_version": "1.5.0",
     "model_name": "ProgressStyleModel",
     "state": {
      "_model_module": "@jupyter-widgets/controls",
      "_model_module_version": "1.5.0",
      "_model_name": "ProgressStyleModel",
      "_view_count": null,
      "_view_module": "@jupyter-widgets/base",
      "_view_module_version": "1.2.0",
      "_view_name": "StyleView",
      "bar_color": null,
      "description_width": ""
     }
    },
    "44dd419b3e394133b0938e155cb0bf45": {
     "model_module": "@jupyter-widgets/controls",
     "model_module_version": "1.5.0",
     "model_name": "HBoxModel",
     "state": {
      "_dom_classes": [],
      "_model_module": "@jupyter-widgets/controls",
      "_model_module_version": "1.5.0",
      "_model_name": "HBoxModel",
      "_view_count": null,
      "_view_module": "@jupyter-widgets/controls",
      "_view_module_version": "1.5.0",
      "_view_name": "HBoxView",
      "box_style": "",
      "children": [
       "IPY_MODEL_9cabf4a34df34928a3a4d89b221b9430",
       "IPY_MODEL_7c54bdae22e847bbbe980784d684b614"
      ],
      "layout": "IPY_MODEL_2ce2036fa8804f10955584378071d843"
     }
    },
    "453e9b7235ea4841bb2b4e38527c98b9": {
     "model_module": "@jupyter-widgets/controls",
     "model_module_version": "1.5.0",
     "model_name": "HBoxModel",
     "state": {
      "_dom_classes": [],
      "_model_module": "@jupyter-widgets/controls",
      "_model_module_version": "1.5.0",
      "_model_name": "HBoxModel",
      "_view_count": null,
      "_view_module": "@jupyter-widgets/controls",
      "_view_module_version": "1.5.0",
      "_view_name": "HBoxView",
      "box_style": "",
      "children": [
       "IPY_MODEL_c238a8d2c95747ebac532473a434f682",
       "IPY_MODEL_951aa8920433474885f06430cd6233f2"
      ],
      "layout": "IPY_MODEL_a4ca1f5d3da343cda76e8ff1a2b863db"
     }
    },
    "4831041584ad48c087eec98f887631f2": {
     "model_module": "@jupyter-widgets/base",
     "model_module_version": "1.2.0",
     "model_name": "LayoutModel",
     "state": {
      "_model_module": "@jupyter-widgets/base",
      "_model_module_version": "1.2.0",
      "_model_name": "LayoutModel",
      "_view_count": null,
      "_view_module": "@jupyter-widgets/base",
      "_view_module_version": "1.2.0",
      "_view_name": "LayoutView",
      "align_content": null,
      "align_items": null,
      "align_self": null,
      "border": null,
      "bottom": null,
      "display": null,
      "flex": null,
      "flex_flow": null,
      "grid_area": null,
      "grid_auto_columns": null,
      "grid_auto_flow": null,
      "grid_auto_rows": null,
      "grid_column": null,
      "grid_gap": null,
      "grid_row": null,
      "grid_template_areas": null,
      "grid_template_columns": null,
      "grid_template_rows": null,
      "height": null,
      "justify_content": null,
      "justify_items": null,
      "left": null,
      "margin": null,
      "max_height": null,
      "max_width": null,
      "min_height": null,
      "min_width": null,
      "object_fit": null,
      "object_position": null,
      "order": null,
      "overflow": null,
      "overflow_x": null,
      "overflow_y": null,
      "padding": null,
      "right": null,
      "top": null,
      "visibility": null,
      "width": null
     }
    },
    "4a8e484da4ad422fa05afc53a07c9716": {
     "model_module": "@jupyter-widgets/controls",
     "model_module_version": "1.5.0",
     "model_name": "LabelModel",
     "state": {
      "_dom_classes": [],
      "_model_module": "@jupyter-widgets/controls",
      "_model_module_version": "1.5.0",
      "_model_name": "LabelModel",
      "_view_count": null,
      "_view_module": "@jupyter-widgets/controls",
      "_view_module_version": "1.5.0",
      "_view_name": "LabelView",
      "description": "",
      "description_tooltip": null,
      "layout": "IPY_MODEL_b305f14fe7b74a4bbfc9bd6d8d5f9617",
      "placeholder": "​",
      "style": "IPY_MODEL_210a9385e5e149b7b8ad4e6cbd12f4fa",
      "value": "4608 / 4608"
     }
    },
    "4a921fe5c5f94a54ac48a14be24bdbcc": {
     "model_module": "@jupyter-widgets/controls",
     "model_module_version": "1.5.0",
     "model_name": "ProgressStyleModel",
     "state": {
      "_model_module": "@jupyter-widgets/controls",
      "_model_module_version": "1.5.0",
      "_model_name": "ProgressStyleModel",
      "_view_count": null,
      "_view_module": "@jupyter-widgets/base",
      "_view_module_version": "1.2.0",
      "_view_name": "StyleView",
      "bar_color": null,
      "description_width": ""
     }
    },
    "4c1c8a30a9b54b75a9dfce5d60fabe01": {
     "model_module": "@jupyter-widgets/controls",
     "model_module_version": "1.5.0",
     "model_name": "LabelModel",
     "state": {
      "_dom_classes": [],
      "_model_module": "@jupyter-widgets/controls",
      "_model_module_version": "1.5.0",
      "_model_name": "LabelModel",
      "_view_count": null,
      "_view_module": "@jupyter-widgets/controls",
      "_view_module_version": "1.5.0",
      "_view_name": "LabelView",
      "description": "",
      "description_tooltip": null,
      "layout": "IPY_MODEL_8ce8bb31eee14eeab6da555f4bcd5ee0",
      "placeholder": "​",
      "style": "IPY_MODEL_db5a0fce0d6e4d23ba7fcf775efc1c97",
      "value": "4609 / 4609"
     }
    },
    "4d24762275de45dabb232fde4c68015a": {
     "model_module": "@jupyter-widgets/controls",
     "model_module_version": "1.5.0",
     "model_name": "DescriptionStyleModel",
     "state": {
      "_model_module": "@jupyter-widgets/controls",
      "_model_module_version": "1.5.0",
      "_model_name": "DescriptionStyleModel",
      "_view_count": null,
      "_view_module": "@jupyter-widgets/base",
      "_view_module_version": "1.2.0",
      "_view_name": "StyleView",
      "description_width": ""
     }
    },
    "4e148ff4cf8a4ffa96b26a69afdcdd07": {
     "model_module": "@jupyter-widgets/base",
     "model_module_version": "1.2.0",
     "model_name": "LayoutModel",
     "state": {
      "_model_module": "@jupyter-widgets/base",
      "_model_module_version": "1.2.0",
      "_model_name": "LayoutModel",
      "_view_count": null,
      "_view_module": "@jupyter-widgets/base",
      "_view_module_version": "1.2.0",
      "_view_name": "LayoutView",
      "align_content": null,
      "align_items": null,
      "align_self": null,
      "border": null,
      "bottom": null,
      "display": null,
      "flex": null,
      "flex_flow": null,
      "grid_area": null,
      "grid_auto_columns": null,
      "grid_auto_flow": null,
      "grid_auto_rows": null,
      "grid_column": null,
      "grid_gap": null,
      "grid_row": null,
      "grid_template_areas": null,
      "grid_template_columns": null,
      "grid_template_rows": null,
      "height": null,
      "justify_content": null,
      "justify_items": null,
      "left": null,
      "margin": null,
      "max_height": null,
      "max_width": null,
      "min_height": null,
      "min_width": null,
      "object_fit": null,
      "object_position": null,
      "order": null,
      "overflow": null,
      "overflow_x": null,
      "overflow_y": null,
      "padding": null,
      "right": null,
      "top": null,
      "visibility": null,
      "width": null
     }
    },
    "4e176d2bd7444a29a0d22f3ff6791f6b": {
     "model_module": "@jupyter-widgets/controls",
     "model_module_version": "1.5.0",
     "model_name": "HBoxModel",
     "state": {
      "_dom_classes": [],
      "_model_module": "@jupyter-widgets/controls",
      "_model_module_version": "1.5.0",
      "_model_name": "HBoxModel",
      "_view_count": null,
      "_view_module": "@jupyter-widgets/controls",
      "_view_module_version": "1.5.0",
      "_view_name": "HBoxView",
      "box_style": "",
      "children": [
       "IPY_MODEL_ab5786a65a3c4a98828837b0ccf7c8f2",
       "IPY_MODEL_ca2235879b224f7683013a793767bffa"
      ],
      "layout": "IPY_MODEL_cf072af75e0045fb8630f22432a73478"
     }
    },
    "4ff378c7a5714130a5fbe99c0216c1d4": {
     "model_module": "@jupyter-widgets/controls",
     "model_module_version": "1.5.0",
     "model_name": "HTMLModel",
     "state": {
      "_dom_classes": [],
      "_model_module": "@jupyter-widgets/controls",
      "_model_module_version": "1.5.0",
      "_model_name": "HTMLModel",
      "_view_count": null,
      "_view_module": "@jupyter-widgets/controls",
      "_view_module_version": "1.5.0",
      "_view_name": "HTMLView",
      "description": "",
      "description_tooltip": null,
      "layout": "IPY_MODEL_1eed646de3014c2bb6d8f95c3241d1a7",
      "placeholder": "​",
      "style": "IPY_MODEL_9d95838ae929488d93472f70c26cf9fb",
      "value": "100%"
     }
    },
    "4ff756686f7d47b1b8be8e648ec3a352": {
     "model_module": "@jupyter-widgets/base",
     "model_module_version": "1.2.0",
     "model_name": "LayoutModel",
     "state": {
      "_model_module": "@jupyter-widgets/base",
      "_model_module_version": "1.2.0",
      "_model_name": "LayoutModel",
      "_view_count": null,
      "_view_module": "@jupyter-widgets/base",
      "_view_module_version": "1.2.0",
      "_view_name": "LayoutView",
      "align_content": null,
      "align_items": null,
      "align_self": null,
      "border": null,
      "bottom": null,
      "display": null,
      "flex": null,
      "flex_flow": null,
      "grid_area": null,
      "grid_auto_columns": null,
      "grid_auto_flow": null,
      "grid_auto_rows": null,
      "grid_column": null,
      "grid_gap": null,
      "grid_row": null,
      "grid_template_areas": null,
      "grid_template_columns": null,
      "grid_template_rows": null,
      "height": null,
      "justify_content": null,
      "justify_items": null,
      "left": null,
      "margin": null,
      "max_height": null,
      "max_width": null,
      "min_height": null,
      "min_width": null,
      "object_fit": null,
      "object_position": null,
      "order": null,
      "overflow": null,
      "overflow_x": null,
      "overflow_y": null,
      "padding": null,
      "right": null,
      "top": null,
      "visibility": null,
      "width": null
     }
    },
    "50c6087bf555424cb22b4a5bb18659a6": {
     "model_module": "@jupyter-widgets/base",
     "model_module_version": "1.2.0",
     "model_name": "LayoutModel",
     "state": {
      "_model_module": "@jupyter-widgets/base",
      "_model_module_version": "1.2.0",
      "_model_name": "LayoutModel",
      "_view_count": null,
      "_view_module": "@jupyter-widgets/base",
      "_view_module_version": "1.2.0",
      "_view_name": "LayoutView",
      "align_content": null,
      "align_items": null,
      "align_self": null,
      "border": null,
      "bottom": null,
      "display": null,
      "flex": null,
      "flex_flow": null,
      "grid_area": null,
      "grid_auto_columns": null,
      "grid_auto_flow": null,
      "grid_auto_rows": null,
      "grid_column": null,
      "grid_gap": null,
      "grid_row": null,
      "grid_template_areas": null,
      "grid_template_columns": null,
      "grid_template_rows": null,
      "height": null,
      "justify_content": null,
      "justify_items": null,
      "left": null,
      "margin": null,
      "max_height": null,
      "max_width": null,
      "min_height": null,
      "min_width": null,
      "object_fit": null,
      "object_position": null,
      "order": null,
      "overflow": null,
      "overflow_x": null,
      "overflow_y": null,
      "padding": null,
      "right": null,
      "top": null,
      "visibility": null,
      "width": null
     }
    },
    "514f07ca386a41b5b58f3c7ad5dfd3b2": {
     "model_module": "@jupyter-widgets/controls",
     "model_module_version": "1.5.0",
     "model_name": "HBoxModel",
     "state": {
      "_dom_classes": [],
      "_model_module": "@jupyter-widgets/controls",
      "_model_module_version": "1.5.0",
      "_model_name": "HBoxModel",
      "_view_count": null,
      "_view_module": "@jupyter-widgets/controls",
      "_view_module_version": "1.5.0",
      "_view_name": "HBoxView",
      "box_style": "",
      "children": [
       "IPY_MODEL_bfb6e16e5a284858abfa38c0fbfd4179",
       "IPY_MODEL_afd3abcaa44947149cd5f3b3e23095de"
      ],
      "layout": "IPY_MODEL_c8165e44f17a4e579276987a201f6167"
     }
    },
    "5339c1b712cf4127b0c5496a1367b3a4": {
     "model_module": "@jupyter-widgets/controls",
     "model_module_version": "1.5.0",
     "model_name": "HBoxModel",
     "state": {
      "_dom_classes": [],
      "_model_module": "@jupyter-widgets/controls",
      "_model_module_version": "1.5.0",
      "_model_name": "HBoxModel",
      "_view_count": null,
      "_view_module": "@jupyter-widgets/controls",
      "_view_module_version": "1.5.0",
      "_view_name": "HBoxView",
      "box_style": "",
      "children": [
       "IPY_MODEL_74f7ae22fcd141e195683d3ea1140230",
       "IPY_MODEL_435b38ad4eb74811b9b9ae7e794e849e"
      ],
      "layout": "IPY_MODEL_7980d30a4016474e8cb2e4e1f751db5d"
     }
    },
    "53400d407a464b6eab7430930cf40d0c": {
     "model_module": "@jupyter-widgets/base",
     "model_module_version": "1.2.0",
     "model_name": "LayoutModel",
     "state": {
      "_model_module": "@jupyter-widgets/base",
      "_model_module_version": "1.2.0",
      "_model_name": "LayoutModel",
      "_view_count": null,
      "_view_module": "@jupyter-widgets/base",
      "_view_module_version": "1.2.0",
      "_view_name": "LayoutView",
      "align_content": null,
      "align_items": null,
      "align_self": null,
      "border": null,
      "bottom": null,
      "display": null,
      "flex": null,
      "flex_flow": null,
      "grid_area": null,
      "grid_auto_columns": null,
      "grid_auto_flow": null,
      "grid_auto_rows": null,
      "grid_column": null,
      "grid_gap": null,
      "grid_row": null,
      "grid_template_areas": null,
      "grid_template_columns": null,
      "grid_template_rows": null,
      "height": null,
      "justify_content": null,
      "justify_items": null,
      "left": null,
      "margin": null,
      "max_height": null,
      "max_width": null,
      "min_height": null,
      "min_width": null,
      "object_fit": null,
      "object_position": null,
      "order": null,
      "overflow": null,
      "overflow_x": null,
      "overflow_y": null,
      "padding": null,
      "right": null,
      "top": null,
      "visibility": null,
      "width": null
     }
    },
    "5a75faabd7474e4c85f002b43af755c4": {
     "model_module": "@jupyter-widgets/controls",
     "model_module_version": "1.5.0",
     "model_name": "IntProgressModel",
     "state": {
      "_dom_classes": [],
      "_model_module": "@jupyter-widgets/controls",
      "_model_module_version": "1.5.0",
      "_model_name": "IntProgressModel",
      "_view_count": null,
      "_view_module": "@jupyter-widgets/controls",
      "_view_module_version": "1.5.0",
      "_view_name": "ProgressView",
      "bar_style": "success",
      "description": "100.00%",
      "description_tooltip": null,
      "layout": "IPY_MODEL_e7d87581bf0c49e0ab424e4d4fe57329",
      "max": 4608,
      "min": 0,
      "orientation": "horizontal",
      "style": "IPY_MODEL_d5348b89a17e4c268bf8b6c595a7e93a",
      "value": 4608
     }
    },
    "5bf9eaaf66a848b09f7b617c22cca955": {
     "model_module": "@jupyter-widgets/controls",
     "model_module_version": "1.5.0",
     "model_name": "LabelModel",
     "state": {
      "_dom_classes": [],
      "_model_module": "@jupyter-widgets/controls",
      "_model_module_version": "1.5.0",
      "_model_name": "LabelModel",
      "_view_count": null,
      "_view_module": "@jupyter-widgets/controls",
      "_view_module_version": "1.5.0",
      "_view_name": "LabelView",
      "description": "",
      "description_tooltip": null,
      "layout": "IPY_MODEL_16e01eac2fc94fa7afef8e55ebdcae63",
      "placeholder": "​",
      "style": "IPY_MODEL_a0dfbe8650764549937f229eb8d953ed",
      "value": "4609 / 4609"
     }
    },
    "5c6a117f13c543d18ddfeee5501cdf4d": {
     "model_module": "@jupyter-widgets/controls",
     "model_module_version": "1.5.0",
     "model_name": "DescriptionStyleModel",
     "state": {
      "_model_module": "@jupyter-widgets/controls",
      "_model_module_version": "1.5.0",
      "_model_name": "DescriptionStyleModel",
      "_view_count": null,
      "_view_module": "@jupyter-widgets/base",
      "_view_module_version": "1.2.0",
      "_view_name": "StyleView",
      "description_width": ""
     }
    },
    "5d1ed6508c9742e7b24b329a59a6b772": {
     "model_module": "@jupyter-widgets/base",
     "model_module_version": "1.2.0",
     "model_name": "LayoutModel",
     "state": {
      "_model_module": "@jupyter-widgets/base",
      "_model_module_version": "1.2.0",
      "_model_name": "LayoutModel",
      "_view_count": null,
      "_view_module": "@jupyter-widgets/base",
      "_view_module_version": "1.2.0",
      "_view_name": "LayoutView",
      "align_content": null,
      "align_items": null,
      "align_self": null,
      "border": null,
      "bottom": null,
      "display": null,
      "flex": null,
      "flex_flow": null,
      "grid_area": null,
      "grid_auto_columns": null,
      "grid_auto_flow": null,
      "grid_auto_rows": null,
      "grid_column": null,
      "grid_gap": null,
      "grid_row": null,
      "grid_template_areas": null,
      "grid_template_columns": null,
      "grid_template_rows": null,
      "height": null,
      "justify_content": null,
      "justify_items": null,
      "left": null,
      "margin": null,
      "max_height": null,
      "max_width": null,
      "min_height": null,
      "min_width": null,
      "object_fit": null,
      "object_position": null,
      "order": null,
      "overflow": null,
      "overflow_x": null,
      "overflow_y": null,
      "padding": null,
      "right": null,
      "top": null,
      "visibility": null,
      "width": null
     }
    },
    "5e5cb6e21c04413aa6ce0c0c6ca56711": {
     "model_module": "@jupyter-widgets/controls",
     "model_module_version": "1.5.0",
     "model_name": "DescriptionStyleModel",
     "state": {
      "_model_module": "@jupyter-widgets/controls",
      "_model_module_version": "1.5.0",
      "_model_name": "DescriptionStyleModel",
      "_view_count": null,
      "_view_module": "@jupyter-widgets/base",
      "_view_module_version": "1.2.0",
      "_view_name": "StyleView",
      "description_width": ""
     }
    },
    "62729a6625ec48cfafd9b2939ae7d9f2": {
     "model_module": "@jupyter-widgets/controls",
     "model_module_version": "1.5.0",
     "model_name": "ProgressStyleModel",
     "state": {
      "_model_module": "@jupyter-widgets/controls",
      "_model_module_version": "1.5.0",
      "_model_name": "ProgressStyleModel",
      "_view_count": null,
      "_view_module": "@jupyter-widgets/base",
      "_view_module_version": "1.2.0",
      "_view_name": "StyleView",
      "bar_color": null,
      "description_width": ""
     }
    },
    "6715c2e2b6f54f05af20cc99e2bf560f": {
     "model_module": "@jupyter-widgets/base",
     "model_module_version": "1.2.0",
     "model_name": "LayoutModel",
     "state": {
      "_model_module": "@jupyter-widgets/base",
      "_model_module_version": "1.2.0",
      "_model_name": "LayoutModel",
      "_view_count": null,
      "_view_module": "@jupyter-widgets/base",
      "_view_module_version": "1.2.0",
      "_view_name": "LayoutView",
      "align_content": null,
      "align_items": null,
      "align_self": null,
      "border": null,
      "bottom": null,
      "display": null,
      "flex": null,
      "flex_flow": null,
      "grid_area": null,
      "grid_auto_columns": null,
      "grid_auto_flow": null,
      "grid_auto_rows": null,
      "grid_column": null,
      "grid_gap": null,
      "grid_row": null,
      "grid_template_areas": null,
      "grid_template_columns": null,
      "grid_template_rows": null,
      "height": null,
      "justify_content": null,
      "justify_items": null,
      "left": null,
      "margin": null,
      "max_height": null,
      "max_width": null,
      "min_height": null,
      "min_width": null,
      "object_fit": null,
      "object_position": null,
      "order": null,
      "overflow": null,
      "overflow_x": null,
      "overflow_y": null,
      "padding": null,
      "right": null,
      "top": null,
      "visibility": null,
      "width": null
     }
    },
    "6ad78e51deb0493bbcccd69d524672c5": {
     "model_module": "@jupyter-widgets/controls",
     "model_module_version": "1.5.0",
     "model_name": "DescriptionStyleModel",
     "state": {
      "_model_module": "@jupyter-widgets/controls",
      "_model_module_version": "1.5.0",
      "_model_name": "DescriptionStyleModel",
      "_view_count": null,
      "_view_module": "@jupyter-widgets/base",
      "_view_module_version": "1.2.0",
      "_view_name": "StyleView",
      "description_width": ""
     }
    },
    "6bbbecffa3d44a448579c96fbec429ad": {
     "model_module": "@jupyter-widgets/controls",
     "model_module_version": "1.5.0",
     "model_name": "HBoxModel",
     "state": {
      "_dom_classes": [],
      "_model_module": "@jupyter-widgets/controls",
      "_model_module_version": "1.5.0",
      "_model_name": "HBoxModel",
      "_view_count": null,
      "_view_module": "@jupyter-widgets/controls",
      "_view_module_version": "1.5.0",
      "_view_name": "HBoxView",
      "box_style": "",
      "children": [
       "IPY_MODEL_2b613130eb184519a85a630edaa0d3bf",
       "IPY_MODEL_8045fe4d66604c3ab062de6f4cc8de95"
      ],
      "layout": "IPY_MODEL_f3947e5a5ad84ceb87cb75e3c537cbdc"
     }
    },
    "6e2911a21f8a4a88b07705128381bb72": {
     "model_module": "@jupyter-widgets/base",
     "model_module_version": "1.2.0",
     "model_name": "LayoutModel",
     "state": {
      "_model_module": "@jupyter-widgets/base",
      "_model_module_version": "1.2.0",
      "_model_name": "LayoutModel",
      "_view_count": null,
      "_view_module": "@jupyter-widgets/base",
      "_view_module_version": "1.2.0",
      "_view_name": "LayoutView",
      "align_content": null,
      "align_items": null,
      "align_self": null,
      "border": null,
      "bottom": null,
      "display": null,
      "flex": null,
      "flex_flow": null,
      "grid_area": null,
      "grid_auto_columns": null,
      "grid_auto_flow": null,
      "grid_auto_rows": null,
      "grid_column": null,
      "grid_gap": null,
      "grid_row": null,
      "grid_template_areas": null,
      "grid_template_columns": null,
      "grid_template_rows": null,
      "height": null,
      "justify_content": null,
      "justify_items": null,
      "left": null,
      "margin": null,
      "max_height": null,
      "max_width": null,
      "min_height": null,
      "min_width": null,
      "object_fit": null,
      "object_position": null,
      "order": null,
      "overflow": null,
      "overflow_x": null,
      "overflow_y": null,
      "padding": null,
      "right": null,
      "top": null,
      "visibility": null,
      "width": null
     }
    },
    "6e736078560640ce94da1558903a517c": {
     "model_module": "@jupyter-widgets/base",
     "model_module_version": "1.2.0",
     "model_name": "LayoutModel",
     "state": {
      "_model_module": "@jupyter-widgets/base",
      "_model_module_version": "1.2.0",
      "_model_name": "LayoutModel",
      "_view_count": null,
      "_view_module": "@jupyter-widgets/base",
      "_view_module_version": "1.2.0",
      "_view_name": "LayoutView",
      "align_content": null,
      "align_items": null,
      "align_self": null,
      "border": null,
      "bottom": null,
      "display": null,
      "flex": null,
      "flex_flow": null,
      "grid_area": null,
      "grid_auto_columns": null,
      "grid_auto_flow": null,
      "grid_auto_rows": null,
      "grid_column": null,
      "grid_gap": null,
      "grid_row": null,
      "grid_template_areas": null,
      "grid_template_columns": null,
      "grid_template_rows": null,
      "height": null,
      "justify_content": null,
      "justify_items": null,
      "left": null,
      "margin": null,
      "max_height": null,
      "max_width": null,
      "min_height": null,
      "min_width": null,
      "object_fit": null,
      "object_position": null,
      "order": null,
      "overflow": null,
      "overflow_x": null,
      "overflow_y": null,
      "padding": null,
      "right": null,
      "top": null,
      "visibility": null,
      "width": null
     }
    },
    "6ecd07e4f749492d915d0aaacb9558cf": {
     "model_module": "@jupyter-widgets/controls",
     "model_module_version": "1.5.0",
     "model_name": "HBoxModel",
     "state": {
      "_dom_classes": [],
      "_model_module": "@jupyter-widgets/controls",
      "_model_module_version": "1.5.0",
      "_model_name": "HBoxModel",
      "_view_count": null,
      "_view_module": "@jupyter-widgets/controls",
      "_view_module_version": "1.5.0",
      "_view_name": "HBoxView",
      "box_style": "",
      "children": [
       "IPY_MODEL_3d923fd44cf74f5e84c33a3604f68a02",
       "IPY_MODEL_7e7ec337cb6741dd9b65dc75a58c0d72"
      ],
      "layout": "IPY_MODEL_53400d407a464b6eab7430930cf40d0c"
     }
    },
    "6f2c906eb5d64fa6b1e2b911a4d0cd53": {
     "model_module": "@jupyter-widgets/base",
     "model_module_version": "1.2.0",
     "model_name": "LayoutModel",
     "state": {
      "_model_module": "@jupyter-widgets/base",
      "_model_module_version": "1.2.0",
      "_model_name": "LayoutModel",
      "_view_count": null,
      "_view_module": "@jupyter-widgets/base",
      "_view_module_version": "1.2.0",
      "_view_name": "LayoutView",
      "align_content": null,
      "align_items": null,
      "align_self": null,
      "border": null,
      "bottom": null,
      "display": null,
      "flex": null,
      "flex_flow": null,
      "grid_area": null,
      "grid_auto_columns": null,
      "grid_auto_flow": null,
      "grid_auto_rows": null,
      "grid_column": null,
      "grid_gap": null,
      "grid_row": null,
      "grid_template_areas": null,
      "grid_template_columns": null,
      "grid_template_rows": null,
      "height": null,
      "justify_content": null,
      "justify_items": null,
      "left": null,
      "margin": null,
      "max_height": null,
      "max_width": null,
      "min_height": null,
      "min_width": null,
      "object_fit": null,
      "object_position": null,
      "order": null,
      "overflow": null,
      "overflow_x": null,
      "overflow_y": null,
      "padding": null,
      "right": null,
      "top": null,
      "visibility": null,
      "width": null
     }
    },
    "6f2d84a53f3440da8a05586e60fae153": {
     "model_module": "@jupyter-widgets/base",
     "model_module_version": "1.2.0",
     "model_name": "LayoutModel",
     "state": {
      "_model_module": "@jupyter-widgets/base",
      "_model_module_version": "1.2.0",
      "_model_name": "LayoutModel",
      "_view_count": null,
      "_view_module": "@jupyter-widgets/base",
      "_view_module_version": "1.2.0",
      "_view_name": "LayoutView",
      "align_content": null,
      "align_items": null,
      "align_self": null,
      "border": null,
      "bottom": null,
      "display": null,
      "flex": null,
      "flex_flow": null,
      "grid_area": null,
      "grid_auto_columns": null,
      "grid_auto_flow": null,
      "grid_auto_rows": null,
      "grid_column": null,
      "grid_gap": null,
      "grid_row": null,
      "grid_template_areas": null,
      "grid_template_columns": null,
      "grid_template_rows": null,
      "height": null,
      "justify_content": null,
      "justify_items": null,
      "left": null,
      "margin": null,
      "max_height": null,
      "max_width": null,
      "min_height": null,
      "min_width": null,
      "object_fit": null,
      "object_position": null,
      "order": null,
      "overflow": null,
      "overflow_x": null,
      "overflow_y": null,
      "padding": null,
      "right": null,
      "top": null,
      "visibility": null,
      "width": null
     }
    },
    "744ac680a73b45be80c4d69008a21be2": {
     "model_module": "@jupyter-widgets/base",
     "model_module_version": "1.2.0",
     "model_name": "LayoutModel",
     "state": {
      "_model_module": "@jupyter-widgets/base",
      "_model_module_version": "1.2.0",
      "_model_name": "LayoutModel",
      "_view_count": null,
      "_view_module": "@jupyter-widgets/base",
      "_view_module_version": "1.2.0",
      "_view_name": "LayoutView",
      "align_content": null,
      "align_items": null,
      "align_self": null,
      "border": null,
      "bottom": null,
      "display": null,
      "flex": null,
      "flex_flow": null,
      "grid_area": null,
      "grid_auto_columns": null,
      "grid_auto_flow": null,
      "grid_auto_rows": null,
      "grid_column": null,
      "grid_gap": null,
      "grid_row": null,
      "grid_template_areas": null,
      "grid_template_columns": null,
      "grid_template_rows": null,
      "height": null,
      "justify_content": null,
      "justify_items": null,
      "left": null,
      "margin": null,
      "max_height": null,
      "max_width": null,
      "min_height": null,
      "min_width": null,
      "object_fit": null,
      "object_position": null,
      "order": null,
      "overflow": null,
      "overflow_x": null,
      "overflow_y": null,
      "padding": null,
      "right": null,
      "top": null,
      "visibility": null,
      "width": null
     }
    },
    "74f7ae22fcd141e195683d3ea1140230": {
     "model_module": "@jupyter-widgets/controls",
     "model_module_version": "1.5.0",
     "model_name": "IntProgressModel",
     "state": {
      "_dom_classes": [],
      "_model_module": "@jupyter-widgets/controls",
      "_model_module_version": "1.5.0",
      "_model_name": "IntProgressModel",
      "_view_count": null,
      "_view_module": "@jupyter-widgets/controls",
      "_view_module_version": "1.5.0",
      "_view_name": "ProgressView",
      "bar_style": "success",
      "description": "100.00%",
      "description_tooltip": null,
      "layout": "IPY_MODEL_a12e685317bf4152a555934d76bdbbed",
      "max": 4609,
      "min": 0,
      "orientation": "horizontal",
      "style": "IPY_MODEL_1b8a2b7da80240d891fe53c1ec317d96",
      "value": 4609
     }
    },
    "7581b1035b6d479296b0dc3877bbf3a6": {
     "model_module": "@jupyter-widgets/controls",
     "model_module_version": "1.5.0",
     "model_name": "HTMLModel",
     "state": {
      "_dom_classes": [],
      "_model_module": "@jupyter-widgets/controls",
      "_model_module_version": "1.5.0",
      "_model_name": "HTMLModel",
      "_view_count": null,
      "_view_module": "@jupyter-widgets/controls",
      "_view_module_version": "1.5.0",
      "_view_name": "HTMLView",
      "description": "",
      "description_tooltip": null,
      "layout": "IPY_MODEL_ec3d970d7bbd49a2bc51e2bd10c3da4b",
      "placeholder": "​",
      "style": "IPY_MODEL_18d40ba854674c818f77dccb72a3fa2b",
      "value": " 92177/92177 [00:00&lt;00:00, 155711.47it/s]"
     }
    },
    "7737c9c00c2240de9b766f36fbf3a331": {
     "model_module": "@jupyter-widgets/controls",
     "model_module_version": "1.5.0",
     "model_name": "ProgressStyleModel",
     "state": {
      "_model_module": "@jupyter-widgets/controls",
      "_model_module_version": "1.5.0",
      "_model_name": "ProgressStyleModel",
      "_view_count": null,
      "_view_module": "@jupyter-widgets/base",
      "_view_module_version": "1.2.0",
      "_view_name": "StyleView",
      "bar_color": null,
      "description_width": ""
     }
    },
    "77ddfc764cd14f598007305fd556060d": {
     "model_module": "@jupyter-widgets/base",
     "model_module_version": "1.2.0",
     "model_name": "LayoutModel",
     "state": {
      "_model_module": "@jupyter-widgets/base",
      "_model_module_version": "1.2.0",
      "_model_name": "LayoutModel",
      "_view_count": null,
      "_view_module": "@jupyter-widgets/base",
      "_view_module_version": "1.2.0",
      "_view_name": "LayoutView",
      "align_content": null,
      "align_items": null,
      "align_self": null,
      "border": null,
      "bottom": null,
      "display": null,
      "flex": null,
      "flex_flow": null,
      "grid_area": null,
      "grid_auto_columns": null,
      "grid_auto_flow": null,
      "grid_auto_rows": null,
      "grid_column": null,
      "grid_gap": null,
      "grid_row": null,
      "grid_template_areas": null,
      "grid_template_columns": null,
      "grid_template_rows": null,
      "height": null,
      "justify_content": null,
      "justify_items": null,
      "left": null,
      "margin": null,
      "max_height": null,
      "max_width": null,
      "min_height": null,
      "min_width": null,
      "object_fit": null,
      "object_position": null,
      "order": null,
      "overflow": null,
      "overflow_x": null,
      "overflow_y": null,
      "padding": null,
      "right": null,
      "top": null,
      "visibility": null,
      "width": null
     }
    },
    "78bf3fd29a3e4d0290aaa5c4e80b912a": {
     "model_module": "@jupyter-widgets/controls",
     "model_module_version": "1.5.0",
     "model_name": "LabelModel",
     "state": {
      "_dom_classes": [],
      "_model_module": "@jupyter-widgets/controls",
      "_model_module_version": "1.5.0",
      "_model_name": "LabelModel",
      "_view_count": null,
      "_view_module": "@jupyter-widgets/controls",
      "_view_module_version": "1.5.0",
      "_view_name": "LabelView",
      "description": "",
      "description_tooltip": null,
      "layout": "IPY_MODEL_f25af6eb4f7e4522a3e5e91a1e4408d9",
      "placeholder": "​",
      "style": "IPY_MODEL_cecabf3ba09c45eebea5e2e623af9127",
      "value": "4609 / 4609"
     }
    },
    "79760910658243eca48f42e6701c90d5": {
     "model_module": "@jupyter-widgets/controls",
     "model_module_version": "1.5.0",
     "model_name": "IntProgressModel",
     "state": {
      "_dom_classes": [],
      "_model_module": "@jupyter-widgets/controls",
      "_model_module_version": "1.5.0",
      "_model_name": "IntProgressModel",
      "_view_count": null,
      "_view_module": "@jupyter-widgets/controls",
      "_view_module_version": "1.5.0",
      "_view_name": "ProgressView",
      "bar_style": "success",
      "description": "100.00%",
      "description_tooltip": null,
      "layout": "IPY_MODEL_1e8ac4b015f24cb38b6047950738fe7c",
      "max": 4609,
      "min": 0,
      "orientation": "horizontal",
      "style": "IPY_MODEL_b30608ff17b14405ba62268f6c482c90",
      "value": 4609
     }
    },
    "7980d30a4016474e8cb2e4e1f751db5d": {
     "model_module": "@jupyter-widgets/base",
     "model_module_version": "1.2.0",
     "model_name": "LayoutModel",
     "state": {
      "_model_module": "@jupyter-widgets/base",
      "_model_module_version": "1.2.0",
      "_model_name": "LayoutModel",
      "_view_count": null,
      "_view_module": "@jupyter-widgets/base",
      "_view_module_version": "1.2.0",
      "_view_name": "LayoutView",
      "align_content": null,
      "align_items": null,
      "align_self": null,
      "border": null,
      "bottom": null,
      "display": null,
      "flex": null,
      "flex_flow": null,
      "grid_area": null,
      "grid_auto_columns": null,
      "grid_auto_flow": null,
      "grid_auto_rows": null,
      "grid_column": null,
      "grid_gap": null,
      "grid_row": null,
      "grid_template_areas": null,
      "grid_template_columns": null,
      "grid_template_rows": null,
      "height": null,
      "justify_content": null,
      "justify_items": null,
      "left": null,
      "margin": null,
      "max_height": null,
      "max_width": null,
      "min_height": null,
      "min_width": null,
      "object_fit": null,
      "object_position": null,
      "order": null,
      "overflow": null,
      "overflow_x": null,
      "overflow_y": null,
      "padding": null,
      "right": null,
      "top": null,
      "visibility": null,
      "width": null
     }
    },
    "7c54bdae22e847bbbe980784d684b614": {
     "model_module": "@jupyter-widgets/controls",
     "model_module_version": "1.5.0",
     "model_name": "LabelModel",
     "state": {
      "_dom_classes": [],
      "_model_module": "@jupyter-widgets/controls",
      "_model_module_version": "1.5.0",
      "_model_name": "LabelModel",
      "_view_count": null,
      "_view_module": "@jupyter-widgets/controls",
      "_view_module_version": "1.5.0",
      "_view_name": "LabelView",
      "description": "",
      "description_tooltip": null,
      "layout": "IPY_MODEL_2165f9784dd344c59adf4632f1a06b36",
      "placeholder": "​",
      "style": "IPY_MODEL_d3f8badcc4864133885e56c5356a03e9",
      "value": "4609 / 4609"
     }
    },
    "7e730325ae424e278262dc44e1ba5a32": {
     "model_module": "@jupyter-widgets/base",
     "model_module_version": "1.2.0",
     "model_name": "LayoutModel",
     "state": {
      "_model_module": "@jupyter-widgets/base",
      "_model_module_version": "1.2.0",
      "_model_name": "LayoutModel",
      "_view_count": null,
      "_view_module": "@jupyter-widgets/base",
      "_view_module_version": "1.2.0",
      "_view_name": "LayoutView",
      "align_content": null,
      "align_items": null,
      "align_self": null,
      "border": null,
      "bottom": null,
      "display": null,
      "flex": null,
      "flex_flow": null,
      "grid_area": null,
      "grid_auto_columns": null,
      "grid_auto_flow": null,
      "grid_auto_rows": null,
      "grid_column": null,
      "grid_gap": null,
      "grid_row": null,
      "grid_template_areas": null,
      "grid_template_columns": null,
      "grid_template_rows": null,
      "height": null,
      "justify_content": null,
      "justify_items": null,
      "left": null,
      "margin": null,
      "max_height": null,
      "max_width": null,
      "min_height": null,
      "min_width": null,
      "object_fit": null,
      "object_position": null,
      "order": null,
      "overflow": null,
      "overflow_x": null,
      "overflow_y": null,
      "padding": null,
      "right": null,
      "top": null,
      "visibility": null,
      "width": null
     }
    },
    "7e7ec337cb6741dd9b65dc75a58c0d72": {
     "model_module": "@jupyter-widgets/controls",
     "model_module_version": "1.5.0",
     "model_name": "LabelModel",
     "state": {
      "_dom_classes": [],
      "_model_module": "@jupyter-widgets/controls",
      "_model_module_version": "1.5.0",
      "_model_name": "LabelModel",
      "_view_count": null,
      "_view_module": "@jupyter-widgets/controls",
      "_view_module_version": "1.5.0",
      "_view_name": "LabelView",
      "description": "",
      "description_tooltip": null,
      "layout": "IPY_MODEL_d376d7e42da5419b9b7f521fdfd7f644",
      "placeholder": "​",
      "style": "IPY_MODEL_4d24762275de45dabb232fde4c68015a",
      "value": "4609 / 4609"
     }
    },
    "8045fe4d66604c3ab062de6f4cc8de95": {
     "model_module": "@jupyter-widgets/controls",
     "model_module_version": "1.5.0",
     "model_name": "LabelModel",
     "state": {
      "_dom_classes": [],
      "_model_module": "@jupyter-widgets/controls",
      "_model_module_version": "1.5.0",
      "_model_name": "LabelModel",
      "_view_count": null,
      "_view_module": "@jupyter-widgets/controls",
      "_view_module_version": "1.5.0",
      "_view_name": "LabelView",
      "description": "",
      "description_tooltip": null,
      "layout": "IPY_MODEL_288f9879bf3a4850bba8fab93ee39c21",
      "placeholder": "​",
      "style": "IPY_MODEL_12cea1385b5045f2a38873f8fb8af733",
      "value": "4609 / 4609"
     }
    },
    "8749aee83d7e40ae9e21ff5fc4bffe7c": {
     "model_module": "@jupyter-widgets/controls",
     "model_module_version": "1.5.0",
     "model_name": "HBoxModel",
     "state": {
      "_dom_classes": [],
      "_model_module": "@jupyter-widgets/controls",
      "_model_module_version": "1.5.0",
      "_model_name": "HBoxModel",
      "_view_count": null,
      "_view_module": "@jupyter-widgets/controls",
      "_view_module_version": "1.5.0",
      "_view_name": "HBoxView",
      "box_style": "",
      "children": [
       "IPY_MODEL_b618cc6bc537406c9daab81a92869d64",
       "IPY_MODEL_5bf9eaaf66a848b09f7b617c22cca955"
      ],
      "layout": "IPY_MODEL_744ac680a73b45be80c4d69008a21be2"
     }
    },
    "8ce8bb31eee14eeab6da555f4bcd5ee0": {
     "model_module": "@jupyter-widgets/base",
     "model_module_version": "1.2.0",
     "model_name": "LayoutModel",
     "state": {
      "_model_module": "@jupyter-widgets/base",
      "_model_module_version": "1.2.0",
      "_model_name": "LayoutModel",
      "_view_count": null,
      "_view_module": "@jupyter-widgets/base",
      "_view_module_version": "1.2.0",
      "_view_name": "LayoutView",
      "align_content": null,
      "align_items": null,
      "align_self": null,
      "border": null,
      "bottom": null,
      "display": null,
      "flex": null,
      "flex_flow": null,
      "grid_area": null,
      "grid_auto_columns": null,
      "grid_auto_flow": null,
      "grid_auto_rows": null,
      "grid_column": null,
      "grid_gap": null,
      "grid_row": null,
      "grid_template_areas": null,
      "grid_template_columns": null,
      "grid_template_rows": null,
      "height": null,
      "justify_content": null,
      "justify_items": null,
      "left": null,
      "margin": null,
      "max_height": null,
      "max_width": null,
      "min_height": null,
      "min_width": null,
      "object_fit": null,
      "object_position": null,
      "order": null,
      "overflow": null,
      "overflow_x": null,
      "overflow_y": null,
      "padding": null,
      "right": null,
      "top": null,
      "visibility": null,
      "width": null
     }
    },
    "8e34c22d342c4092a60cb9d293980391": {
     "model_module": "@jupyter-widgets/controls",
     "model_module_version": "1.5.0",
     "model_name": "DescriptionStyleModel",
     "state": {
      "_model_module": "@jupyter-widgets/controls",
      "_model_module_version": "1.5.0",
      "_model_name": "DescriptionStyleModel",
      "_view_count": null,
      "_view_module": "@jupyter-widgets/base",
      "_view_module_version": "1.2.0",
      "_view_name": "StyleView",
      "description_width": ""
     }
    },
    "907c908c55114337837895371bc38bca": {
     "model_module": "@jupyter-widgets/base",
     "model_module_version": "1.2.0",
     "model_name": "LayoutModel",
     "state": {
      "_model_module": "@jupyter-widgets/base",
      "_model_module_version": "1.2.0",
      "_model_name": "LayoutModel",
      "_view_count": null,
      "_view_module": "@jupyter-widgets/base",
      "_view_module_version": "1.2.0",
      "_view_name": "LayoutView",
      "align_content": null,
      "align_items": null,
      "align_self": null,
      "border": null,
      "bottom": null,
      "display": null,
      "flex": null,
      "flex_flow": null,
      "grid_area": null,
      "grid_auto_columns": null,
      "grid_auto_flow": null,
      "grid_auto_rows": null,
      "grid_column": null,
      "grid_gap": null,
      "grid_row": null,
      "grid_template_areas": null,
      "grid_template_columns": null,
      "grid_template_rows": null,
      "height": null,
      "justify_content": null,
      "justify_items": null,
      "left": null,
      "margin": null,
      "max_height": null,
      "max_width": null,
      "min_height": null,
      "min_width": null,
      "object_fit": null,
      "object_position": null,
      "order": null,
      "overflow": null,
      "overflow_x": null,
      "overflow_y": null,
      "padding": null,
      "right": null,
      "top": null,
      "visibility": null,
      "width": null
     }
    },
    "908fc38c557e49039d45275c8ada32b8": {
     "model_module": "@jupyter-widgets/controls",
     "model_module_version": "1.5.0",
     "model_name": "LabelModel",
     "state": {
      "_dom_classes": [],
      "_model_module": "@jupyter-widgets/controls",
      "_model_module_version": "1.5.0",
      "_model_name": "LabelModel",
      "_view_count": null,
      "_view_module": "@jupyter-widgets/controls",
      "_view_module_version": "1.5.0",
      "_view_name": "LabelView",
      "description": "",
      "description_tooltip": null,
      "layout": "IPY_MODEL_f2d4c68ff4b64cdeb852eb4a890a53d9",
      "placeholder": "​",
      "style": "IPY_MODEL_f66ebbf207ca45b8a7605afa87cb923c",
      "value": "4609 / 4609"
     }
    },
    "91da75a84a904086903669bb75bb769e": {
     "model_module": "@jupyter-widgets/controls",
     "model_module_version": "1.5.0",
     "model_name": "ProgressStyleModel",
     "state": {
      "_model_module": "@jupyter-widgets/controls",
      "_model_module_version": "1.5.0",
      "_model_name": "ProgressStyleModel",
      "_view_count": null,
      "_view_module": "@jupyter-widgets/base",
      "_view_module_version": "1.2.0",
      "_view_name": "StyleView",
      "bar_color": null,
      "description_width": ""
     }
    },
    "94fa93a9ef4548fe8e08e72e534787a1": {
     "model_module": "@jupyter-widgets/controls",
     "model_module_version": "1.5.0",
     "model_name": "HBoxModel",
     "state": {
      "_dom_classes": [],
      "_model_module": "@jupyter-widgets/controls",
      "_model_module_version": "1.5.0",
      "_model_name": "HBoxModel",
      "_view_count": null,
      "_view_module": "@jupyter-widgets/controls",
      "_view_module_version": "1.5.0",
      "_view_name": "HBoxView",
      "box_style": "",
      "children": [
       "IPY_MODEL_a7151488cfa04f78a136f5cf8fbc8c7a",
       "IPY_MODEL_b82df30484884617af6f5f39da7eea34"
      ],
      "layout": "IPY_MODEL_6f2c906eb5d64fa6b1e2b911a4d0cd53"
     }
    },
    "951aa8920433474885f06430cd6233f2": {
     "model_module": "@jupyter-widgets/controls",
     "model_module_version": "1.5.0",
     "model_name": "LabelModel",
     "state": {
      "_dom_classes": [],
      "_model_module": "@jupyter-widgets/controls",
      "_model_module_version": "1.5.0",
      "_model_name": "LabelModel",
      "_view_count": null,
      "_view_module": "@jupyter-widgets/controls",
      "_view_module_version": "1.5.0",
      "_view_name": "LabelView",
      "description": "",
      "description_tooltip": null,
      "layout": "IPY_MODEL_3745e51c2c3e4d1e8aa9c3477eab9fd2",
      "placeholder": "​",
      "style": "IPY_MODEL_5e5cb6e21c04413aa6ce0c0c6ca56711",
      "value": "4609 / 4609"
     }
    },
    "95ea21a7eac84882a58530c672f4b9b1": {
     "model_module": "@jupyter-widgets/base",
     "model_module_version": "1.2.0",
     "model_name": "LayoutModel",
     "state": {
      "_model_module": "@jupyter-widgets/base",
      "_model_module_version": "1.2.0",
      "_model_name": "LayoutModel",
      "_view_count": null,
      "_view_module": "@jupyter-widgets/base",
      "_view_module_version": "1.2.0",
      "_view_name": "LayoutView",
      "align_content": null,
      "align_items": null,
      "align_self": null,
      "border": null,
      "bottom": null,
      "display": null,
      "flex": null,
      "flex_flow": null,
      "grid_area": null,
      "grid_auto_columns": null,
      "grid_auto_flow": null,
      "grid_auto_rows": null,
      "grid_column": null,
      "grid_gap": null,
      "grid_row": null,
      "grid_template_areas": null,
      "grid_template_columns": null,
      "grid_template_rows": null,
      "height": null,
      "justify_content": null,
      "justify_items": null,
      "left": null,
      "margin": null,
      "max_height": null,
      "max_width": null,
      "min_height": null,
      "min_width": null,
      "object_fit": null,
      "object_position": null,
      "order": null,
      "overflow": null,
      "overflow_x": null,
      "overflow_y": null,
      "padding": null,
      "right": null,
      "top": null,
      "visibility": null,
      "width": null
     }
    },
    "9aee1f3324694f0ea7796cb7fa40d977": {
     "model_module": "@jupyter-widgets/controls",
     "model_module_version": "1.5.0",
     "model_name": "HBoxModel",
     "state": {
      "_dom_classes": [],
      "_model_module": "@jupyter-widgets/controls",
      "_model_module_version": "1.5.0",
      "_model_name": "HBoxModel",
      "_view_count": null,
      "_view_module": "@jupyter-widgets/controls",
      "_view_module_version": "1.5.0",
      "_view_name": "HBoxView",
      "box_style": "",
      "children": [
       "IPY_MODEL_79760910658243eca48f42e6701c90d5",
       "IPY_MODEL_20f83546765c47eb83cefaa96fd9a32a"
      ],
      "layout": "IPY_MODEL_391e10a8a250417580260ecf8e334b9d"
     }
    },
    "9cabf4a34df34928a3a4d89b221b9430": {
     "model_module": "@jupyter-widgets/controls",
     "model_module_version": "1.5.0",
     "model_name": "IntProgressModel",
     "state": {
      "_dom_classes": [],
      "_model_module": "@jupyter-widgets/controls",
      "_model_module_version": "1.5.0",
      "_model_name": "IntProgressModel",
      "_view_count": null,
      "_view_module": "@jupyter-widgets/controls",
      "_view_module_version": "1.5.0",
      "_view_name": "ProgressView",
      "bar_style": "success",
      "description": "100.00%",
      "description_tooltip": null,
      "layout": "IPY_MODEL_ae06e6b4f2964b2daab5acfbb5237021",
      "max": 4609,
      "min": 0,
      "orientation": "horizontal",
      "style": "IPY_MODEL_43d0e29789d34642a626f315f1a369cc",
      "value": 4609
     }
    },
    "9cb8efc19af14b98b2cdbe7801347d94": {
     "model_module": "@jupyter-widgets/controls",
     "model_module_version": "1.5.0",
     "model_name": "LabelModel",
     "state": {
      "_dom_classes": [],
      "_model_module": "@jupyter-widgets/controls",
      "_model_module_version": "1.5.0",
      "_model_name": "LabelModel",
      "_view_count": null,
      "_view_module": "@jupyter-widgets/controls",
      "_view_module_version": "1.5.0",
      "_view_name": "LabelView",
      "description": "",
      "description_tooltip": null,
      "layout": "IPY_MODEL_38ae1f26cec348138b254865c9a7f89a",
      "placeholder": "​",
      "style": "IPY_MODEL_e708bd7d86f84bf68e7eddb04dcc49dd",
      "value": "4609 / 4609"
     }
    },
    "9d95838ae929488d93472f70c26cf9fb": {
     "model_module": "@jupyter-widgets/controls",
     "model_module_version": "1.5.0",
     "model_name": "DescriptionStyleModel",
     "state": {
      "_model_module": "@jupyter-widgets/controls",
      "_model_module_version": "1.5.0",
      "_model_name": "DescriptionStyleModel",
      "_view_count": null,
      "_view_module": "@jupyter-widgets/base",
      "_view_module_version": "1.2.0",
      "_view_name": "StyleView",
      "description_width": ""
     }
    },
    "9f76be1937f14c7e93aa3e2bc4178355": {
     "model_module": "@jupyter-widgets/controls",
     "model_module_version": "1.5.0",
     "model_name": "ProgressStyleModel",
     "state": {
      "_model_module": "@jupyter-widgets/controls",
      "_model_module_version": "1.5.0",
      "_model_name": "ProgressStyleModel",
      "_view_count": null,
      "_view_module": "@jupyter-widgets/base",
      "_view_module_version": "1.2.0",
      "_view_name": "StyleView",
      "bar_color": null,
      "description_width": ""
     }
    },
    "a0dfbe8650764549937f229eb8d953ed": {
     "model_module": "@jupyter-widgets/controls",
     "model_module_version": "1.5.0",
     "model_name": "DescriptionStyleModel",
     "state": {
      "_model_module": "@jupyter-widgets/controls",
      "_model_module_version": "1.5.0",
      "_model_name": "DescriptionStyleModel",
      "_view_count": null,
      "_view_module": "@jupyter-widgets/base",
      "_view_module_version": "1.2.0",
      "_view_name": "StyleView",
      "description_width": ""
     }
    },
    "a12e685317bf4152a555934d76bdbbed": {
     "model_module": "@jupyter-widgets/base",
     "model_module_version": "1.2.0",
     "model_name": "LayoutModel",
     "state": {
      "_model_module": "@jupyter-widgets/base",
      "_model_module_version": "1.2.0",
      "_model_name": "LayoutModel",
      "_view_count": null,
      "_view_module": "@jupyter-widgets/base",
      "_view_module_version": "1.2.0",
      "_view_name": "LayoutView",
      "align_content": null,
      "align_items": null,
      "align_self": null,
      "border": null,
      "bottom": null,
      "display": null,
      "flex": null,
      "flex_flow": null,
      "grid_area": null,
      "grid_auto_columns": null,
      "grid_auto_flow": null,
      "grid_auto_rows": null,
      "grid_column": null,
      "grid_gap": null,
      "grid_row": null,
      "grid_template_areas": null,
      "grid_template_columns": null,
      "grid_template_rows": null,
      "height": null,
      "justify_content": null,
      "justify_items": null,
      "left": null,
      "margin": null,
      "max_height": null,
      "max_width": null,
      "min_height": null,
      "min_width": null,
      "object_fit": null,
      "object_position": null,
      "order": null,
      "overflow": null,
      "overflow_x": null,
      "overflow_y": null,
      "padding": null,
      "right": null,
      "top": null,
      "visibility": null,
      "width": null
     }
    },
    "a192aafa41bc46fcadff624f1a518025": {
     "model_module": "@jupyter-widgets/controls",
     "model_module_version": "1.5.0",
     "model_name": "LabelModel",
     "state": {
      "_dom_classes": [],
      "_model_module": "@jupyter-widgets/controls",
      "_model_module_version": "1.5.0",
      "_model_name": "LabelModel",
      "_view_count": null,
      "_view_module": "@jupyter-widgets/controls",
      "_view_module_version": "1.5.0",
      "_view_name": "LabelView",
      "description": "",
      "description_tooltip": null,
      "layout": "IPY_MODEL_ba755f2f58434c87b44bb5c76b99bdc9",
      "placeholder": "​",
      "style": "IPY_MODEL_8e34c22d342c4092a60cb9d293980391",
      "value": "4609 / 4609"
     }
    },
    "a2ed85840fd44828931d5cb385daeb36": {
     "model_module": "@jupyter-widgets/base",
     "model_module_version": "1.2.0",
     "model_name": "LayoutModel",
     "state": {
      "_model_module": "@jupyter-widgets/base",
      "_model_module_version": "1.2.0",
      "_model_name": "LayoutModel",
      "_view_count": null,
      "_view_module": "@jupyter-widgets/base",
      "_view_module_version": "1.2.0",
      "_view_name": "LayoutView",
      "align_content": null,
      "align_items": null,
      "align_self": null,
      "border": null,
      "bottom": null,
      "display": null,
      "flex": null,
      "flex_flow": null,
      "grid_area": null,
      "grid_auto_columns": null,
      "grid_auto_flow": null,
      "grid_auto_rows": null,
      "grid_column": null,
      "grid_gap": null,
      "grid_row": null,
      "grid_template_areas": null,
      "grid_template_columns": null,
      "grid_template_rows": null,
      "height": null,
      "justify_content": null,
      "justify_items": null,
      "left": null,
      "margin": null,
      "max_height": null,
      "max_width": null,
      "min_height": null,
      "min_width": null,
      "object_fit": null,
      "object_position": null,
      "order": null,
      "overflow": null,
      "overflow_x": null,
      "overflow_y": null,
      "padding": null,
      "right": null,
      "top": null,
      "visibility": null,
      "width": null
     }
    },
    "a46c8b3e23c74d199af8a9c14e5f347b": {
     "model_module": "@jupyter-widgets/controls",
     "model_module_version": "1.5.0",
     "model_name": "IntProgressModel",
     "state": {
      "_dom_classes": [],
      "_model_module": "@jupyter-widgets/controls",
      "_model_module_version": "1.5.0",
      "_model_name": "IntProgressModel",
      "_view_count": null,
      "_view_module": "@jupyter-widgets/controls",
      "_view_module_version": "1.5.0",
      "_view_name": "ProgressView",
      "bar_style": "success",
      "description": "100.00%",
      "description_tooltip": null,
      "layout": "IPY_MODEL_4831041584ad48c087eec98f887631f2",
      "max": 4608,
      "min": 0,
      "orientation": "horizontal",
      "style": "IPY_MODEL_c08a5123f67d49cca97f7a8396a627b0",
      "value": 4608
     }
    },
    "a4ca1f5d3da343cda76e8ff1a2b863db": {
     "model_module": "@jupyter-widgets/base",
     "model_module_version": "1.2.0",
     "model_name": "LayoutModel",
     "state": {
      "_model_module": "@jupyter-widgets/base",
      "_model_module_version": "1.2.0",
      "_model_name": "LayoutModel",
      "_view_count": null,
      "_view_module": "@jupyter-widgets/base",
      "_view_module_version": "1.2.0",
      "_view_name": "LayoutView",
      "align_content": null,
      "align_items": null,
      "align_self": null,
      "border": null,
      "bottom": null,
      "display": null,
      "flex": null,
      "flex_flow": null,
      "grid_area": null,
      "grid_auto_columns": null,
      "grid_auto_flow": null,
      "grid_auto_rows": null,
      "grid_column": null,
      "grid_gap": null,
      "grid_row": null,
      "grid_template_areas": null,
      "grid_template_columns": null,
      "grid_template_rows": null,
      "height": null,
      "justify_content": null,
      "justify_items": null,
      "left": null,
      "margin": null,
      "max_height": null,
      "max_width": null,
      "min_height": null,
      "min_width": null,
      "object_fit": null,
      "object_position": null,
      "order": null,
      "overflow": null,
      "overflow_x": null,
      "overflow_y": null,
      "padding": null,
      "right": null,
      "top": null,
      "visibility": null,
      "width": null
     }
    },
    "a7151488cfa04f78a136f5cf8fbc8c7a": {
     "model_module": "@jupyter-widgets/controls",
     "model_module_version": "1.5.0",
     "model_name": "IntProgressModel",
     "state": {
      "_dom_classes": [],
      "_model_module": "@jupyter-widgets/controls",
      "_model_module_version": "1.5.0",
      "_model_name": "IntProgressModel",
      "_view_count": null,
      "_view_module": "@jupyter-widgets/controls",
      "_view_module_version": "1.5.0",
      "_view_name": "ProgressView",
      "bar_style": "success",
      "description": "100.00%",
      "description_tooltip": null,
      "layout": "IPY_MODEL_11f981c1da784f6a9fa50c19c8d3d9fe",
      "max": 4609,
      "min": 0,
      "orientation": "horizontal",
      "style": "IPY_MODEL_91da75a84a904086903669bb75bb769e",
      "value": 4609
     }
    },
    "a7588db00a8d42218feda66ef6c41936": {
     "model_module": "@jupyter-widgets/controls",
     "model_module_version": "1.5.0",
     "model_name": "IntProgressModel",
     "state": {
      "_dom_classes": [],
      "_model_module": "@jupyter-widgets/controls",
      "_model_module_version": "1.5.0",
      "_model_name": "IntProgressModel",
      "_view_count": null,
      "_view_module": "@jupyter-widgets/controls",
      "_view_module_version": "1.5.0",
      "_view_name": "ProgressView",
      "bar_style": "success",
      "description": "100.00%",
      "description_tooltip": null,
      "layout": "IPY_MODEL_0290499a15da49f28b2f2b0f6433804a",
      "max": 4609,
      "min": 0,
      "orientation": "horizontal",
      "style": "IPY_MODEL_bead4b4c39904e87b2bf4ac46969e445",
      "value": 4609
     }
    },
    "a7c437527a894a5ba9a57fd2a77593f4": {
     "model_module": "@jupyter-widgets/base",
     "model_module_version": "1.2.0",
     "model_name": "LayoutModel",
     "state": {
      "_model_module": "@jupyter-widgets/base",
      "_model_module_version": "1.2.0",
      "_model_name": "LayoutModel",
      "_view_count": null,
      "_view_module": "@jupyter-widgets/base",
      "_view_module_version": "1.2.0",
      "_view_name": "LayoutView",
      "align_content": null,
      "align_items": null,
      "align_self": null,
      "border": null,
      "bottom": null,
      "display": null,
      "flex": null,
      "flex_flow": null,
      "grid_area": null,
      "grid_auto_columns": null,
      "grid_auto_flow": null,
      "grid_auto_rows": null,
      "grid_column": null,
      "grid_gap": null,
      "grid_row": null,
      "grid_template_areas": null,
      "grid_template_columns": null,
      "grid_template_rows": null,
      "height": null,
      "justify_content": null,
      "justify_items": null,
      "left": null,
      "margin": null,
      "max_height": null,
      "max_width": null,
      "min_height": null,
      "min_width": null,
      "object_fit": null,
      "object_position": null,
      "order": null,
      "overflow": null,
      "overflow_x": null,
      "overflow_y": null,
      "padding": null,
      "right": null,
      "top": null,
      "visibility": null,
      "width": null
     }
    },
    "a93fa60547024b549ba8390119260653": {
     "model_module": "@jupyter-widgets/base",
     "model_module_version": "1.2.0",
     "model_name": "LayoutModel",
     "state": {
      "_model_module": "@jupyter-widgets/base",
      "_model_module_version": "1.2.0",
      "_model_name": "LayoutModel",
      "_view_count": null,
      "_view_module": "@jupyter-widgets/base",
      "_view_module_version": "1.2.0",
      "_view_name": "LayoutView",
      "align_content": null,
      "align_items": null,
      "align_self": null,
      "border": null,
      "bottom": null,
      "display": null,
      "flex": null,
      "flex_flow": null,
      "grid_area": null,
      "grid_auto_columns": null,
      "grid_auto_flow": null,
      "grid_auto_rows": null,
      "grid_column": null,
      "grid_gap": null,
      "grid_row": null,
      "grid_template_areas": null,
      "grid_template_columns": null,
      "grid_template_rows": null,
      "height": null,
      "justify_content": null,
      "justify_items": null,
      "left": null,
      "margin": null,
      "max_height": null,
      "max_width": null,
      "min_height": null,
      "min_width": null,
      "object_fit": null,
      "object_position": null,
      "order": null,
      "overflow": null,
      "overflow_x": null,
      "overflow_y": null,
      "padding": null,
      "right": null,
      "top": null,
      "visibility": null,
      "width": null
     }
    },
    "ab5786a65a3c4a98828837b0ccf7c8f2": {
     "model_module": "@jupyter-widgets/controls",
     "model_module_version": "1.5.0",
     "model_name": "IntProgressModel",
     "state": {
      "_dom_classes": [],
      "_model_module": "@jupyter-widgets/controls",
      "_model_module_version": "1.5.0",
      "_model_name": "IntProgressModel",
      "_view_count": null,
      "_view_module": "@jupyter-widgets/controls",
      "_view_module_version": "1.5.0",
      "_view_name": "ProgressView",
      "bar_style": "success",
      "description": "100.00%",
      "description_tooltip": null,
      "layout": "IPY_MODEL_6715c2e2b6f54f05af20cc99e2bf560f",
      "max": 4609,
      "min": 0,
      "orientation": "horizontal",
      "style": "IPY_MODEL_4a921fe5c5f94a54ac48a14be24bdbcc",
      "value": 4609
     }
    },
    "ab58d6b45d7f49c582e94fd945259fc7": {
     "model_module": "@jupyter-widgets/base",
     "model_module_version": "1.2.0",
     "model_name": "LayoutModel",
     "state": {
      "_model_module": "@jupyter-widgets/base",
      "_model_module_version": "1.2.0",
      "_model_name": "LayoutModel",
      "_view_count": null,
      "_view_module": "@jupyter-widgets/base",
      "_view_module_version": "1.2.0",
      "_view_name": "LayoutView",
      "align_content": null,
      "align_items": null,
      "align_self": null,
      "border": null,
      "bottom": null,
      "display": null,
      "flex": null,
      "flex_flow": null,
      "grid_area": null,
      "grid_auto_columns": null,
      "grid_auto_flow": null,
      "grid_auto_rows": null,
      "grid_column": null,
      "grid_gap": null,
      "grid_row": null,
      "grid_template_areas": null,
      "grid_template_columns": null,
      "grid_template_rows": null,
      "height": null,
      "justify_content": null,
      "justify_items": null,
      "left": null,
      "margin": null,
      "max_height": null,
      "max_width": null,
      "min_height": null,
      "min_width": null,
      "object_fit": null,
      "object_position": null,
      "order": null,
      "overflow": null,
      "overflow_x": null,
      "overflow_y": null,
      "padding": null,
      "right": null,
      "top": null,
      "visibility": null,
      "width": null
     }
    },
    "ae06e6b4f2964b2daab5acfbb5237021": {
     "model_module": "@jupyter-widgets/base",
     "model_module_version": "1.2.0",
     "model_name": "LayoutModel",
     "state": {
      "_model_module": "@jupyter-widgets/base",
      "_model_module_version": "1.2.0",
      "_model_name": "LayoutModel",
      "_view_count": null,
      "_view_module": "@jupyter-widgets/base",
      "_view_module_version": "1.2.0",
      "_view_name": "LayoutView",
      "align_content": null,
      "align_items": null,
      "align_self": null,
      "border": null,
      "bottom": null,
      "display": null,
      "flex": null,
      "flex_flow": null,
      "grid_area": null,
      "grid_auto_columns": null,
      "grid_auto_flow": null,
      "grid_auto_rows": null,
      "grid_column": null,
      "grid_gap": null,
      "grid_row": null,
      "grid_template_areas": null,
      "grid_template_columns": null,
      "grid_template_rows": null,
      "height": null,
      "justify_content": null,
      "justify_items": null,
      "left": null,
      "margin": null,
      "max_height": null,
      "max_width": null,
      "min_height": null,
      "min_width": null,
      "object_fit": null,
      "object_position": null,
      "order": null,
      "overflow": null,
      "overflow_x": null,
      "overflow_y": null,
      "padding": null,
      "right": null,
      "top": null,
      "visibility": null,
      "width": null
     }
    },
    "aea52e7bda2248adae4e144d9c3704a8": {
     "model_module": "@jupyter-widgets/base",
     "model_module_version": "1.2.0",
     "model_name": "LayoutModel",
     "state": {
      "_model_module": "@jupyter-widgets/base",
      "_model_module_version": "1.2.0",
      "_model_name": "LayoutModel",
      "_view_count": null,
      "_view_module": "@jupyter-widgets/base",
      "_view_module_version": "1.2.0",
      "_view_name": "LayoutView",
      "align_content": null,
      "align_items": null,
      "align_self": null,
      "border": null,
      "bottom": null,
      "display": null,
      "flex": null,
      "flex_flow": null,
      "grid_area": null,
      "grid_auto_columns": null,
      "grid_auto_flow": null,
      "grid_auto_rows": null,
      "grid_column": null,
      "grid_gap": null,
      "grid_row": null,
      "grid_template_areas": null,
      "grid_template_columns": null,
      "grid_template_rows": null,
      "height": null,
      "justify_content": null,
      "justify_items": null,
      "left": null,
      "margin": null,
      "max_height": null,
      "max_width": null,
      "min_height": null,
      "min_width": null,
      "object_fit": null,
      "object_position": null,
      "order": null,
      "overflow": null,
      "overflow_x": null,
      "overflow_y": null,
      "padding": null,
      "right": null,
      "top": null,
      "visibility": null,
      "width": null
     }
    },
    "aef600d320054d28b9241f89d1858c5f": {
     "model_module": "@jupyter-widgets/controls",
     "model_module_version": "1.5.0",
     "model_name": "LabelModel",
     "state": {
      "_dom_classes": [],
      "_model_module": "@jupyter-widgets/controls",
      "_model_module_version": "1.5.0",
      "_model_name": "LabelModel",
      "_view_count": null,
      "_view_module": "@jupyter-widgets/controls",
      "_view_module_version": "1.5.0",
      "_view_name": "LabelView",
      "description": "",
      "description_tooltip": null,
      "layout": "IPY_MODEL_f8162753143846549aa13afc76446caf",
      "placeholder": "​",
      "style": "IPY_MODEL_6ad78e51deb0493bbcccd69d524672c5",
      "value": "4609 / 4609"
     }
    },
    "aef9080215854e32b081efff204a33e6": {
     "model_module": "@jupyter-widgets/controls",
     "model_module_version": "1.5.0",
     "model_name": "LabelModel",
     "state": {
      "_dom_classes": [],
      "_model_module": "@jupyter-widgets/controls",
      "_model_module_version": "1.5.0",
      "_model_name": "LabelModel",
      "_view_count": null,
      "_view_module": "@jupyter-widgets/controls",
      "_view_module_version": "1.5.0",
      "_view_name": "LabelView",
      "description": "",
      "description_tooltip": null,
      "layout": "IPY_MODEL_bdae833a1b4e4b30bcae2293d347de00",
      "placeholder": "​",
      "style": "IPY_MODEL_b33950d35afe45518867ec7d784ed367",
      "value": "4608 / 4608"
     }
    },
    "afd3abcaa44947149cd5f3b3e23095de": {
     "model_module": "@jupyter-widgets/controls",
     "model_module_version": "1.5.0",
     "model_name": "LabelModel",
     "state": {
      "_dom_classes": [],
      "_model_module": "@jupyter-widgets/controls",
      "_model_module_version": "1.5.0",
      "_model_name": "LabelModel",
      "_view_count": null,
      "_view_module": "@jupyter-widgets/controls",
      "_view_module_version": "1.5.0",
      "_view_name": "LabelView",
      "description": "",
      "description_tooltip": null,
      "layout": "IPY_MODEL_f4e8f41d39f04edb92f2ec7c185a795b",
      "placeholder": "​",
      "style": "IPY_MODEL_38351e0952b842c9a95984fdeb294727",
      "value": "4609 / 4609"
     }
    },
    "b043c20486c746ca99da56073a8cba95": {
     "model_module": "@jupyter-widgets/controls",
     "model_module_version": "1.5.0",
     "model_name": "HBoxModel",
     "state": {
      "_dom_classes": [],
      "_model_module": "@jupyter-widgets/controls",
      "_model_module_version": "1.5.0",
      "_model_name": "HBoxModel",
      "_view_count": null,
      "_view_module": "@jupyter-widgets/controls",
      "_view_module_version": "1.5.0",
      "_view_name": "HBoxView",
      "box_style": "",
      "children": [
       "IPY_MODEL_de21f13f915c4ac585038ce1cb015dd7",
       "IPY_MODEL_a192aafa41bc46fcadff624f1a518025"
      ],
      "layout": "IPY_MODEL_7e730325ae424e278262dc44e1ba5a32"
     }
    },
    "b2a14b6a17a94a0b9810ad2624f48512": {
     "model_module": "@jupyter-widgets/base",
     "model_module_version": "1.2.0",
     "model_name": "LayoutModel",
     "state": {
      "_model_module": "@jupyter-widgets/base",
      "_model_module_version": "1.2.0",
      "_model_name": "LayoutModel",
      "_view_count": null,
      "_view_module": "@jupyter-widgets/base",
      "_view_module_version": "1.2.0",
      "_view_name": "LayoutView",
      "align_content": null,
      "align_items": null,
      "align_self": null,
      "border": null,
      "bottom": null,
      "display": null,
      "flex": null,
      "flex_flow": null,
      "grid_area": null,
      "grid_auto_columns": null,
      "grid_auto_flow": null,
      "grid_auto_rows": null,
      "grid_column": null,
      "grid_gap": null,
      "grid_row": null,
      "grid_template_areas": null,
      "grid_template_columns": null,
      "grid_template_rows": null,
      "height": null,
      "justify_content": null,
      "justify_items": null,
      "left": null,
      "margin": null,
      "max_height": null,
      "max_width": null,
      "min_height": null,
      "min_width": null,
      "object_fit": null,
      "object_position": null,
      "order": null,
      "overflow": null,
      "overflow_x": null,
      "overflow_y": null,
      "padding": null,
      "right": null,
      "top": null,
      "visibility": null,
      "width": null
     }
    },
    "b2e98d3ae89d48e1a3010c23e1bdd181": {
     "model_module": "@jupyter-widgets/controls",
     "model_module_version": "1.5.0",
     "model_name": "LabelModel",
     "state": {
      "_dom_classes": [],
      "_model_module": "@jupyter-widgets/controls",
      "_model_module_version": "1.5.0",
      "_model_name": "LabelModel",
      "_view_count": null,
      "_view_module": "@jupyter-widgets/controls",
      "_view_module_version": "1.5.0",
      "_view_name": "LabelView",
      "description": "",
      "description_tooltip": null,
      "layout": "IPY_MODEL_e059241f431c4295af77eafb221982ea",
      "placeholder": "​",
      "style": "IPY_MODEL_5c6a117f13c543d18ddfeee5501cdf4d",
      "value": "4609 / 4609"
     }
    },
    "b305f14fe7b74a4bbfc9bd6d8d5f9617": {
     "model_module": "@jupyter-widgets/base",
     "model_module_version": "1.2.0",
     "model_name": "LayoutModel",
     "state": {
      "_model_module": "@jupyter-widgets/base",
      "_model_module_version": "1.2.0",
      "_model_name": "LayoutModel",
      "_view_count": null,
      "_view_module": "@jupyter-widgets/base",
      "_view_module_version": "1.2.0",
      "_view_name": "LayoutView",
      "align_content": null,
      "align_items": null,
      "align_self": null,
      "border": null,
      "bottom": null,
      "display": null,
      "flex": null,
      "flex_flow": null,
      "grid_area": null,
      "grid_auto_columns": null,
      "grid_auto_flow": null,
      "grid_auto_rows": null,
      "grid_column": null,
      "grid_gap": null,
      "grid_row": null,
      "grid_template_areas": null,
      "grid_template_columns": null,
      "grid_template_rows": null,
      "height": null,
      "justify_content": null,
      "justify_items": null,
      "left": null,
      "margin": null,
      "max_height": null,
      "max_width": null,
      "min_height": null,
      "min_width": null,
      "object_fit": null,
      "object_position": null,
      "order": null,
      "overflow": null,
      "overflow_x": null,
      "overflow_y": null,
      "padding": null,
      "right": null,
      "top": null,
      "visibility": null,
      "width": null
     }
    },
    "b30608ff17b14405ba62268f6c482c90": {
     "model_module": "@jupyter-widgets/controls",
     "model_module_version": "1.5.0",
     "model_name": "ProgressStyleModel",
     "state": {
      "_model_module": "@jupyter-widgets/controls",
      "_model_module_version": "1.5.0",
      "_model_name": "ProgressStyleModel",
      "_view_count": null,
      "_view_module": "@jupyter-widgets/base",
      "_view_module_version": "1.2.0",
      "_view_name": "StyleView",
      "bar_color": null,
      "description_width": ""
     }
    },
    "b33950d35afe45518867ec7d784ed367": {
     "model_module": "@jupyter-widgets/controls",
     "model_module_version": "1.5.0",
     "model_name": "DescriptionStyleModel",
     "state": {
      "_model_module": "@jupyter-widgets/controls",
      "_model_module_version": "1.5.0",
      "_model_name": "DescriptionStyleModel",
      "_view_count": null,
      "_view_module": "@jupyter-widgets/base",
      "_view_module_version": "1.2.0",
      "_view_name": "StyleView",
      "description_width": ""
     }
    },
    "b352f483e4f44e88ae55396ba8e12cc3": {
     "model_module": "@jupyter-widgets/controls",
     "model_module_version": "1.5.0",
     "model_name": "HBoxModel",
     "state": {
      "_dom_classes": [],
      "_model_module": "@jupyter-widgets/controls",
      "_model_module_version": "1.5.0",
      "_model_name": "HBoxModel",
      "_view_count": null,
      "_view_module": "@jupyter-widgets/controls",
      "_view_module_version": "1.5.0",
      "_view_name": "HBoxView",
      "box_style": "",
      "children": [
       "IPY_MODEL_1b4b202d9d7c4e6c8a1c2971eeb8587c",
       "IPY_MODEL_4c1c8a30a9b54b75a9dfce5d60fabe01"
      ],
      "layout": "IPY_MODEL_d2d60fcb9e9348248f615fd0cc0a2e9a"
     }
    },
    "b618cc6bc537406c9daab81a92869d64": {
     "model_module": "@jupyter-widgets/controls",
     "model_module_version": "1.5.0",
     "model_name": "IntProgressModel",
     "state": {
      "_dom_classes": [],
      "_model_module": "@jupyter-widgets/controls",
      "_model_module_version": "1.5.0",
      "_model_name": "IntProgressModel",
      "_view_count": null,
      "_view_module": "@jupyter-widgets/controls",
      "_view_module_version": "1.5.0",
      "_view_name": "ProgressView",
      "bar_style": "success",
      "description": "100.00%",
      "description_tooltip": null,
      "layout": "IPY_MODEL_95ea21a7eac84882a58530c672f4b9b1",
      "max": 4609,
      "min": 0,
      "orientation": "horizontal",
      "style": "IPY_MODEL_f15e605283bd4805ae6de155f07cbec3",
      "value": 4609
     }
    },
    "b82df30484884617af6f5f39da7eea34": {
     "model_module": "@jupyter-widgets/controls",
     "model_module_version": "1.5.0",
     "model_name": "LabelModel",
     "state": {
      "_dom_classes": [],
      "_model_module": "@jupyter-widgets/controls",
      "_model_module_version": "1.5.0",
      "_model_name": "LabelModel",
      "_view_count": null,
      "_view_module": "@jupyter-widgets/controls",
      "_view_module_version": "1.5.0",
      "_view_name": "LabelView",
      "description": "",
      "description_tooltip": null,
      "layout": "IPY_MODEL_c6d339a3779e46f799011c46afe556ce",
      "placeholder": "​",
      "style": "IPY_MODEL_dcb570986d854ad6b24d5b742923cb12",
      "value": "4609 / 4609"
     }
    },
    "b8ff48a8ec064663869ab02f2af7e53a": {
     "model_module": "@jupyter-widgets/base",
     "model_module_version": "1.2.0",
     "model_name": "LayoutModel",
     "state": {
      "_model_module": "@jupyter-widgets/base",
      "_model_module_version": "1.2.0",
      "_model_name": "LayoutModel",
      "_view_count": null,
      "_view_module": "@jupyter-widgets/base",
      "_view_module_version": "1.2.0",
      "_view_name": "LayoutView",
      "align_content": null,
      "align_items": null,
      "align_self": null,
      "border": null,
      "bottom": null,
      "display": null,
      "flex": null,
      "flex_flow": null,
      "grid_area": null,
      "grid_auto_columns": null,
      "grid_auto_flow": null,
      "grid_auto_rows": null,
      "grid_column": null,
      "grid_gap": null,
      "grid_row": null,
      "grid_template_areas": null,
      "grid_template_columns": null,
      "grid_template_rows": null,
      "height": null,
      "justify_content": null,
      "justify_items": null,
      "left": null,
      "margin": null,
      "max_height": null,
      "max_width": null,
      "min_height": null,
      "min_width": null,
      "object_fit": null,
      "object_position": null,
      "order": null,
      "overflow": null,
      "overflow_x": null,
      "overflow_y": null,
      "padding": null,
      "right": null,
      "top": null,
      "visibility": null,
      "width": null
     }
    },
    "ba755f2f58434c87b44bb5c76b99bdc9": {
     "model_module": "@jupyter-widgets/base",
     "model_module_version": "1.2.0",
     "model_name": "LayoutModel",
     "state": {
      "_model_module": "@jupyter-widgets/base",
      "_model_module_version": "1.2.0",
      "_model_name": "LayoutModel",
      "_view_count": null,
      "_view_module": "@jupyter-widgets/base",
      "_view_module_version": "1.2.0",
      "_view_name": "LayoutView",
      "align_content": null,
      "align_items": null,
      "align_self": null,
      "border": null,
      "bottom": null,
      "display": null,
      "flex": null,
      "flex_flow": null,
      "grid_area": null,
      "grid_auto_columns": null,
      "grid_auto_flow": null,
      "grid_auto_rows": null,
      "grid_column": null,
      "grid_gap": null,
      "grid_row": null,
      "grid_template_areas": null,
      "grid_template_columns": null,
      "grid_template_rows": null,
      "height": null,
      "justify_content": null,
      "justify_items": null,
      "left": null,
      "margin": null,
      "max_height": null,
      "max_width": null,
      "min_height": null,
      "min_width": null,
      "object_fit": null,
      "object_position": null,
      "order": null,
      "overflow": null,
      "overflow_x": null,
      "overflow_y": null,
      "padding": null,
      "right": null,
      "top": null,
      "visibility": null,
      "width": null
     }
    },
    "ba759d88422742619d89002c248d82c4": {
     "model_module": "@jupyter-widgets/controls",
     "model_module_version": "1.5.0",
     "model_name": "ProgressStyleModel",
     "state": {
      "_model_module": "@jupyter-widgets/controls",
      "_model_module_version": "1.5.0",
      "_model_name": "ProgressStyleModel",
      "_view_count": null,
      "_view_module": "@jupyter-widgets/base",
      "_view_module_version": "1.2.0",
      "_view_name": "StyleView",
      "bar_color": null,
      "description_width": ""
     }
    },
    "bd62a70aecde450797ce78f8cf3bdd22": {
     "model_module": "@jupyter-widgets/controls",
     "model_module_version": "1.5.0",
     "model_name": "ProgressStyleModel",
     "state": {
      "_model_module": "@jupyter-widgets/controls",
      "_model_module_version": "1.5.0",
      "_model_name": "ProgressStyleModel",
      "_view_count": null,
      "_view_module": "@jupyter-widgets/base",
      "_view_module_version": "1.2.0",
      "_view_name": "StyleView",
      "bar_color": null,
      "description_width": ""
     }
    },
    "bdae833a1b4e4b30bcae2293d347de00": {
     "model_module": "@jupyter-widgets/base",
     "model_module_version": "1.2.0",
     "model_name": "LayoutModel",
     "state": {
      "_model_module": "@jupyter-widgets/base",
      "_model_module_version": "1.2.0",
      "_model_name": "LayoutModel",
      "_view_count": null,
      "_view_module": "@jupyter-widgets/base",
      "_view_module_version": "1.2.0",
      "_view_name": "LayoutView",
      "align_content": null,
      "align_items": null,
      "align_self": null,
      "border": null,
      "bottom": null,
      "display": null,
      "flex": null,
      "flex_flow": null,
      "grid_area": null,
      "grid_auto_columns": null,
      "grid_auto_flow": null,
      "grid_auto_rows": null,
      "grid_column": null,
      "grid_gap": null,
      "grid_row": null,
      "grid_template_areas": null,
      "grid_template_columns": null,
      "grid_template_rows": null,
      "height": null,
      "justify_content": null,
      "justify_items": null,
      "left": null,
      "margin": null,
      "max_height": null,
      "max_width": null,
      "min_height": null,
      "min_width": null,
      "object_fit": null,
      "object_position": null,
      "order": null,
      "overflow": null,
      "overflow_x": null,
      "overflow_y": null,
      "padding": null,
      "right": null,
      "top": null,
      "visibility": null,
      "width": null
     }
    },
    "bead4b4c39904e87b2bf4ac46969e445": {
     "model_module": "@jupyter-widgets/controls",
     "model_module_version": "1.5.0",
     "model_name": "ProgressStyleModel",
     "state": {
      "_model_module": "@jupyter-widgets/controls",
      "_model_module_version": "1.5.0",
      "_model_name": "ProgressStyleModel",
      "_view_count": null,
      "_view_module": "@jupyter-widgets/base",
      "_view_module_version": "1.2.0",
      "_view_name": "StyleView",
      "bar_color": null,
      "description_width": ""
     }
    },
    "bfb6e16e5a284858abfa38c0fbfd4179": {
     "model_module": "@jupyter-widgets/controls",
     "model_module_version": "1.5.0",
     "model_name": "IntProgressModel",
     "state": {
      "_dom_classes": [],
      "_model_module": "@jupyter-widgets/controls",
      "_model_module_version": "1.5.0",
      "_model_name": "IntProgressModel",
      "_view_count": null,
      "_view_module": "@jupyter-widgets/controls",
      "_view_module_version": "1.5.0",
      "_view_name": "ProgressView",
      "bar_style": "success",
      "description": "100.00%",
      "description_tooltip": null,
      "layout": "IPY_MODEL_77ddfc764cd14f598007305fd556060d",
      "max": 4609,
      "min": 0,
      "orientation": "horizontal",
      "style": "IPY_MODEL_bd62a70aecde450797ce78f8cf3bdd22",
      "value": 4609
     }
    },
    "c08a5123f67d49cca97f7a8396a627b0": {
     "model_module": "@jupyter-widgets/controls",
     "model_module_version": "1.5.0",
     "model_name": "ProgressStyleModel",
     "state": {
      "_model_module": "@jupyter-widgets/controls",
      "_model_module_version": "1.5.0",
      "_model_name": "ProgressStyleModel",
      "_view_count": null,
      "_view_module": "@jupyter-widgets/base",
      "_view_module_version": "1.2.0",
      "_view_name": "StyleView",
      "bar_color": null,
      "description_width": ""
     }
    },
    "c1b47d4c8d37455f9d82eaad0fbf6407": {
     "model_module": "@jupyter-widgets/controls",
     "model_module_version": "1.5.0",
     "model_name": "VBoxModel",
     "state": {
      "_dom_classes": [],
      "_model_module": "@jupyter-widgets/controls",
      "_model_module_version": "1.5.0",
      "_model_name": "VBoxModel",
      "_view_count": null,
      "_view_module": "@jupyter-widgets/controls",
      "_view_module_version": "1.5.0",
      "_view_name": "VBoxView",
      "box_style": "",
      "children": [
       "IPY_MODEL_21d23f80ebfe404ead9c1ee99df4de9d",
       "IPY_MODEL_8749aee83d7e40ae9e21ff5fc4bffe7c",
       "IPY_MODEL_b352f483e4f44e88ae55396ba8e12cc3",
       "IPY_MODEL_514f07ca386a41b5b58f3c7ad5dfd3b2",
       "IPY_MODEL_4e176d2bd7444a29a0d22f3ff6791f6b",
       "IPY_MODEL_6bbbecffa3d44a448579c96fbec429ad",
       "IPY_MODEL_44dd419b3e394133b0938e155cb0bf45",
       "IPY_MODEL_189081acd2694a95948c86f66af10989",
       "IPY_MODEL_453e9b7235ea4841bb2b4e38527c98b9",
       "IPY_MODEL_42bfb9d5d1fd4b4e8921d56163e2d5c2",
       "IPY_MODEL_dc2c9b6bbcb34fe895034c0a439f5e59",
       "IPY_MODEL_94fa93a9ef4548fe8e08e72e534787a1",
       "IPY_MODEL_1dcf91de326d46cab6e5f16bd9ca321a",
       "IPY_MODEL_5339c1b712cf4127b0c5496a1367b3a4",
       "IPY_MODEL_6ecd07e4f749492d915d0aaacb9558cf",
       "IPY_MODEL_b043c20486c746ca99da56073a8cba95",
       "IPY_MODEL_9aee1f3324694f0ea7796cb7fa40d977",
       "IPY_MODEL_c3000ce028804094a582042cf78278f8",
       "IPY_MODEL_22e6c63fb2f044dd84df5c4667cbd19b",
       "IPY_MODEL_c2e0c6faf2f740ec82de1742bb5a1e2e"
      ],
      "layout": "IPY_MODEL_ddeb0a9001c34fdd937b6fe9b8bcf51a"
     }
    },
    "c238a8d2c95747ebac532473a434f682": {
     "model_module": "@jupyter-widgets/controls",
     "model_module_version": "1.5.0",
     "model_name": "IntProgressModel",
     "state": {
      "_dom_classes": [],
      "_model_module": "@jupyter-widgets/controls",
      "_model_module_version": "1.5.0",
      "_model_name": "IntProgressModel",
      "_view_count": null,
      "_view_module": "@jupyter-widgets/controls",
      "_view_module_version": "1.5.0",
      "_view_name": "ProgressView",
      "bar_style": "success",
      "description": "100.00%",
      "description_tooltip": null,
      "layout": "IPY_MODEL_a2ed85840fd44828931d5cb385daeb36",
      "max": 4609,
      "min": 0,
      "orientation": "horizontal",
      "style": "IPY_MODEL_2cf02c9430eb496e8757b2b7b3cdc7fc",
      "value": 4609
     }
    },
    "c2e0c6faf2f740ec82de1742bb5a1e2e": {
     "model_module": "@jupyter-widgets/controls",
     "model_module_version": "1.5.0",
     "model_name": "HBoxModel",
     "state": {
      "_dom_classes": [],
      "_model_module": "@jupyter-widgets/controls",
      "_model_module_version": "1.5.0",
      "_model_name": "HBoxModel",
      "_view_count": null,
      "_view_module": "@jupyter-widgets/controls",
      "_view_module_version": "1.5.0",
      "_view_name": "HBoxView",
      "box_style": "",
      "children": [
       "IPY_MODEL_5a75faabd7474e4c85f002b43af755c4",
       "IPY_MODEL_4a8e484da4ad422fa05afc53a07c9716"
      ],
      "layout": "IPY_MODEL_6f2d84a53f3440da8a05586e60fae153"
     }
    },
    "c3000ce028804094a582042cf78278f8": {
     "model_module": "@jupyter-widgets/controls",
     "model_module_version": "1.5.0",
     "model_name": "HBoxModel",
     "state": {
      "_dom_classes": [],
      "_model_module": "@jupyter-widgets/controls",
      "_model_module_version": "1.5.0",
      "_model_name": "HBoxModel",
      "_view_count": null,
      "_view_module": "@jupyter-widgets/controls",
      "_view_module_version": "1.5.0",
      "_view_name": "HBoxView",
      "box_style": "",
      "children": [
       "IPY_MODEL_a46c8b3e23c74d199af8a9c14e5f347b",
       "IPY_MODEL_fd07b0b8743f43e58117a730694c7edc"
      ],
      "layout": "IPY_MODEL_b2a14b6a17a94a0b9810ad2624f48512"
     }
    },
    "c6d339a3779e46f799011c46afe556ce": {
     "model_module": "@jupyter-widgets/base",
     "model_module_version": "1.2.0",
     "model_name": "LayoutModel",
     "state": {
      "_model_module": "@jupyter-widgets/base",
      "_model_module_version": "1.2.0",
      "_model_name": "LayoutModel",
      "_view_count": null,
      "_view_module": "@jupyter-widgets/base",
      "_view_module_version": "1.2.0",
      "_view_name": "LayoutView",
      "align_content": null,
      "align_items": null,
      "align_self": null,
      "border": null,
      "bottom": null,
      "display": null,
      "flex": null,
      "flex_flow": null,
      "grid_area": null,
      "grid_auto_columns": null,
      "grid_auto_flow": null,
      "grid_auto_rows": null,
      "grid_column": null,
      "grid_gap": null,
      "grid_row": null,
      "grid_template_areas": null,
      "grid_template_columns": null,
      "grid_template_rows": null,
      "height": null,
      "justify_content": null,
      "justify_items": null,
      "left": null,
      "margin": null,
      "max_height": null,
      "max_width": null,
      "min_height": null,
      "min_width": null,
      "object_fit": null,
      "object_position": null,
      "order": null,
      "overflow": null,
      "overflow_x": null,
      "overflow_y": null,
      "padding": null,
      "right": null,
      "top": null,
      "visibility": null,
      "width": null
     }
    },
    "c8165e44f17a4e579276987a201f6167": {
     "model_module": "@jupyter-widgets/base",
     "model_module_version": "1.2.0",
     "model_name": "LayoutModel",
     "state": {
      "_model_module": "@jupyter-widgets/base",
      "_model_module_version": "1.2.0",
      "_model_name": "LayoutModel",
      "_view_count": null,
      "_view_module": "@jupyter-widgets/base",
      "_view_module_version": "1.2.0",
      "_view_name": "LayoutView",
      "align_content": null,
      "align_items": null,
      "align_self": null,
      "border": null,
      "bottom": null,
      "display": null,
      "flex": null,
      "flex_flow": null,
      "grid_area": null,
      "grid_auto_columns": null,
      "grid_auto_flow": null,
      "grid_auto_rows": null,
      "grid_column": null,
      "grid_gap": null,
      "grid_row": null,
      "grid_template_areas": null,
      "grid_template_columns": null,
      "grid_template_rows": null,
      "height": null,
      "justify_content": null,
      "justify_items": null,
      "left": null,
      "margin": null,
      "max_height": null,
      "max_width": null,
      "min_height": null,
      "min_width": null,
      "object_fit": null,
      "object_position": null,
      "order": null,
      "overflow": null,
      "overflow_x": null,
      "overflow_y": null,
      "padding": null,
      "right": null,
      "top": null,
      "visibility": null,
      "width": null
     }
    },
    "ca2235879b224f7683013a793767bffa": {
     "model_module": "@jupyter-widgets/controls",
     "model_module_version": "1.5.0",
     "model_name": "LabelModel",
     "state": {
      "_dom_classes": [],
      "_model_module": "@jupyter-widgets/controls",
      "_model_module_version": "1.5.0",
      "_model_name": "LabelModel",
      "_view_count": null,
      "_view_module": "@jupyter-widgets/controls",
      "_view_module_version": "1.5.0",
      "_view_name": "LabelView",
      "description": "",
      "description_tooltip": null,
      "layout": "IPY_MODEL_a93fa60547024b549ba8390119260653",
      "placeholder": "​",
      "style": "IPY_MODEL_f1f13119ac04454fbecd9c98719a3688",
      "value": "4609 / 4609"
     }
    },
    "cb4d0343f9be4f4ab94453f1b9357fdc": {
     "model_module": "@jupyter-widgets/controls",
     "model_module_version": "1.5.0",
     "model_name": "IntProgressModel",
     "state": {
      "_dom_classes": [],
      "_model_module": "@jupyter-widgets/controls",
      "_model_module_version": "1.5.0",
      "_model_name": "IntProgressModel",
      "_view_count": null,
      "_view_module": "@jupyter-widgets/controls",
      "_view_module_version": "1.5.0",
      "_view_name": "ProgressView",
      "bar_style": "success",
      "description": "100.00%",
      "description_tooltip": null,
      "layout": "IPY_MODEL_6e2911a21f8a4a88b07705128381bb72",
      "max": 4609,
      "min": 0,
      "orientation": "horizontal",
      "style": "IPY_MODEL_9f76be1937f14c7e93aa3e2bc4178355",
      "value": 4609
     }
    },
    "cc8e45e64cd746ada9b7a8641603b0b7": {
     "model_module": "@jupyter-widgets/controls",
     "model_module_version": "1.5.0",
     "model_name": "ProgressStyleModel",
     "state": {
      "_model_module": "@jupyter-widgets/controls",
      "_model_module_version": "1.5.0",
      "_model_name": "ProgressStyleModel",
      "_view_count": null,
      "_view_module": "@jupyter-widgets/base",
      "_view_module_version": "1.2.0",
      "_view_name": "StyleView",
      "bar_color": null,
      "description_width": ""
     }
    },
    "cecabf3ba09c45eebea5e2e623af9127": {
     "model_module": "@jupyter-widgets/controls",
     "model_module_version": "1.5.0",
     "model_name": "DescriptionStyleModel",
     "state": {
      "_model_module": "@jupyter-widgets/controls",
      "_model_module_version": "1.5.0",
      "_model_name": "DescriptionStyleModel",
      "_view_count": null,
      "_view_module": "@jupyter-widgets/base",
      "_view_module_version": "1.2.0",
      "_view_name": "StyleView",
      "description_width": ""
     }
    },
    "cf072af75e0045fb8630f22432a73478": {
     "model_module": "@jupyter-widgets/base",
     "model_module_version": "1.2.0",
     "model_name": "LayoutModel",
     "state": {
      "_model_module": "@jupyter-widgets/base",
      "_model_module_version": "1.2.0",
      "_model_name": "LayoutModel",
      "_view_count": null,
      "_view_module": "@jupyter-widgets/base",
      "_view_module_version": "1.2.0",
      "_view_name": "LayoutView",
      "align_content": null,
      "align_items": null,
      "align_self": null,
      "border": null,
      "bottom": null,
      "display": null,
      "flex": null,
      "flex_flow": null,
      "grid_area": null,
      "grid_auto_columns": null,
      "grid_auto_flow": null,
      "grid_auto_rows": null,
      "grid_column": null,
      "grid_gap": null,
      "grid_row": null,
      "grid_template_areas": null,
      "grid_template_columns": null,
      "grid_template_rows": null,
      "height": null,
      "justify_content": null,
      "justify_items": null,
      "left": null,
      "margin": null,
      "max_height": null,
      "max_width": null,
      "min_height": null,
      "min_width": null,
      "object_fit": null,
      "object_position": null,
      "order": null,
      "overflow": null,
      "overflow_x": null,
      "overflow_y": null,
      "padding": null,
      "right": null,
      "top": null,
      "visibility": null,
      "width": null
     }
    },
    "d2ccadeb2c8c4f1ea2fc6f3bd3f7c1f0": {
     "model_module": "@jupyter-widgets/controls",
     "model_module_version": "1.5.0",
     "model_name": "IntProgressModel",
     "state": {
      "_dom_classes": [],
      "_model_module": "@jupyter-widgets/controls",
      "_model_module_version": "1.5.0",
      "_model_name": "IntProgressModel",
      "_view_count": null,
      "_view_module": "@jupyter-widgets/controls",
      "_view_module_version": "1.5.0",
      "_view_name": "ProgressView",
      "bar_style": "success",
      "description": "100.00%",
      "description_tooltip": null,
      "layout": "IPY_MODEL_b8ff48a8ec064663869ab02f2af7e53a",
      "max": 4609,
      "min": 0,
      "orientation": "horizontal",
      "style": "IPY_MODEL_182cffa63b7d4e008942674700ea8c46",
      "value": 4609
     }
    },
    "d2d60fcb9e9348248f615fd0cc0a2e9a": {
     "model_module": "@jupyter-widgets/base",
     "model_module_version": "1.2.0",
     "model_name": "LayoutModel",
     "state": {
      "_model_module": "@jupyter-widgets/base",
      "_model_module_version": "1.2.0",
      "_model_name": "LayoutModel",
      "_view_count": null,
      "_view_module": "@jupyter-widgets/base",
      "_view_module_version": "1.2.0",
      "_view_name": "LayoutView",
      "align_content": null,
      "align_items": null,
      "align_self": null,
      "border": null,
      "bottom": null,
      "display": null,
      "flex": null,
      "flex_flow": null,
      "grid_area": null,
      "grid_auto_columns": null,
      "grid_auto_flow": null,
      "grid_auto_rows": null,
      "grid_column": null,
      "grid_gap": null,
      "grid_row": null,
      "grid_template_areas": null,
      "grid_template_columns": null,
      "grid_template_rows": null,
      "height": null,
      "justify_content": null,
      "justify_items": null,
      "left": null,
      "margin": null,
      "max_height": null,
      "max_width": null,
      "min_height": null,
      "min_width": null,
      "object_fit": null,
      "object_position": null,
      "order": null,
      "overflow": null,
      "overflow_x": null,
      "overflow_y": null,
      "padding": null,
      "right": null,
      "top": null,
      "visibility": null,
      "width": null
     }
    },
    "d376d7e42da5419b9b7f521fdfd7f644": {
     "model_module": "@jupyter-widgets/base",
     "model_module_version": "1.2.0",
     "model_name": "LayoutModel",
     "state": {
      "_model_module": "@jupyter-widgets/base",
      "_model_module_version": "1.2.0",
      "_model_name": "LayoutModel",
      "_view_count": null,
      "_view_module": "@jupyter-widgets/base",
      "_view_module_version": "1.2.0",
      "_view_name": "LayoutView",
      "align_content": null,
      "align_items": null,
      "align_self": null,
      "border": null,
      "bottom": null,
      "display": null,
      "flex": null,
      "flex_flow": null,
      "grid_area": null,
      "grid_auto_columns": null,
      "grid_auto_flow": null,
      "grid_auto_rows": null,
      "grid_column": null,
      "grid_gap": null,
      "grid_row": null,
      "grid_template_areas": null,
      "grid_template_columns": null,
      "grid_template_rows": null,
      "height": null,
      "justify_content": null,
      "justify_items": null,
      "left": null,
      "margin": null,
      "max_height": null,
      "max_width": null,
      "min_height": null,
      "min_width": null,
      "object_fit": null,
      "object_position": null,
      "order": null,
      "overflow": null,
      "overflow_x": null,
      "overflow_y": null,
      "padding": null,
      "right": null,
      "top": null,
      "visibility": null,
      "width": null
     }
    },
    "d3f8badcc4864133885e56c5356a03e9": {
     "model_module": "@jupyter-widgets/controls",
     "model_module_version": "1.5.0",
     "model_name": "DescriptionStyleModel",
     "state": {
      "_model_module": "@jupyter-widgets/controls",
      "_model_module_version": "1.5.0",
      "_model_name": "DescriptionStyleModel",
      "_view_count": null,
      "_view_module": "@jupyter-widgets/base",
      "_view_module_version": "1.2.0",
      "_view_name": "StyleView",
      "description_width": ""
     }
    },
    "d408845b84e5427ea1ea45394f954d01": {
     "model_module": "@jupyter-widgets/controls",
     "model_module_version": "1.5.0",
     "model_name": "DescriptionStyleModel",
     "state": {
      "_model_module": "@jupyter-widgets/controls",
      "_model_module_version": "1.5.0",
      "_model_name": "DescriptionStyleModel",
      "_view_count": null,
      "_view_module": "@jupyter-widgets/base",
      "_view_module_version": "1.2.0",
      "_view_name": "StyleView",
      "description_width": ""
     }
    },
    "d5348b89a17e4c268bf8b6c595a7e93a": {
     "model_module": "@jupyter-widgets/controls",
     "model_module_version": "1.5.0",
     "model_name": "ProgressStyleModel",
     "state": {
      "_model_module": "@jupyter-widgets/controls",
      "_model_module_version": "1.5.0",
      "_model_name": "ProgressStyleModel",
      "_view_count": null,
      "_view_module": "@jupyter-widgets/base",
      "_view_module_version": "1.2.0",
      "_view_name": "StyleView",
      "bar_color": null,
      "description_width": ""
     }
    },
    "da99e3c6f13642e7bbf488a2bb095ddc": {
     "model_module": "@jupyter-widgets/base",
     "model_module_version": "1.2.0",
     "model_name": "LayoutModel",
     "state": {
      "_model_module": "@jupyter-widgets/base",
      "_model_module_version": "1.2.0",
      "_model_name": "LayoutModel",
      "_view_count": null,
      "_view_module": "@jupyter-widgets/base",
      "_view_module_version": "1.2.0",
      "_view_name": "LayoutView",
      "align_content": null,
      "align_items": null,
      "align_self": null,
      "border": null,
      "bottom": null,
      "display": null,
      "flex": null,
      "flex_flow": null,
      "grid_area": null,
      "grid_auto_columns": null,
      "grid_auto_flow": null,
      "grid_auto_rows": null,
      "grid_column": null,
      "grid_gap": null,
      "grid_row": null,
      "grid_template_areas": null,
      "grid_template_columns": null,
      "grid_template_rows": null,
      "height": null,
      "justify_content": null,
      "justify_items": null,
      "left": null,
      "margin": null,
      "max_height": null,
      "max_width": null,
      "min_height": null,
      "min_width": null,
      "object_fit": null,
      "object_position": null,
      "order": null,
      "overflow": null,
      "overflow_x": null,
      "overflow_y": null,
      "padding": null,
      "right": null,
      "top": null,
      "visibility": null,
      "width": null
     }
    },
    "db5a0fce0d6e4d23ba7fcf775efc1c97": {
     "model_module": "@jupyter-widgets/controls",
     "model_module_version": "1.5.0",
     "model_name": "DescriptionStyleModel",
     "state": {
      "_model_module": "@jupyter-widgets/controls",
      "_model_module_version": "1.5.0",
      "_model_name": "DescriptionStyleModel",
      "_view_count": null,
      "_view_module": "@jupyter-widgets/base",
      "_view_module_version": "1.2.0",
      "_view_name": "StyleView",
      "description_width": ""
     }
    },
    "dc2c9b6bbcb34fe895034c0a439f5e59": {
     "model_module": "@jupyter-widgets/controls",
     "model_module_version": "1.5.0",
     "model_name": "HBoxModel",
     "state": {
      "_dom_classes": [],
      "_model_module": "@jupyter-widgets/controls",
      "_model_module_version": "1.5.0",
      "_model_name": "HBoxModel",
      "_view_count": null,
      "_view_module": "@jupyter-widgets/controls",
      "_view_module_version": "1.5.0",
      "_view_name": "HBoxView",
      "box_style": "",
      "children": [
       "IPY_MODEL_3ad6188f0681404f9acf738635737801",
       "IPY_MODEL_78bf3fd29a3e4d0290aaa5c4e80b912a"
      ],
      "layout": "IPY_MODEL_ab58d6b45d7f49c582e94fd945259fc7"
     }
    },
    "dcb570986d854ad6b24d5b742923cb12": {
     "model_module": "@jupyter-widgets/controls",
     "model_module_version": "1.5.0",
     "model_name": "DescriptionStyleModel",
     "state": {
      "_model_module": "@jupyter-widgets/controls",
      "_model_module_version": "1.5.0",
      "_model_name": "DescriptionStyleModel",
      "_view_count": null,
      "_view_module": "@jupyter-widgets/base",
      "_view_module_version": "1.2.0",
      "_view_name": "StyleView",
      "description_width": ""
     }
    },
    "dcf0a8c41fe24cf1b5de65b822bcdda8": {
     "model_module": "@jupyter-widgets/base",
     "model_module_version": "1.2.0",
     "model_name": "LayoutModel",
     "state": {
      "_model_module": "@jupyter-widgets/base",
      "_model_module_version": "1.2.0",
      "_model_name": "LayoutModel",
      "_view_count": null,
      "_view_module": "@jupyter-widgets/base",
      "_view_module_version": "1.2.0",
      "_view_name": "LayoutView",
      "align_content": null,
      "align_items": null,
      "align_self": null,
      "border": null,
      "bottom": null,
      "display": null,
      "flex": null,
      "flex_flow": null,
      "grid_area": null,
      "grid_auto_columns": null,
      "grid_auto_flow": null,
      "grid_auto_rows": null,
      "grid_column": null,
      "grid_gap": null,
      "grid_row": null,
      "grid_template_areas": null,
      "grid_template_columns": null,
      "grid_template_rows": null,
      "height": null,
      "justify_content": null,
      "justify_items": null,
      "left": null,
      "margin": null,
      "max_height": null,
      "max_width": null,
      "min_height": null,
      "min_width": null,
      "object_fit": null,
      "object_position": null,
      "order": null,
      "overflow": null,
      "overflow_x": null,
      "overflow_y": null,
      "padding": null,
      "right": null,
      "top": null,
      "visibility": null,
      "width": null
     }
    },
    "ddeb0a9001c34fdd937b6fe9b8bcf51a": {
     "model_module": "@jupyter-widgets/base",
     "model_module_version": "1.2.0",
     "model_name": "LayoutModel",
     "state": {
      "_model_module": "@jupyter-widgets/base",
      "_model_module_version": "1.2.0",
      "_model_name": "LayoutModel",
      "_view_count": null,
      "_view_module": "@jupyter-widgets/base",
      "_view_module_version": "1.2.0",
      "_view_name": "LayoutView",
      "align_content": null,
      "align_items": null,
      "align_self": null,
      "border": null,
      "bottom": null,
      "display": null,
      "flex": null,
      "flex_flow": null,
      "grid_area": null,
      "grid_auto_columns": null,
      "grid_auto_flow": null,
      "grid_auto_rows": null,
      "grid_column": null,
      "grid_gap": null,
      "grid_row": null,
      "grid_template_areas": null,
      "grid_template_columns": null,
      "grid_template_rows": null,
      "height": null,
      "justify_content": null,
      "justify_items": null,
      "left": null,
      "margin": null,
      "max_height": null,
      "max_width": null,
      "min_height": null,
      "min_width": null,
      "object_fit": null,
      "object_position": null,
      "order": null,
      "overflow": null,
      "overflow_x": null,
      "overflow_y": null,
      "padding": null,
      "right": null,
      "top": null,
      "visibility": null,
      "width": null
     }
    },
    "de21f13f915c4ac585038ce1cb015dd7": {
     "model_module": "@jupyter-widgets/controls",
     "model_module_version": "1.5.0",
     "model_name": "IntProgressModel",
     "state": {
      "_dom_classes": [],
      "_model_module": "@jupyter-widgets/controls",
      "_model_module_version": "1.5.0",
      "_model_name": "IntProgressModel",
      "_view_count": null,
      "_view_module": "@jupyter-widgets/controls",
      "_view_module_version": "1.5.0",
      "_view_name": "ProgressView",
      "bar_style": "success",
      "description": "100.00%",
      "description_tooltip": null,
      "layout": "IPY_MODEL_256635e337e74b549ba6d7ab1ce4d99c",
      "max": 4609,
      "min": 0,
      "orientation": "horizontal",
      "style": "IPY_MODEL_62729a6625ec48cfafd9b2939ae7d9f2",
      "value": 4609
     }
    },
    "e059241f431c4295af77eafb221982ea": {
     "model_module": "@jupyter-widgets/base",
     "model_module_version": "1.2.0",
     "model_name": "LayoutModel",
     "state": {
      "_model_module": "@jupyter-widgets/base",
      "_model_module_version": "1.2.0",
      "_model_name": "LayoutModel",
      "_view_count": null,
      "_view_module": "@jupyter-widgets/base",
      "_view_module_version": "1.2.0",
      "_view_name": "LayoutView",
      "align_content": null,
      "align_items": null,
      "align_self": null,
      "border": null,
      "bottom": null,
      "display": null,
      "flex": null,
      "flex_flow": null,
      "grid_area": null,
      "grid_auto_columns": null,
      "grid_auto_flow": null,
      "grid_auto_rows": null,
      "grid_column": null,
      "grid_gap": null,
      "grid_row": null,
      "grid_template_areas": null,
      "grid_template_columns": null,
      "grid_template_rows": null,
      "height": null,
      "justify_content": null,
      "justify_items": null,
      "left": null,
      "margin": null,
      "max_height": null,
      "max_width": null,
      "min_height": null,
      "min_width": null,
      "object_fit": null,
      "object_position": null,
      "order": null,
      "overflow": null,
      "overflow_x": null,
      "overflow_y": null,
      "padding": null,
      "right": null,
      "top": null,
      "visibility": null,
      "width": null
     }
    },
    "e708bd7d86f84bf68e7eddb04dcc49dd": {
     "model_module": "@jupyter-widgets/controls",
     "model_module_version": "1.5.0",
     "model_name": "DescriptionStyleModel",
     "state": {
      "_model_module": "@jupyter-widgets/controls",
      "_model_module_version": "1.5.0",
      "_model_name": "DescriptionStyleModel",
      "_view_count": null,
      "_view_module": "@jupyter-widgets/base",
      "_view_module_version": "1.2.0",
      "_view_name": "StyleView",
      "description_width": ""
     }
    },
    "e7d87581bf0c49e0ab424e4d4fe57329": {
     "model_module": "@jupyter-widgets/base",
     "model_module_version": "1.2.0",
     "model_name": "LayoutModel",
     "state": {
      "_model_module": "@jupyter-widgets/base",
      "_model_module_version": "1.2.0",
      "_model_name": "LayoutModel",
      "_view_count": null,
      "_view_module": "@jupyter-widgets/base",
      "_view_module_version": "1.2.0",
      "_view_name": "LayoutView",
      "align_content": null,
      "align_items": null,
      "align_self": null,
      "border": null,
      "bottom": null,
      "display": null,
      "flex": null,
      "flex_flow": null,
      "grid_area": null,
      "grid_auto_columns": null,
      "grid_auto_flow": null,
      "grid_auto_rows": null,
      "grid_column": null,
      "grid_gap": null,
      "grid_row": null,
      "grid_template_areas": null,
      "grid_template_columns": null,
      "grid_template_rows": null,
      "height": null,
      "justify_content": null,
      "justify_items": null,
      "left": null,
      "margin": null,
      "max_height": null,
      "max_width": null,
      "min_height": null,
      "min_width": null,
      "object_fit": null,
      "object_position": null,
      "order": null,
      "overflow": null,
      "overflow_x": null,
      "overflow_y": null,
      "padding": null,
      "right": null,
      "top": null,
      "visibility": null,
      "width": null
     }
    },
    "ec3d970d7bbd49a2bc51e2bd10c3da4b": {
     "model_module": "@jupyter-widgets/base",
     "model_module_version": "1.2.0",
     "model_name": "LayoutModel",
     "state": {
      "_model_module": "@jupyter-widgets/base",
      "_model_module_version": "1.2.0",
      "_model_name": "LayoutModel",
      "_view_count": null,
      "_view_module": "@jupyter-widgets/base",
      "_view_module_version": "1.2.0",
      "_view_name": "LayoutView",
      "align_content": null,
      "align_items": null,
      "align_self": null,
      "border": null,
      "bottom": null,
      "display": null,
      "flex": null,
      "flex_flow": null,
      "grid_area": null,
      "grid_auto_columns": null,
      "grid_auto_flow": null,
      "grid_auto_rows": null,
      "grid_column": null,
      "grid_gap": null,
      "grid_row": null,
      "grid_template_areas": null,
      "grid_template_columns": null,
      "grid_template_rows": null,
      "height": null,
      "justify_content": null,
      "justify_items": null,
      "left": null,
      "margin": null,
      "max_height": null,
      "max_width": null,
      "min_height": null,
      "min_width": null,
      "object_fit": null,
      "object_position": null,
      "order": null,
      "overflow": null,
      "overflow_x": null,
      "overflow_y": null,
      "padding": null,
      "right": null,
      "top": null,
      "visibility": null,
      "width": null
     }
    },
    "ee074dda55944fe596fc4f537dbe2889": {
     "model_module": "@jupyter-widgets/controls",
     "model_module_version": "1.5.0",
     "model_name": "IntProgressModel",
     "state": {
      "_dom_classes": [],
      "_model_module": "@jupyter-widgets/controls",
      "_model_module_version": "1.5.0",
      "_model_name": "IntProgressModel",
      "_view_count": null,
      "_view_module": "@jupyter-widgets/controls",
      "_view_module_version": "1.5.0",
      "_view_name": "ProgressView",
      "bar_style": "success",
      "description": "100.00%",
      "description_tooltip": null,
      "layout": "IPY_MODEL_dcf0a8c41fe24cf1b5de65b822bcdda8",
      "max": 4608,
      "min": 0,
      "orientation": "horizontal",
      "style": "IPY_MODEL_f610ca4339024baeb2074e36e9444558",
      "value": 4608
     }
    },
    "f15e605283bd4805ae6de155f07cbec3": {
     "model_module": "@jupyter-widgets/controls",
     "model_module_version": "1.5.0",
     "model_name": "ProgressStyleModel",
     "state": {
      "_model_module": "@jupyter-widgets/controls",
      "_model_module_version": "1.5.0",
      "_model_name": "ProgressStyleModel",
      "_view_count": null,
      "_view_module": "@jupyter-widgets/base",
      "_view_module_version": "1.2.0",
      "_view_name": "StyleView",
      "bar_color": null,
      "description_width": ""
     }
    },
    "f1f13119ac04454fbecd9c98719a3688": {
     "model_module": "@jupyter-widgets/controls",
     "model_module_version": "1.5.0",
     "model_name": "DescriptionStyleModel",
     "state": {
      "_model_module": "@jupyter-widgets/controls",
      "_model_module_version": "1.5.0",
      "_model_name": "DescriptionStyleModel",
      "_view_count": null,
      "_view_module": "@jupyter-widgets/base",
      "_view_module_version": "1.2.0",
      "_view_name": "StyleView",
      "description_width": ""
     }
    },
    "f25af6eb4f7e4522a3e5e91a1e4408d9": {
     "model_module": "@jupyter-widgets/base",
     "model_module_version": "1.2.0",
     "model_name": "LayoutModel",
     "state": {
      "_model_module": "@jupyter-widgets/base",
      "_model_module_version": "1.2.0",
      "_model_name": "LayoutModel",
      "_view_count": null,
      "_view_module": "@jupyter-widgets/base",
      "_view_module_version": "1.2.0",
      "_view_name": "LayoutView",
      "align_content": null,
      "align_items": null,
      "align_self": null,
      "border": null,
      "bottom": null,
      "display": null,
      "flex": null,
      "flex_flow": null,
      "grid_area": null,
      "grid_auto_columns": null,
      "grid_auto_flow": null,
      "grid_auto_rows": null,
      "grid_column": null,
      "grid_gap": null,
      "grid_row": null,
      "grid_template_areas": null,
      "grid_template_columns": null,
      "grid_template_rows": null,
      "height": null,
      "justify_content": null,
      "justify_items": null,
      "left": null,
      "margin": null,
      "max_height": null,
      "max_width": null,
      "min_height": null,
      "min_width": null,
      "object_fit": null,
      "object_position": null,
      "order": null,
      "overflow": null,
      "overflow_x": null,
      "overflow_y": null,
      "padding": null,
      "right": null,
      "top": null,
      "visibility": null,
      "width": null
     }
    },
    "f2d4c68ff4b64cdeb852eb4a890a53d9": {
     "model_module": "@jupyter-widgets/base",
     "model_module_version": "1.2.0",
     "model_name": "LayoutModel",
     "state": {
      "_model_module": "@jupyter-widgets/base",
      "_model_module_version": "1.2.0",
      "_model_name": "LayoutModel",
      "_view_count": null,
      "_view_module": "@jupyter-widgets/base",
      "_view_module_version": "1.2.0",
      "_view_name": "LayoutView",
      "align_content": null,
      "align_items": null,
      "align_self": null,
      "border": null,
      "bottom": null,
      "display": null,
      "flex": null,
      "flex_flow": null,
      "grid_area": null,
      "grid_auto_columns": null,
      "grid_auto_flow": null,
      "grid_auto_rows": null,
      "grid_column": null,
      "grid_gap": null,
      "grid_row": null,
      "grid_template_areas": null,
      "grid_template_columns": null,
      "grid_template_rows": null,
      "height": null,
      "justify_content": null,
      "justify_items": null,
      "left": null,
      "margin": null,
      "max_height": null,
      "max_width": null,
      "min_height": null,
      "min_width": null,
      "object_fit": null,
      "object_position": null,
      "order": null,
      "overflow": null,
      "overflow_x": null,
      "overflow_y": null,
      "padding": null,
      "right": null,
      "top": null,
      "visibility": null,
      "width": null
     }
    },
    "f3947e5a5ad84ceb87cb75e3c537cbdc": {
     "model_module": "@jupyter-widgets/base",
     "model_module_version": "1.2.0",
     "model_name": "LayoutModel",
     "state": {
      "_model_module": "@jupyter-widgets/base",
      "_model_module_version": "1.2.0",
      "_model_name": "LayoutModel",
      "_view_count": null,
      "_view_module": "@jupyter-widgets/base",
      "_view_module_version": "1.2.0",
      "_view_name": "LayoutView",
      "align_content": null,
      "align_items": null,
      "align_self": null,
      "border": null,
      "bottom": null,
      "display": null,
      "flex": null,
      "flex_flow": null,
      "grid_area": null,
      "grid_auto_columns": null,
      "grid_auto_flow": null,
      "grid_auto_rows": null,
      "grid_column": null,
      "grid_gap": null,
      "grid_row": null,
      "grid_template_areas": null,
      "grid_template_columns": null,
      "grid_template_rows": null,
      "height": null,
      "justify_content": null,
      "justify_items": null,
      "left": null,
      "margin": null,
      "max_height": null,
      "max_width": null,
      "min_height": null,
      "min_width": null,
      "object_fit": null,
      "object_position": null,
      "order": null,
      "overflow": null,
      "overflow_x": null,
      "overflow_y": null,
      "padding": null,
      "right": null,
      "top": null,
      "visibility": null,
      "width": null
     }
    },
    "f4e8f41d39f04edb92f2ec7c185a795b": {
     "model_module": "@jupyter-widgets/base",
     "model_module_version": "1.2.0",
     "model_name": "LayoutModel",
     "state": {
      "_model_module": "@jupyter-widgets/base",
      "_model_module_version": "1.2.0",
      "_model_name": "LayoutModel",
      "_view_count": null,
      "_view_module": "@jupyter-widgets/base",
      "_view_module_version": "1.2.0",
      "_view_name": "LayoutView",
      "align_content": null,
      "align_items": null,
      "align_self": null,
      "border": null,
      "bottom": null,
      "display": null,
      "flex": null,
      "flex_flow": null,
      "grid_area": null,
      "grid_auto_columns": null,
      "grid_auto_flow": null,
      "grid_auto_rows": null,
      "grid_column": null,
      "grid_gap": null,
      "grid_row": null,
      "grid_template_areas": null,
      "grid_template_columns": null,
      "grid_template_rows": null,
      "height": null,
      "justify_content": null,
      "justify_items": null,
      "left": null,
      "margin": null,
      "max_height": null,
      "max_width": null,
      "min_height": null,
      "min_width": null,
      "object_fit": null,
      "object_position": null,
      "order": null,
      "overflow": null,
      "overflow_x": null,
      "overflow_y": null,
      "padding": null,
      "right": null,
      "top": null,
      "visibility": null,
      "width": null
     }
    },
    "f610ca4339024baeb2074e36e9444558": {
     "model_module": "@jupyter-widgets/controls",
     "model_module_version": "1.5.0",
     "model_name": "ProgressStyleModel",
     "state": {
      "_model_module": "@jupyter-widgets/controls",
      "_model_module_version": "1.5.0",
      "_model_name": "ProgressStyleModel",
      "_view_count": null,
      "_view_module": "@jupyter-widgets/base",
      "_view_module_version": "1.2.0",
      "_view_name": "StyleView",
      "bar_color": null,
      "description_width": ""
     }
    },
    "f66ebbf207ca45b8a7605afa87cb923c": {
     "model_module": "@jupyter-widgets/controls",
     "model_module_version": "1.5.0",
     "model_name": "DescriptionStyleModel",
     "state": {
      "_model_module": "@jupyter-widgets/controls",
      "_model_module_version": "1.5.0",
      "_model_name": "DescriptionStyleModel",
      "_view_count": null,
      "_view_module": "@jupyter-widgets/base",
      "_view_module_version": "1.2.0",
      "_view_name": "StyleView",
      "description_width": ""
     }
    },
    "f728d31be12141169d592e223a836342": {
     "model_module": "@jupyter-widgets/controls",
     "model_module_version": "1.5.0",
     "model_name": "ProgressStyleModel",
     "state": {
      "_model_module": "@jupyter-widgets/controls",
      "_model_module_version": "1.5.0",
      "_model_name": "ProgressStyleModel",
      "_view_count": null,
      "_view_module": "@jupyter-widgets/base",
      "_view_module_version": "1.2.0",
      "_view_name": "StyleView",
      "bar_color": null,
      "description_width": ""
     }
    },
    "f8162753143846549aa13afc76446caf": {
     "model_module": "@jupyter-widgets/base",
     "model_module_version": "1.2.0",
     "model_name": "LayoutModel",
     "state": {
      "_model_module": "@jupyter-widgets/base",
      "_model_module_version": "1.2.0",
      "_model_name": "LayoutModel",
      "_view_count": null,
      "_view_module": "@jupyter-widgets/base",
      "_view_module_version": "1.2.0",
      "_view_name": "LayoutView",
      "align_content": null,
      "align_items": null,
      "align_self": null,
      "border": null,
      "bottom": null,
      "display": null,
      "flex": null,
      "flex_flow": null,
      "grid_area": null,
      "grid_auto_columns": null,
      "grid_auto_flow": null,
      "grid_auto_rows": null,
      "grid_column": null,
      "grid_gap": null,
      "grid_row": null,
      "grid_template_areas": null,
      "grid_template_columns": null,
      "grid_template_rows": null,
      "height": null,
      "justify_content": null,
      "justify_items": null,
      "left": null,
      "margin": null,
      "max_height": null,
      "max_width": null,
      "min_height": null,
      "min_width": null,
      "object_fit": null,
      "object_position": null,
      "order": null,
      "overflow": null,
      "overflow_x": null,
      "overflow_y": null,
      "padding": null,
      "right": null,
      "top": null,
      "visibility": null,
      "width": null
     }
    },
    "f8c53f8b9cc741458c8f841d07aaf625": {
     "model_module": "@jupyter-widgets/base",
     "model_module_version": "1.2.0",
     "model_name": "LayoutModel",
     "state": {
      "_model_module": "@jupyter-widgets/base",
      "_model_module_version": "1.2.0",
      "_model_name": "LayoutModel",
      "_view_count": null,
      "_view_module": "@jupyter-widgets/base",
      "_view_module_version": "1.2.0",
      "_view_name": "LayoutView",
      "align_content": null,
      "align_items": null,
      "align_self": null,
      "border": null,
      "bottom": null,
      "display": null,
      "flex": null,
      "flex_flow": null,
      "grid_area": null,
      "grid_auto_columns": null,
      "grid_auto_flow": null,
      "grid_auto_rows": null,
      "grid_column": null,
      "grid_gap": null,
      "grid_row": null,
      "grid_template_areas": null,
      "grid_template_columns": null,
      "grid_template_rows": null,
      "height": null,
      "justify_content": null,
      "justify_items": null,
      "left": null,
      "margin": null,
      "max_height": null,
      "max_width": null,
      "min_height": null,
      "min_width": null,
      "object_fit": null,
      "object_position": null,
      "order": null,
      "overflow": null,
      "overflow_x": null,
      "overflow_y": null,
      "padding": null,
      "right": null,
      "top": null,
      "visibility": null,
      "width": null
     }
    },
    "fd07b0b8743f43e58117a730694c7edc": {
     "model_module": "@jupyter-widgets/controls",
     "model_module_version": "1.5.0",
     "model_name": "LabelModel",
     "state": {
      "_dom_classes": [],
      "_model_module": "@jupyter-widgets/controls",
      "_model_module_version": "1.5.0",
      "_model_name": "LabelModel",
      "_view_count": null,
      "_view_module": "@jupyter-widgets/controls",
      "_view_module_version": "1.5.0",
      "_view_name": "LabelView",
      "description": "",
      "description_tooltip": null,
      "layout": "IPY_MODEL_1d1c85e4a7f140538728f5330a761a77",
      "placeholder": "​",
      "style": "IPY_MODEL_4371afeb05d0409597af170dbc24f0ba",
      "value": "4608 / 4608"
     }
    }
   }
  }
 },
 "nbformat": 4,
 "nbformat_minor": 1
}
